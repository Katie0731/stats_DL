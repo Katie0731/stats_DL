{
  "nbformat": 4,
  "nbformat_minor": 0,
  "metadata": {
    "colab": {
      "name": "캐글에서 구글 드라이브로 바로 다운로드.ipynb",
      "provenance": [],
      "collapsed_sections": [],
      "authorship_tag": "ABX9TyNKt7SAnPKoebFtAAOdYpQL",
      "include_colab_link": true
    },
    "kernelspec": {
      "name": "python3",
      "display_name": "Python 3"
    },
    "language_info": {
      "name": "python"
    },
    "accelerator": "TPU"
  },
  "cells": [
    {
      "cell_type": "markdown",
      "metadata": {
        "id": "view-in-github",
        "colab_type": "text"
      },
      "source": [
        "<a href=\"https://colab.research.google.com/github/Katie0731/stats_DL/blob/main/%EC%BA%90%EA%B8%80%EC%97%90%EC%84%9C_%EA%B5%AC%EA%B8%80_%EB%93%9C%EB%9D%BC%EC%9D%B4%EB%B8%8C%EB%A1%9C_%EB%B0%94%EB%A1%9C_%EB%8B%A4%EC%9A%B4%EB%A1%9C%EB%93%9C.ipynb\" target=\"_parent\"><img src=\"https://colab.research.google.com/assets/colab-badge.svg\" alt=\"Open In Colab\"/></a>"
      ]
    },
    {
      "cell_type": "code",
      "execution_count": 1,
      "metadata": {
        "id": "j0I9qoVBhwuR"
      },
      "outputs": [],
      "source": [
        "import os\n",
        "os.environ['KAGGLE_CONFIG_DIR'] = '/content/drive/MyDrive/DeepLearning'"
      ]
    },
    {
      "cell_type": "code",
      "source": [
        "from google.colab import drive\n",
        "drive.mount('/content/drive')"
      ],
      "metadata": {
        "colab": {
          "base_uri": "https://localhost:8080/"
        },
        "id": "9iEzCEI7hz7U",
        "outputId": "e73e1c6b-fced-4b74-a4fe-30a1f30d6f2d"
      },
      "execution_count": 2,
      "outputs": [
        {
          "output_type": "stream",
          "name": "stdout",
          "text": [
            "Mounted at /content/drive\n"
          ]
        }
      ]
    },
    {
      "cell_type": "code",
      "source": [
        "cd /content/drive/MyDrive/DeepLearning"
      ],
      "metadata": {
        "colab": {
          "base_uri": "https://localhost:8080/"
        },
        "id": "MkaXmI_TiWqn",
        "outputId": "2e00bc1f-00cb-446d-ed62-86c07cd36fc7"
      },
      "execution_count": 3,
      "outputs": [
        {
          "output_type": "stream",
          "name": "stdout",
          "text": [
            "/content/drive/MyDrive/DeepLearning\n"
          ]
        }
      ]
    },
    {
      "cell_type": "code",
      "source": [
        "!kaggle competitions download -c unifesp-x-ray-body-part-classifier"
      ],
      "metadata": {
        "colab": {
          "base_uri": "https://localhost:8080/"
        },
        "id": "j1FhwUbEieqf",
        "outputId": "06d0e751-14fc-4498-999b-89f0dcb9107d"
      },
      "execution_count": 4,
      "outputs": [
        {
          "output_type": "stream",
          "name": "stdout",
          "text": [
            "Downloading unifesp-x-ray-body-part-classifier.zip to /content/drive/MyDrive/DeepLearning\n",
            "100% 29.9G/29.9G [04:52<00:00, 136MB/s]\n",
            "100% 29.9G/29.9G [04:52<00:00, 110MB/s]\n"
          ]
        }
      ]
    },
    {
      "cell_type": "code",
      "source": [
        "# 이렇게 다운로드 받아놓고 왜 파일들이 휴지통으로 갔는지 모르겠다..\n",
        "# 드라이브 용량은 찼는데, 저장경로에 파일이 안보이면 휴지통 가보는 걸로!"
      ],
      "metadata": {
        "id": "l1iApTGNoqIS"
      },
      "execution_count": 1,
      "outputs": []
    }
  ]
}