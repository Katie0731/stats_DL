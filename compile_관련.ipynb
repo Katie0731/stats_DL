{
  "nbformat": 4,
  "nbformat_minor": 0,
  "metadata": {
    "colab": {
      "name": "compile 관련.ipynb",
      "provenance": [],
      "collapsed_sections": [],
      "authorship_tag": "ABX9TyOCI/lD/9U40dXAkeOm+dnA",
      "include_colab_link": true
    },
    "kernelspec": {
      "name": "python3",
      "display_name": "Python 3"
    },
    "language_info": {
      "name": "python"
    }
  },
  "cells": [
    {
      "cell_type": "markdown",
      "metadata": {
        "id": "view-in-github",
        "colab_type": "text"
      },
      "source": [
        "<a href=\"https://colab.research.google.com/github/Katie0731/stats_DL/blob/main/compile_%EA%B4%80%EB%A0%A8.ipynb\" target=\"_parent\"><img src=\"https://colab.research.google.com/assets/colab-badge.svg\" alt=\"Open In Colab\"/></a>"
      ]
    },
    {
      "cell_type": "code",
      "source": [
        "N_SPLITS = 4\n",
        "IMG_HEIGHT = 224\n",
        "IMG_WIDTH = 224\n",
        "BATCH_SIZE = 16\n",
        "EPOCHS = 200    \n",
        "PATIENCE = 8\n",
        "MAX_LR = 1e-5\n",
        "MIN_LR = 1e-6"
      ],
      "metadata": {
        "id": "aeDkQdsuDos-"
      },
      "execution_count": null,
      "outputs": []
    },
    {
      "cell_type": "code",
      "execution_count": 1,
      "metadata": {
        "id": "5OeOXTizClXu"
      },
      "outputs": [],
      "source": [
        "steps_per_epoch = 6\n",
        "validation_steps = 2\n",
        "\n",
        "# steps_per_epoch = len(y_train)//BATCH_SIZE = 1304 // 200 = (6.52) = 6\n",
        "# validation_steps = len(y_valid)//BATCH_SIZE = 434 // 200 = (2.17) = 2"
      ]
    },
    {
      "cell_type": "code",
      "source": [
        "model.compile(optimizer=tfa.optimizers.RectifiedAdam(learning_rate=1e-5,\n",
        "                                                     total_steps=EPOCHS*steps_per_epoch,\n",
        "                                                     warmup_proportion=0.1,\n",
        "                                                     min_lr=1e-6), \n",
        "              loss=tf.losses.CategoricalCrossentropy(),\n",
        "              metrics=['accuracy'])\n",
        "\n",
        "#total_steps= 200*6 = 1200"
      ],
      "metadata": {
        "id": "t998yDuGEuBt"
      },
      "execution_count": null,
      "outputs": []
    },
    {
      "cell_type": "code",
      "source": [
        "my_callbacks = tf.keras.callbacks.EarlyStopping(patience=8, \n",
        "                                                monitor='val_loss', \n",
        "                                                restore_best_weights=True)"
      ],
      "metadata": {
        "id": "5bc2jY6NDm_M"
      },
      "execution_count": null,
      "outputs": []
    },
    {
      "cell_type": "code",
      "source": [
        "tf.config.run_functions_eagerly(True)"
      ],
      "metadata": {
        "id": "so5X2dy8DoNO"
      },
      "execution_count": null,
      "outputs": []
    }
  ]
}