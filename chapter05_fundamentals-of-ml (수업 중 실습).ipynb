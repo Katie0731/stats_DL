{
  "cells": [
    {
      "cell_type": "markdown",
      "metadata": {
        "id": "view-in-github",
        "colab_type": "text"
      },
      "source": [
        "<a href=\"https://colab.research.google.com/github/Katie0731/stats_DL/blob/main/chapter05_fundamentals-of-ml%20(%EC%88%98%EC%97%85%20%EC%A4%91%20%EC%8B%A4%EC%8A%B5).ipynb\" target=\"_parent\"><img src=\"https://colab.research.google.com/assets/colab-badge.svg\" alt=\"Open In Colab\"/></a>"
      ]
    },
    {
      "cell_type": "markdown",
      "metadata": {
        "id": "vw9hz4T4WIw2"
      },
      "source": [
        "This is a companion notebook for the book [Deep Learning with Python, Second Edition](https://www.manning.com/books/deep-learning-with-python-second-edition?a_aid=keras&a_bid=76564dff). For readability, it only contains runnable code blocks and section titles, and omits everything else in the book: text paragraphs, figures, and pseudocode.\n",
        "\n",
        "**If you want to be able to follow what's going on, I recommend reading the notebook side by side with your copy of the book.**\n",
        "\n",
        "This notebook was generated for TensorFlow 2.6."
      ]
    },
    {
      "cell_type": "markdown",
      "metadata": {
        "id": "Uz_EA_QTWIw_"
      },
      "source": [
        "# Fundamentals of machine learning"
      ]
    },
    {
      "cell_type": "markdown",
      "metadata": {
        "id": "W6nAwWwrWIxA"
      },
      "source": [
        "## Generalization: The goal of machine learning"
      ]
    },
    {
      "cell_type": "markdown",
      "metadata": {
        "id": "OyzwXO6QWIxB"
      },
      "source": [
        "### Underfitting and overfitting"
      ]
    },
    {
      "cell_type": "markdown",
      "metadata": {
        "id": "737aGtETWIxC"
      },
      "source": [
        "#### Noisy training data"
      ]
    },
    {
      "cell_type": "markdown",
      "metadata": {
        "id": "w95YcT9pWIxC"
      },
      "source": [
        "#### Ambiguous features"
      ]
    },
    {
      "cell_type": "markdown",
      "metadata": {
        "id": "OhXb0mfGWIxD"
      },
      "source": [
        "#### Rare features and spurious correlations"
      ]
    },
    {
      "cell_type": "markdown",
      "metadata": {
        "id": "uHA8FkPpWIxE"
      },
      "source": [
        "**Adding white-noise channels or all-zeros channels to MNIST**"
      ]
    },
    {
      "cell_type": "code",
      "execution_count": null,
      "metadata": {
        "id": "YPkvwBnIWIxF",
        "outputId": "0ecaa88a-8880-4316-8372-ac56bd743f5b",
        "colab": {
          "base_uri": "https://localhost:8080/"
        }
      },
      "outputs": [
        {
          "output_type": "stream",
          "name": "stdout",
          "text": [
            "Downloading data from https://storage.googleapis.com/tensorflow/tf-keras-datasets/mnist.npz\n",
            "11493376/11490434 [==============================] - 0s 0us/step\n",
            "11501568/11490434 [==============================] - 0s 0us/step\n"
          ]
        }
      ],
      "source": [
        "from tensorflow.keras.datasets import mnist\n",
        "import numpy as np\n",
        "\n",
        "(train_images, train_labels), _ = mnist.load_data()\n",
        "train_images = train_images.reshape((60000, 28 * 28))\n",
        "train_images = train_images.astype(\"float32\") / 255\n",
        "\n",
        "train_images_with_noise_channels = np.concatenate(\n",
        "    [train_images, np.random.random((len(train_images), 784))], axis=1)\n",
        "\n",
        "train_images_with_zeros_channels = np.concatenate(\n",
        "    [train_images, np.zeros((len(train_images), 784))], axis=1)"
      ]
    },
    {
      "cell_type": "code",
      "source": [
        "# np.random.random((len(train_images), 784)) -> random noisy data 같은 개수만큼 추가\n",
        "train_images_with_noise_channels.shape # 784 * 2 = 1568"
      ],
      "metadata": {
        "id": "aUfVdqEeD5P_",
        "outputId": "00b4dd74-d112-4a5e-992b-18a49f8e7642",
        "colab": {
          "base_uri": "https://localhost:8080/"
        }
      },
      "execution_count": null,
      "outputs": [
        {
          "output_type": "execute_result",
          "data": {
            "text/plain": [
              "(60000, 1568)"
            ]
          },
          "metadata": {},
          "execution_count": 2
        }
      ]
    },
    {
      "cell_type": "code",
      "source": [
        "train_images_with_zeros_channels.shape"
      ],
      "metadata": {
        "id": "tuPZfXXhEQ2S",
        "outputId": "dd45fa1e-540a-4e8d-af9a-2f31f1c0a228",
        "colab": {
          "base_uri": "https://localhost:8080/"
        }
      },
      "execution_count": null,
      "outputs": [
        {
          "output_type": "execute_result",
          "data": {
            "text/plain": [
              "(60000, 1568)"
            ]
          },
          "metadata": {},
          "execution_count": 3
        }
      ]
    },
    {
      "cell_type": "markdown",
      "metadata": {
        "id": "KBYrE2fmWIxI"
      },
      "source": [
        "**Training the same model on MNIST data with noise channels or all-zero channels**"
      ]
    },
    {
      "cell_type": "code",
      "execution_count": null,
      "metadata": {
        "id": "ImhIQ959WIxJ",
        "outputId": "15dac813-ab4c-4c2b-dac3-bbad5cafd874",
        "colab": {
          "base_uri": "https://localhost:8080/"
        }
      },
      "outputs": [
        {
          "output_type": "stream",
          "name": "stdout",
          "text": [
            "Epoch 1/10\n",
            "375/375 [==============================] - 3s 6ms/step - loss: 0.6050 - accuracy: 0.8145 - val_loss: 0.2925 - val_accuracy: 0.9081\n",
            "Epoch 2/10\n",
            "375/375 [==============================] - 2s 5ms/step - loss: 0.2454 - accuracy: 0.9244 - val_loss: 0.1952 - val_accuracy: 0.9409\n",
            "Epoch 3/10\n",
            "375/375 [==============================] - 2s 5ms/step - loss: 0.1605 - accuracy: 0.9497 - val_loss: 0.1372 - val_accuracy: 0.9609\n",
            "Epoch 4/10\n",
            "375/375 [==============================] - 2s 5ms/step - loss: 0.1137 - accuracy: 0.9631 - val_loss: 0.1252 - val_accuracy: 0.9631\n",
            "Epoch 5/10\n",
            "375/375 [==============================] - 2s 5ms/step - loss: 0.0836 - accuracy: 0.9746 - val_loss: 0.1246 - val_accuracy: 0.9650\n",
            "Epoch 6/10\n",
            "375/375 [==============================] - 2s 5ms/step - loss: 0.0622 - accuracy: 0.9804 - val_loss: 0.1417 - val_accuracy: 0.9591\n",
            "Epoch 7/10\n",
            "375/375 [==============================] - 2s 5ms/step - loss: 0.0451 - accuracy: 0.9855 - val_loss: 0.1747 - val_accuracy: 0.9534\n",
            "Epoch 8/10\n",
            "375/375 [==============================] - 2s 5ms/step - loss: 0.0351 - accuracy: 0.9887 - val_loss: 0.1357 - val_accuracy: 0.9659\n",
            "Epoch 9/10\n",
            "375/375 [==============================] - 2s 5ms/step - loss: 0.0264 - accuracy: 0.9916 - val_loss: 0.1627 - val_accuracy: 0.9592\n",
            "Epoch 10/10\n",
            "375/375 [==============================] - 2s 5ms/step - loss: 0.0206 - accuracy: 0.9932 - val_loss: 0.1718 - val_accuracy: 0.9588\n",
            "Epoch 1/10\n",
            "375/375 [==============================] - 3s 6ms/step - loss: 0.2862 - accuracy: 0.9161 - val_loss: 0.1465 - val_accuracy: 0.9583\n",
            "Epoch 2/10\n",
            "375/375 [==============================] - 2s 6ms/step - loss: 0.1177 - accuracy: 0.9646 - val_loss: 0.1076 - val_accuracy: 0.9678\n",
            "Epoch 3/10\n",
            "375/375 [==============================] - 2s 6ms/step - loss: 0.0767 - accuracy: 0.9772 - val_loss: 0.0880 - val_accuracy: 0.9738\n",
            "Epoch 4/10\n",
            "375/375 [==============================] - 3s 7ms/step - loss: 0.0558 - accuracy: 0.9835 - val_loss: 0.0897 - val_accuracy: 0.9725\n",
            "Epoch 5/10\n",
            "375/375 [==============================] - 2s 5ms/step - loss: 0.0413 - accuracy: 0.9879 - val_loss: 0.0818 - val_accuracy: 0.9758\n",
            "Epoch 6/10\n",
            "375/375 [==============================] - 2s 5ms/step - loss: 0.0316 - accuracy: 0.9906 - val_loss: 0.0808 - val_accuracy: 0.9778\n",
            "Epoch 7/10\n",
            "375/375 [==============================] - 2s 5ms/step - loss: 0.0231 - accuracy: 0.9932 - val_loss: 0.0781 - val_accuracy: 0.9803\n",
            "Epoch 8/10\n",
            "375/375 [==============================] - 2s 5ms/step - loss: 0.0177 - accuracy: 0.9949 - val_loss: 0.0970 - val_accuracy: 0.9751\n",
            "Epoch 9/10\n",
            "375/375 [==============================] - 2s 5ms/step - loss: 0.0142 - accuracy: 0.9959 - val_loss: 0.0921 - val_accuracy: 0.9761\n",
            "Epoch 10/10\n",
            "375/375 [==============================] - 2s 5ms/step - loss: 0.0100 - accuracy: 0.9973 - val_loss: 0.0924 - val_accuracy: 0.9787\n"
          ]
        }
      ],
      "source": [
        "from tensorflow import keras\n",
        "from tensorflow.keras import layers\n",
        "\n",
        "# Define the Model\n",
        "def get_model():\n",
        "    model = keras.Sequential([\n",
        "        layers.Dense(512, activation=\"relu\"),\n",
        "        layers.Dense(10, activation=\"softmax\")\n",
        "    ])\n",
        "    model.compile(optimizer=\"rmsprop\",\n",
        "                  loss=\"sparse_categorical_crossentropy\",\n",
        "                  metrics=[\"accuracy\"])\n",
        "    return model\n",
        "\n",
        "model = get_model()\n",
        "history_noise = model.fit(\n",
        "    train_images_with_noise_channels, train_labels,\n",
        "    epochs=10,\n",
        "    batch_size=128,\n",
        "    validation_split=0.2)\n",
        "\n",
        "model = get_model()\n",
        "history_zeros = model.fit(\n",
        "    train_images_with_zeros_channels, train_labels,\n",
        "    epochs=10,\n",
        "    batch_size=128,\n",
        "    validation_split=0.2)"
      ]
    },
    {
      "cell_type": "markdown",
      "source": [
        "#### 375값 어떻게 나오는지!\n",
        "- [ 60000 / 128 (batch size) ] * [ 1 - 0.2(validation_split) ]"
      ],
      "metadata": {
        "id": "MAzm3cBDFPo8"
      }
    },
    {
      "cell_type": "code",
      "source": [
        "model = get_model()\n",
        "history1 = model.fit(\n",
        "    train_images, train_labels,\n",
        "    epochs=10,\n",
        "    batch_size=128,\n",
        "    validation_split=0.2)"
      ],
      "metadata": {
        "id": "nx-y3kqNFPBQ",
        "outputId": "5236548c-30f2-44aa-c5c3-7fc4f529236d",
        "colab": {
          "base_uri": "https://localhost:8080/"
        }
      },
      "execution_count": null,
      "outputs": [
        {
          "output_type": "stream",
          "name": "stdout",
          "text": [
            "Epoch 1/10\n",
            "375/375 [==============================] - 2s 5ms/step - loss: 0.2851 - accuracy: 0.9175 - val_loss: 0.1449 - val_accuracy: 0.9585\n",
            "Epoch 2/10\n",
            "375/375 [==============================] - 2s 4ms/step - loss: 0.1184 - accuracy: 0.9644 - val_loss: 0.1186 - val_accuracy: 0.9638\n",
            "Epoch 3/10\n",
            "375/375 [==============================] - 2s 4ms/step - loss: 0.0768 - accuracy: 0.9771 - val_loss: 0.0931 - val_accuracy: 0.9744\n",
            "Epoch 4/10\n",
            "375/375 [==============================] - 2s 4ms/step - loss: 0.0554 - accuracy: 0.9841 - val_loss: 0.0843 - val_accuracy: 0.9753\n",
            "Epoch 5/10\n",
            "375/375 [==============================] - 2s 4ms/step - loss: 0.0416 - accuracy: 0.9881 - val_loss: 0.0930 - val_accuracy: 0.9732\n",
            "Epoch 6/10\n",
            "375/375 [==============================] - 2s 4ms/step - loss: 0.0301 - accuracy: 0.9918 - val_loss: 0.0833 - val_accuracy: 0.9773\n",
            "Epoch 7/10\n",
            "375/375 [==============================] - 2s 4ms/step - loss: 0.0233 - accuracy: 0.9929 - val_loss: 0.0812 - val_accuracy: 0.9781\n",
            "Epoch 8/10\n",
            "375/375 [==============================] - 2s 4ms/step - loss: 0.0177 - accuracy: 0.9951 - val_loss: 0.0860 - val_accuracy: 0.9796\n",
            "Epoch 9/10\n",
            "375/375 [==============================] - 2s 4ms/step - loss: 0.0137 - accuracy: 0.9961 - val_loss: 0.0841 - val_accuracy: 0.9783\n",
            "Epoch 10/10\n",
            "375/375 [==============================] - 2s 4ms/step - loss: 0.0107 - accuracy: 0.9972 - val_loss: 0.0868 - val_accuracy: 0.9802\n"
          ]
        }
      ]
    },
    {
      "cell_type": "markdown",
      "metadata": {
        "id": "pyRXDw_oWIxL"
      },
      "source": [
        "**Plotting a validation accuracy comparison**"
      ]
    },
    {
      "cell_type": "code",
      "execution_count": null,
      "metadata": {
        "id": "pehVxQuyWIxL",
        "outputId": "84db64be-eb72-4b1e-ac33-7a3c4fee8b9c",
        "colab": {
          "base_uri": "https://localhost:8080/",
          "height": 313
        }
      },
      "outputs": [
        {
          "output_type": "execute_result",
          "data": {
            "text/plain": [
              "<matplotlib.legend.Legend at 0x7fbbd0096150>"
            ]
          },
          "metadata": {},
          "execution_count": 10
        },
        {
          "output_type": "display_data",
          "data": {
            "text/plain": [
              "<Figure size 432x288 with 1 Axes>"
            ],
            "image/png": "[encoded data removed]"
          },
          "metadata": {
            "needs_background": "light"
          }
        }
      ],
      "source": [
        "import matplotlib.pyplot as plt\n",
        "val_acc_noise = history_noise.history[\"val_accuracy\"]\n",
        "val_acc_zeros = history_zeros.history[\"val_accuracy\"]\n",
        "epochs = range(1, 11)\n",
        "plt.plot(epochs, val_acc_noise, \"b-\",\n",
        "         label=\"Validation accuracy with noise channels\")\n",
        "plt.plot(epochs, val_acc_zeros, \"b--\",\n",
        "         label=\"Validation accuracy with zeros channels\")\n",
        "plt.title(\"Effect of noise channels on validation accuracy\")\n",
        "plt.xlabel(\"Epochs\")\n",
        "plt.ylabel(\"Accuracy\")\n",
        "plt.legend()"
      ]
    },
    {
      "cell_type": "code",
      "source": [
        "import matplotlib.pyplot as plt\n",
        "val_acc = history1.history[\"val_accuracy\"]\n",
        "val_acc_zeros = history_zeros.history[\"val_accuracy\"]\n",
        "epochs = range(1, 11)\n",
        "plt.plot(epochs, val_acc, \"b-\",\n",
        "         label=\"Validation accuracy with original data\")\n",
        "plt.plot(epochs, val_acc_zeros, \"b--\",\n",
        "         label=\"Validation accuracy with zeros channels\")\n",
        "plt.title(\"Effect of noise channels on validation accuracy\")\n",
        "plt.xlabel(\"Epochs\")\n",
        "plt.ylabel(\"Accuracy\")\n",
        "plt.legend()\n",
        "\n",
        "# looks kind similar with original data"
      ],
      "metadata": {
        "id": "71ekBXC0GUMN",
        "outputId": "94ccc924-acf0-4e2a-c51c-fdac3ebddbf0",
        "colab": {
          "base_uri": "https://localhost:8080/",
          "height": 313
        }
      },
      "execution_count": null,
      "outputs": [
        {
          "output_type": "execute_result",
          "data": {
            "text/plain": [
              "<matplotlib.legend.Legend at 0x7fbb59a893d0>"
            ]
          },
          "metadata": {},
          "execution_count": 13
        },
        {
          "output_type": "display_data",
          "data": {
            "text/plain": [
              "<Figure size 432x288 with 1 Axes>"
            ],
            "image/png": "[encoded data removed]"
          },
          "metadata": {
            "needs_background": "light"
          }
        }
      ]
    },
    {
      "cell_type": "markdown",
      "metadata": {
        "id": "S440gkjCWIxM"
      },
      "source": [
        "### The nature of generalization in deep learning"
      ]
    },
    {
      "cell_type": "markdown",
      "metadata": {
        "id": "BF0Vv58HWIxN"
      },
      "source": [
        "**Fitting a MNIST model with randomly shuffled labels**"
      ]
    },
    {
      "cell_type": "code",
      "execution_count": null,
      "metadata": {
        "id": "4aYGJalyWIxO",
        "outputId": "e2b8192b-b696-413e-fb3e-f57029df9a10",
        "colab": {
          "base_uri": "https://localhost:8080/"
        }
      },
      "outputs": [
        {
          "output_type": "stream",
          "name": "stdout",
          "text": [
            "Epoch 1/100\n",
            "375/375 [==============================] - 2s 5ms/step - loss: 2.3158 - accuracy: 0.1028 - val_loss: 2.3063 - val_accuracy: 0.1023\n",
            "Epoch 2/100\n",
            "375/375 [==============================] - 2s 4ms/step - loss: 2.3007 - accuracy: 0.1168 - val_loss: 2.3096 - val_accuracy: 0.1047\n",
            "Epoch 3/100\n",
            "375/375 [==============================] - 2s 6ms/step - loss: 2.2922 - accuracy: 0.1262 - val_loss: 2.3151 - val_accuracy: 0.1028\n",
            "Epoch 4/100\n",
            "375/375 [==============================] - 3s 8ms/step - loss: 2.2796 - accuracy: 0.1382 - val_loss: 2.3266 - val_accuracy: 0.1042\n",
            "Epoch 5/100\n",
            "375/375 [==============================] - 2s 6ms/step - loss: 2.2632 - accuracy: 0.1512 - val_loss: 2.3394 - val_accuracy: 0.1009\n",
            "Epoch 6/100\n",
            "375/375 [==============================] - 2s 5ms/step - loss: 2.2437 - accuracy: 0.1664 - val_loss: 2.3469 - val_accuracy: 0.1032\n",
            "Epoch 7/100\n",
            "375/375 [==============================] - 2s 5ms/step - loss: 2.2212 - accuracy: 0.1793 - val_loss: 2.3648 - val_accuracy: 0.0988\n",
            "Epoch 8/100\n",
            "375/375 [==============================] - 2s 5ms/step - loss: 2.1938 - accuracy: 0.1948 - val_loss: 2.3784 - val_accuracy: 0.1010\n",
            "Epoch 9/100\n",
            "375/375 [==============================] - 2s 5ms/step - loss: 2.1663 - accuracy: 0.2104 - val_loss: 2.3991 - val_accuracy: 0.1009\n",
            "Epoch 10/100\n",
            "375/375 [==============================] - 3s 7ms/step - loss: 2.1382 - accuracy: 0.2250 - val_loss: 2.4209 - val_accuracy: 0.0988\n",
            "Epoch 11/100\n",
            "375/375 [==============================] - 2s 5ms/step - loss: 2.1051 - accuracy: 0.2430 - val_loss: 2.4474 - val_accuracy: 0.1042\n",
            "Epoch 12/100\n",
            "375/375 [==============================] - 4s 10ms/step - loss: 2.0742 - accuracy: 0.2544 - val_loss: 2.4656 - val_accuracy: 0.1053\n",
            "Epoch 13/100\n",
            "375/375 [==============================] - 2s 6ms/step - loss: 2.0407 - accuracy: 0.2689 - val_loss: 2.4851 - val_accuracy: 0.1023\n",
            "Epoch 14/100\n",
            "375/375 [==============================] - 2s 5ms/step - loss: 2.0085 - accuracy: 0.2841 - val_loss: 2.5239 - val_accuracy: 0.1031\n",
            "Epoch 15/100\n",
            "375/375 [==============================] - 2s 5ms/step - loss: 1.9752 - accuracy: 0.2985 - val_loss: 2.5573 - val_accuracy: 0.0974\n",
            "Epoch 16/100\n",
            "375/375 [==============================] - 2s 4ms/step - loss: 1.9422 - accuracy: 0.3146 - val_loss: 2.5754 - val_accuracy: 0.1009\n",
            "Epoch 17/100\n",
            "375/375 [==============================] - 2s 5ms/step - loss: 1.9087 - accuracy: 0.3268 - val_loss: 2.6218 - val_accuracy: 0.0996\n",
            "Epoch 18/100\n",
            "375/375 [==============================] - 2s 5ms/step - loss: 1.8769 - accuracy: 0.3399 - val_loss: 2.6354 - val_accuracy: 0.1000\n",
            "Epoch 19/100\n",
            "375/375 [==============================] - 2s 6ms/step - loss: 1.8453 - accuracy: 0.3531 - val_loss: 2.6742 - val_accuracy: 0.0979\n",
            "Epoch 20/100\n",
            "375/375 [==============================] - 2s 7ms/step - loss: 1.8129 - accuracy: 0.3668 - val_loss: 2.7014 - val_accuracy: 0.1013\n",
            "Epoch 21/100\n",
            "375/375 [==============================] - 3s 8ms/step - loss: 1.7816 - accuracy: 0.3788 - val_loss: 2.7535 - val_accuracy: 0.0991\n",
            "Epoch 22/100\n",
            "375/375 [==============================] - 3s 7ms/step - loss: 1.7530 - accuracy: 0.3880 - val_loss: 2.7980 - val_accuracy: 0.0976\n",
            "Epoch 23/100\n",
            "375/375 [==============================] - 2s 5ms/step - loss: 1.7228 - accuracy: 0.4024 - val_loss: 2.8162 - val_accuracy: 0.1013\n",
            "Epoch 24/100\n",
            "375/375 [==============================] - 2s 4ms/step - loss: 1.6935 - accuracy: 0.4123 - val_loss: 2.8506 - val_accuracy: 0.0987\n",
            "Epoch 25/100\n",
            "375/375 [==============================] - 2s 5ms/step - loss: 1.6636 - accuracy: 0.4234 - val_loss: 2.9023 - val_accuracy: 0.1012\n",
            "Epoch 26/100\n",
            "375/375 [==============================] - 2s 6ms/step - loss: 1.6366 - accuracy: 0.4344 - val_loss: 2.9333 - val_accuracy: 0.0988\n",
            "Epoch 27/100\n",
            "375/375 [==============================] - 3s 8ms/step - loss: 1.6086 - accuracy: 0.4446 - val_loss: 2.9928 - val_accuracy: 0.0993\n",
            "Epoch 28/100\n",
            "375/375 [==============================] - 2s 6ms/step - loss: 1.5825 - accuracy: 0.4553 - val_loss: 3.0179 - val_accuracy: 0.1019\n",
            "Epoch 29/100\n",
            "375/375 [==============================] - 2s 6ms/step - loss: 1.5560 - accuracy: 0.4647 - val_loss: 3.0680 - val_accuracy: 0.0988\n",
            "Epoch 30/100\n",
            "375/375 [==============================] - 2s 5ms/step - loss: 1.5310 - accuracy: 0.4741 - val_loss: 3.0958 - val_accuracy: 0.0978\n",
            "Epoch 31/100\n",
            "375/375 [==============================] - 2s 5ms/step - loss: 1.5074 - accuracy: 0.4847 - val_loss: 3.1395 - val_accuracy: 0.1010\n",
            "Epoch 32/100\n",
            "375/375 [==============================] - 2s 5ms/step - loss: 1.4835 - accuracy: 0.4909 - val_loss: 3.1988 - val_accuracy: 0.1017\n",
            "Epoch 33/100\n",
            "375/375 [==============================] - 2s 4ms/step - loss: 1.4586 - accuracy: 0.5004 - val_loss: 3.2634 - val_accuracy: 0.0963\n",
            "Epoch 34/100\n",
            "375/375 [==============================] - 2s 5ms/step - loss: 1.4375 - accuracy: 0.5076 - val_loss: 3.3017 - val_accuracy: 0.0964\n",
            "Epoch 35/100\n",
            "375/375 [==============================] - 2s 4ms/step - loss: 1.4130 - accuracy: 0.5167 - val_loss: 3.3217 - val_accuracy: 0.0976\n",
            "Epoch 36/100\n",
            "375/375 [==============================] - 3s 9ms/step - loss: 1.3912 - accuracy: 0.5251 - val_loss: 3.3660 - val_accuracy: 0.0983\n",
            "Epoch 37/100\n",
            "375/375 [==============================] - 2s 5ms/step - loss: 1.3701 - accuracy: 0.5346 - val_loss: 3.4393 - val_accuracy: 0.0992\n",
            "Epoch 38/100\n",
            "375/375 [==============================] - 2s 5ms/step - loss: 1.3492 - accuracy: 0.5391 - val_loss: 3.4753 - val_accuracy: 0.0992\n",
            "Epoch 39/100\n",
            "375/375 [==============================] - 3s 7ms/step - loss: 1.3296 - accuracy: 0.5466 - val_loss: 3.4976 - val_accuracy: 0.0967\n",
            "Epoch 40/100\n",
            "375/375 [==============================] - 2s 5ms/step - loss: 1.3107 - accuracy: 0.5551 - val_loss: 3.5475 - val_accuracy: 0.0991\n",
            "Epoch 41/100\n",
            "375/375 [==============================] - 2s 5ms/step - loss: 1.2888 - accuracy: 0.5636 - val_loss: 3.5931 - val_accuracy: 0.1017\n",
            "Epoch 42/100\n",
            "375/375 [==============================] - 3s 7ms/step - loss: 1.2692 - accuracy: 0.5694 - val_loss: 3.6413 - val_accuracy: 0.0969\n",
            "Epoch 43/100\n",
            "375/375 [==============================] - 2s 6ms/step - loss: 1.2501 - accuracy: 0.5762 - val_loss: 3.7007 - val_accuracy: 0.0979\n",
            "Epoch 44/100\n",
            "375/375 [==============================] - 2s 5ms/step - loss: 1.2329 - accuracy: 0.5828 - val_loss: 3.7501 - val_accuracy: 0.0987\n",
            "Epoch 45/100\n",
            "375/375 [==============================] - 3s 7ms/step - loss: 1.2152 - accuracy: 0.5910 - val_loss: 3.8364 - val_accuracy: 0.0988\n",
            "Epoch 46/100\n",
            "375/375 [==============================] - 2s 5ms/step - loss: 1.1962 - accuracy: 0.5977 - val_loss: 3.8618 - val_accuracy: 0.0965\n",
            "Epoch 47/100\n",
            "375/375 [==============================] - 2s 7ms/step - loss: 1.1799 - accuracy: 0.6016 - val_loss: 3.9060 - val_accuracy: 0.0999\n",
            "Epoch 48/100\n",
            "375/375 [==============================] - 3s 9ms/step - loss: 1.1624 - accuracy: 0.6090 - val_loss: 3.9317 - val_accuracy: 0.1000\n",
            "Epoch 49/100\n",
            "375/375 [==============================] - 2s 5ms/step - loss: 1.1434 - accuracy: 0.6137 - val_loss: 4.0038 - val_accuracy: 0.0983\n",
            "Epoch 50/100\n",
            "375/375 [==============================] - 2s 5ms/step - loss: 1.1289 - accuracy: 0.6206 - val_loss: 4.0278 - val_accuracy: 0.0986\n",
            "Epoch 51/100\n",
            "375/375 [==============================] - 2s 6ms/step - loss: 1.1097 - accuracy: 0.6250 - val_loss: 4.1304 - val_accuracy: 0.0997\n",
            "Epoch 52/100\n",
            "375/375 [==============================] - 3s 7ms/step - loss: 1.0951 - accuracy: 0.6328 - val_loss: 4.1820 - val_accuracy: 0.0961\n",
            "Epoch 53/100\n",
            "375/375 [==============================] - 2s 5ms/step - loss: 1.0802 - accuracy: 0.6392 - val_loss: 4.1865 - val_accuracy: 0.0979\n",
            "Epoch 54/100\n",
            "375/375 [==============================] - 2s 6ms/step - loss: 1.0646 - accuracy: 0.6421 - val_loss: 4.2627 - val_accuracy: 0.0966\n",
            "Epoch 55/100\n",
            "375/375 [==============================] - 2s 5ms/step - loss: 1.0485 - accuracy: 0.6511 - val_loss: 4.3100 - val_accuracy: 0.0986\n",
            "Epoch 56/100\n",
            "375/375 [==============================] - 3s 7ms/step - loss: 1.0352 - accuracy: 0.6518 - val_loss: 4.3502 - val_accuracy: 0.1002\n",
            "Epoch 57/100\n",
            "375/375 [==============================] - 2s 5ms/step - loss: 1.0192 - accuracy: 0.6605 - val_loss: 4.4474 - val_accuracy: 0.1009\n",
            "Epoch 58/100\n",
            "375/375 [==============================] - 2s 5ms/step - loss: 1.0072 - accuracy: 0.6636 - val_loss: 4.5022 - val_accuracy: 0.0978\n",
            "Epoch 59/100\n",
            "375/375 [==============================] - 2s 6ms/step - loss: 0.9914 - accuracy: 0.6701 - val_loss: 4.5411 - val_accuracy: 0.0996\n",
            "Epoch 60/100\n",
            "375/375 [==============================] - 2s 5ms/step - loss: 0.9759 - accuracy: 0.6744 - val_loss: 4.5985 - val_accuracy: 0.0987\n",
            "Epoch 61/100\n",
            "375/375 [==============================] - 2s 6ms/step - loss: 0.9626 - accuracy: 0.6807 - val_loss: 4.6471 - val_accuracy: 0.0972\n",
            "Epoch 62/100\n",
            "375/375 [==============================] - 2s 5ms/step - loss: 0.9491 - accuracy: 0.6842 - val_loss: 4.7141 - val_accuracy: 0.1000\n",
            "Epoch 63/100\n",
            "375/375 [==============================] - 2s 5ms/step - loss: 0.9372 - accuracy: 0.6867 - val_loss: 4.7293 - val_accuracy: 0.1007\n",
            "Epoch 64/100\n",
            "375/375 [==============================] - 2s 5ms/step - loss: 0.9227 - accuracy: 0.6934 - val_loss: 4.8210 - val_accuracy: 0.0980\n",
            "Epoch 65/100\n",
            "375/375 [==============================] - 2s 5ms/step - loss: 0.9104 - accuracy: 0.6991 - val_loss: 4.8990 - val_accuracy: 0.0979\n",
            "Epoch 66/100\n",
            "375/375 [==============================] - 2s 5ms/step - loss: 0.9005 - accuracy: 0.7010 - val_loss: 4.9505 - val_accuracy: 0.1007\n",
            "Epoch 67/100\n",
            "375/375 [==============================] - 2s 6ms/step - loss: 0.8862 - accuracy: 0.7071 - val_loss: 5.0008 - val_accuracy: 0.0978\n",
            "Epoch 68/100\n",
            "375/375 [==============================] - 3s 8ms/step - loss: 0.8753 - accuracy: 0.7108 - val_loss: 5.0638 - val_accuracy: 0.0978\n",
            "Epoch 69/100\n",
            "375/375 [==============================] - 2s 4ms/step - loss: 0.8637 - accuracy: 0.7136 - val_loss: 5.1193 - val_accuracy: 0.0983\n",
            "Epoch 70/100\n",
            "375/375 [==============================] - 2s 6ms/step - loss: 0.8522 - accuracy: 0.7173 - val_loss: 5.1618 - val_accuracy: 0.0979\n",
            "Epoch 71/100\n",
            "375/375 [==============================] - 2s 5ms/step - loss: 0.8406 - accuracy: 0.7229 - val_loss: 5.2234 - val_accuracy: 0.0976\n",
            "Epoch 72/100\n",
            "375/375 [==============================] - 2s 5ms/step - loss: 0.8282 - accuracy: 0.7270 - val_loss: 5.2742 - val_accuracy: 0.0978\n",
            "Epoch 73/100\n",
            "375/375 [==============================] - 2s 5ms/step - loss: 0.8157 - accuracy: 0.7323 - val_loss: 5.3650 - val_accuracy: 0.0976\n",
            "Epoch 74/100\n",
            "375/375 [==============================] - 2s 5ms/step - loss: 0.8056 - accuracy: 0.7331 - val_loss: 5.3974 - val_accuracy: 0.0973\n",
            "Epoch 75/100\n",
            "375/375 [==============================] - 2s 5ms/step - loss: 0.7960 - accuracy: 0.7377 - val_loss: 5.4180 - val_accuracy: 0.0998\n",
            "Epoch 76/100\n",
            "375/375 [==============================] - 2s 6ms/step - loss: 0.7841 - accuracy: 0.7419 - val_loss: 5.5114 - val_accuracy: 0.0960\n",
            "Epoch 77/100\n",
            "375/375 [==============================] - 2s 4ms/step - loss: 0.7744 - accuracy: 0.7452 - val_loss: 5.6168 - val_accuracy: 0.0975\n",
            "Epoch 78/100\n",
            "375/375 [==============================] - 2s 5ms/step - loss: 0.7670 - accuracy: 0.7465 - val_loss: 5.6080 - val_accuracy: 0.0984\n",
            "Epoch 79/100\n",
            "375/375 [==============================] - 2s 5ms/step - loss: 0.7535 - accuracy: 0.7533 - val_loss: 5.6572 - val_accuracy: 0.0987\n",
            "Epoch 80/100\n",
            "375/375 [==============================] - 2s 5ms/step - loss: 0.7446 - accuracy: 0.7570 - val_loss: 5.7654 - val_accuracy: 0.0953\n",
            "Epoch 81/100\n",
            "375/375 [==============================] - 2s 5ms/step - loss: 0.7333 - accuracy: 0.7587 - val_loss: 5.8328 - val_accuracy: 0.0989\n",
            "Epoch 82/100\n",
            "375/375 [==============================] - 2s 5ms/step - loss: 0.7257 - accuracy: 0.7620 - val_loss: 5.8814 - val_accuracy: 0.1015\n",
            "Epoch 83/100\n",
            "375/375 [==============================] - 2s 5ms/step - loss: 0.7141 - accuracy: 0.7655 - val_loss: 5.9611 - val_accuracy: 0.0955\n",
            "Epoch 84/100\n",
            "375/375 [==============================] - 3s 8ms/step - loss: 0.7058 - accuracy: 0.7683 - val_loss: 6.0070 - val_accuracy: 0.0986\n",
            "Epoch 85/100\n",
            "375/375 [==============================] - 3s 9ms/step - loss: 0.6933 - accuracy: 0.7726 - val_loss: 6.0464 - val_accuracy: 0.0956\n",
            "Epoch 86/100\n",
            "375/375 [==============================] - 2s 5ms/step - loss: 0.6867 - accuracy: 0.7757 - val_loss: 6.1433 - val_accuracy: 0.0961\n",
            "Epoch 87/100\n",
            "375/375 [==============================] - 2s 5ms/step - loss: 0.6763 - accuracy: 0.7789 - val_loss: 6.2235 - val_accuracy: 0.0929\n",
            "Epoch 88/100\n",
            "375/375 [==============================] - 2s 5ms/step - loss: 0.6696 - accuracy: 0.7795 - val_loss: 6.2449 - val_accuracy: 0.0960\n",
            "Epoch 89/100\n",
            "375/375 [==============================] - 2s 6ms/step - loss: 0.6614 - accuracy: 0.7842 - val_loss: 6.3080 - val_accuracy: 0.0999\n",
            "Epoch 90/100\n",
            "375/375 [==============================] - 2s 5ms/step - loss: 0.6521 - accuracy: 0.7878 - val_loss: 6.3780 - val_accuracy: 0.0939\n",
            "Epoch 91/100\n",
            "375/375 [==============================] - 2s 5ms/step - loss: 0.6443 - accuracy: 0.7901 - val_loss: 6.4440 - val_accuracy: 0.0957\n",
            "Epoch 92/100\n",
            "375/375 [==============================] - 2s 5ms/step - loss: 0.6356 - accuracy: 0.7923 - val_loss: 6.5471 - val_accuracy: 0.1005\n",
            "Epoch 93/100\n",
            "375/375 [==============================] - 2s 5ms/step - loss: 0.6259 - accuracy: 0.7954 - val_loss: 6.5990 - val_accuracy: 0.0977\n",
            "Epoch 94/100\n",
            "375/375 [==============================] - 2s 6ms/step - loss: 0.6194 - accuracy: 0.7981 - val_loss: 6.6405 - val_accuracy: 0.0948\n",
            "Epoch 95/100\n",
            "375/375 [==============================] - 2s 6ms/step - loss: 0.6108 - accuracy: 0.7994 - val_loss: 6.7024 - val_accuracy: 0.0972\n",
            "Epoch 96/100\n",
            "375/375 [==============================] - 2s 5ms/step - loss: 0.6026 - accuracy: 0.8033 - val_loss: 6.7267 - val_accuracy: 0.0943\n",
            "Epoch 97/100\n",
            "375/375 [==============================] - 2s 5ms/step - loss: 0.5946 - accuracy: 0.8070 - val_loss: 6.8700 - val_accuracy: 0.0997\n",
            "Epoch 98/100\n",
            "375/375 [==============================] - 2s 6ms/step - loss: 0.5887 - accuracy: 0.8086 - val_loss: 6.8672 - val_accuracy: 0.0980\n",
            "Epoch 99/100\n",
            "375/375 [==============================] - 2s 5ms/step - loss: 0.5810 - accuracy: 0.8101 - val_loss: 6.9501 - val_accuracy: 0.0958\n",
            "Epoch 100/100\n",
            "375/375 [==============================] - 2s 5ms/step - loss: 0.5720 - accuracy: 0.8141 - val_loss: 7.0080 - val_accuracy: 0.0940\n"
          ]
        },
        {
          "output_type": "execute_result",
          "data": {
            "text/plain": [
              "<keras.callbacks.History at 0x7fbb599c9550>"
            ]
          },
          "metadata": {},
          "execution_count": 14
        }
      ],
      "source": [
        "(train_images, train_labels), _ = mnist.load_data()\n",
        "train_images = train_images.reshape((60000, 28 * 28))\n",
        "train_images = train_images.astype(\"float32\") / 255\n",
        "\n",
        "random_train_labels = train_labels[:]\n",
        "np.random.shuffle(random_train_labels)\n",
        "\n",
        "model = keras.Sequential([\n",
        "    layers.Dense(512, activation=\"relu\"),\n",
        "    layers.Dense(10, activation=\"softmax\")\n",
        "])\n",
        "model.compile(optimizer=\"rmsprop\",\n",
        "              loss=\"sparse_categorical_crossentropy\",\n",
        "              metrics=[\"accuracy\"])\n",
        "model.fit(train_images, random_train_labels,\n",
        "          epochs=100,\n",
        "          batch_size=128,\n",
        "          validation_split=0.2)"
      ]
    },
    {
      "cell_type": "code",
      "source": [
        "print(train_labels)\n",
        "print(random_train_labels)\n",
        "np.random.shuffle(random_train_labels)\n",
        "print(random_train_labels) # np random shuffle이 바로 저장이 되는구나!"
      ],
      "metadata": {
        "id": "8GSPdLHWKEhC",
        "outputId": "c21675ce-ecee-4ce3-8e18-bda9ebf02540",
        "colab": {
          "base_uri": "https://localhost:8080/"
        }
      },
      "execution_count": null,
      "outputs": [
        {
          "output_type": "stream",
          "name": "stdout",
          "text": [
            "[3 0 3 ... 9 0 0]\n",
            "[3 0 3 ... 9 0 0]\n",
            "[5 4 7 ... 6 9 9]\n"
          ]
        }
      ]
    },
    {
      "cell_type": "markdown",
      "metadata": {
        "id": "vfgb0O4PWIxP"
      },
      "source": [
        "#### The manifold hypothesis"
      ]
    },
    {
      "cell_type": "markdown",
      "metadata": {
        "id": "tDJn2uVfWIxP"
      },
      "source": [
        "#### Interpolation as a source of generalization"
      ]
    },
    {
      "cell_type": "markdown",
      "metadata": {
        "id": "qtH1BS6tWIxQ"
      },
      "source": [
        "#### Why deep learning works"
      ]
    },
    {
      "cell_type": "markdown",
      "metadata": {
        "id": "6Vjp9Y-WWIxR"
      },
      "source": [
        "#### Training data is paramount"
      ]
    },
    {
      "cell_type": "markdown",
      "metadata": {
        "id": "Za5414uDWIxT"
      },
      "source": [
        "## Evaluating machine-learning models"
      ]
    },
    {
      "cell_type": "markdown",
      "metadata": {
        "id": "nJv0ReLJWIxU"
      },
      "source": [
        "### Training, validation, and test sets"
      ]
    },
    {
      "cell_type": "markdown",
      "metadata": {
        "id": "Z8uvstMyWIxU"
      },
      "source": [
        "#### Simple hold-out validation"
      ]
    },
    {
      "cell_type": "markdown",
      "metadata": {
        "id": "kmEs6DOGWIxV"
      },
      "source": [
        "#### K-fold validation"
      ]
    },
    {
      "cell_type": "markdown",
      "metadata": {
        "id": "EmiPsmr9WIxV"
      },
      "source": [
        "#### Iterated K-fold validation with shuffling"
      ]
    },
    {
      "cell_type": "markdown",
      "metadata": {
        "id": "pZEfHs3OWIxW"
      },
      "source": [
        "### Beating a common-sense baseline"
      ]
    },
    {
      "cell_type": "markdown",
      "metadata": {
        "id": "oN5I_H__WIxW"
      },
      "source": [
        "### Things to keep in mind about model evaluation"
      ]
    },
    {
      "cell_type": "markdown",
      "metadata": {
        "id": "czOzdGRiWIxX"
      },
      "source": [
        "## Improving model fit"
      ]
    },
    {
      "cell_type": "markdown",
      "metadata": {
        "id": "qtHdfhMXWIxY"
      },
      "source": [
        "### Tuning key gradient descent parameters"
      ]
    },
    {
      "cell_type": "markdown",
      "metadata": {
        "id": "E4YPR0FUWIxY"
      },
      "source": [
        "**Training a MNIST model with an incorrectly high learning rate**"
      ]
    },
    {
      "cell_type": "code",
      "execution_count": 2,
      "metadata": {
        "id": "_Ax5o8J7WIxZ",
        "outputId": "bafe5086-039b-4a6d-f432-233a69342e4c",
        "colab": {
          "base_uri": "https://localhost:8080/"
        }
      },
      "outputs": [
        {
          "output_type": "stream",
          "name": "stdout",
          "text": [
            "Epoch 1/10\n",
            "375/375 [==============================] - 5s 5ms/step - loss: 1171.1805 - accuracy: 0.3889 - val_loss: 2.1390 - val_accuracy: 0.2741\n",
            "Epoch 2/10\n",
            "375/375 [==============================] - 2s 4ms/step - loss: 3.9684 - accuracy: 0.2497 - val_loss: 2.0930 - val_accuracy: 0.2727\n",
            "Epoch 3/10\n",
            "375/375 [==============================] - 2s 4ms/step - loss: 2.8394 - accuracy: 0.2466 - val_loss: 2.0646 - val_accuracy: 0.2522\n",
            "Epoch 4/10\n",
            "375/375 [==============================] - 2s 4ms/step - loss: 3.0296 - accuracy: 0.2674 - val_loss: 2.7578 - val_accuracy: 0.2992\n",
            "Epoch 5/10\n",
            "375/375 [==============================] - 2s 4ms/step - loss: 2.8458 - accuracy: 0.2665 - val_loss: 2.5381 - val_accuracy: 0.3162\n",
            "Epoch 6/10\n",
            "375/375 [==============================] - 2s 4ms/step - loss: 2.9686 - accuracy: 0.2774 - val_loss: 5.2874 - val_accuracy: 0.2884\n",
            "Epoch 7/10\n",
            "375/375 [==============================] - 2s 4ms/step - loss: 2.6024 - accuracy: 0.2774 - val_loss: 2.3018 - val_accuracy: 0.2833\n",
            "Epoch 8/10\n",
            "375/375 [==============================] - 2s 4ms/step - loss: 2.6313 - accuracy: 0.2936 - val_loss: 5.4161 - val_accuracy: 0.3323\n",
            "Epoch 9/10\n",
            "375/375 [==============================] - 2s 4ms/step - loss: 2.4543 - accuracy: 0.2870 - val_loss: 4.3485 - val_accuracy: 0.3267\n",
            "Epoch 10/10\n",
            "375/375 [==============================] - 2s 4ms/step - loss: 2.5612 - accuracy: 0.2819 - val_loss: 3.7719 - val_accuracy: 0.2914\n"
          ]
        },
        {
          "output_type": "execute_result",
          "data": {
            "text/plain": [
              "<keras.callbacks.History at 0x7fe350643690>"
            ]
          },
          "metadata": {},
          "execution_count": 2
        }
      ],
      "source": [
        "from tensorflow import keras\n",
        "from tensorflow.keras import layers\n",
        "\n",
        "from tensorflow.keras.datasets import mnist\n",
        "import numpy as np\n",
        "\n",
        "(train_images, train_labels), _ = mnist.load_data()\n",
        "train_images = train_images.reshape((60000, 28 * 28))\n",
        "train_images = train_images.astype(\"float32\") / 255\n",
        "\n",
        "model = keras.Sequential([\n",
        "    layers.Dense(512, activation=\"relu\"),\n",
        "    layers.Dense(10, activation=\"softmax\")\n",
        "])\n",
        "model.compile(optimizer=keras.optimizers.RMSprop(1.),\n",
        "              loss=\"sparse_categorical_crossentropy\",\n",
        "              metrics=[\"accuracy\"])\n",
        "model.fit(train_images, train_labels,\n",
        "          epochs=10,\n",
        "          batch_size=128,\n",
        "          validation_split=0.2)\n",
        "\n",
        "## loss improve가 아예 진행 안되는 첫번째 경우"
      ]
    },
    {
      "cell_type": "markdown",
      "metadata": {
        "id": "Sb2mKZvmWIxZ"
      },
      "source": [
        "**The same model with a more appropriate learning rate**"
      ]
    },
    {
      "cell_type": "code",
      "execution_count": 3,
      "metadata": {
        "id": "P4OybeNSWIxa",
        "outputId": "42c11bd5-66e1-4a0c-8e44-d46bc967ef88",
        "colab": {
          "base_uri": "https://localhost:8080/"
        }
      },
      "outputs": [
        {
          "output_type": "stream",
          "name": "stdout",
          "text": [
            "Epoch 1/10\n",
            "375/375 [==============================] - 2s 5ms/step - loss: 0.3434 - accuracy: 0.9149 - val_loss: 0.1605 - val_accuracy: 0.9571\n",
            "Epoch 2/10\n",
            "375/375 [==============================] - 2s 4ms/step - loss: 0.1373 - accuracy: 0.9634 - val_loss: 0.2307 - val_accuracy: 0.9530\n",
            "Epoch 3/10\n",
            "375/375 [==============================] - 2s 4ms/step - loss: 0.1088 - accuracy: 0.9740 - val_loss: 0.1587 - val_accuracy: 0.9700\n",
            "Epoch 4/10\n",
            "375/375 [==============================] - 2s 4ms/step - loss: 0.0989 - accuracy: 0.9781 - val_loss: 0.1877 - val_accuracy: 0.9672\n",
            "Epoch 5/10\n",
            "375/375 [==============================] - 2s 4ms/step - loss: 0.0890 - accuracy: 0.9813 - val_loss: 0.2042 - val_accuracy: 0.9708\n",
            "Epoch 6/10\n",
            "375/375 [==============================] - 2s 4ms/step - loss: 0.0811 - accuracy: 0.9842 - val_loss: 0.1751 - val_accuracy: 0.9750\n",
            "Epoch 7/10\n",
            "375/375 [==============================] - 2s 5ms/step - loss: 0.0728 - accuracy: 0.9858 - val_loss: 0.2258 - val_accuracy: 0.9738\n",
            "Epoch 8/10\n",
            "375/375 [==============================] - 2s 4ms/step - loss: 0.0647 - accuracy: 0.9878 - val_loss: 0.2493 - val_accuracy: 0.9750\n",
            "Epoch 9/10\n",
            "375/375 [==============================] - 2s 4ms/step - loss: 0.0594 - accuracy: 0.9895 - val_loss: 0.2901 - val_accuracy: 0.9737\n",
            "Epoch 10/10\n",
            "375/375 [==============================] - 2s 4ms/step - loss: 0.0589 - accuracy: 0.9899 - val_loss: 0.2681 - val_accuracy: 0.9759\n"
          ]
        },
        {
          "output_type": "execute_result",
          "data": {
            "text/plain": [
              "<keras.callbacks.History at 0x7fe350262610>"
            ]
          },
          "metadata": {},
          "execution_count": 3
        }
      ],
      "source": [
        "model = keras.Sequential([\n",
        "    layers.Dense(512, activation=\"relu\"),\n",
        "    layers.Dense(10, activation=\"softmax\")\n",
        "])\n",
        "model.compile(optimizer=keras.optimizers.RMSprop(1e-2),\n",
        "              loss=\"sparse_categorical_crossentropy\",\n",
        "              metrics=[\"accuracy\"])\n",
        "model.fit(train_images, train_labels,\n",
        "          epochs=10,\n",
        "          batch_size=128,\n",
        "          validation_split=0.2)\n",
        "\n",
        "## 결과 앞보단 나음. 잘됨. 그래도 저 RMSprop이 너무너무 작으면 converge slowly라 안좋음"
      ]
    },
    {
      "cell_type": "markdown",
      "metadata": {
        "id": "Acr8ydg0WIxa"
      },
      "source": [
        "### Leveraging better architecture priors"
      ]
    },
    {
      "cell_type": "markdown",
      "metadata": {
        "id": "MeUhw9rKWIxb"
      },
      "source": [
        "### Increasing model capacity"
      ]
    },
    {
      "cell_type": "markdown",
      "metadata": {
        "id": "_0F8XyXHWIxb"
      },
      "source": [
        "**A simple logistic regression on MNIST**"
      ]
    },
    {
      "cell_type": "code",
      "execution_count": 4,
      "metadata": {
        "id": "QKTixuKPWIxc",
        "outputId": "bb861a6c-9e8e-4811-f323-91331dd23bff",
        "colab": {
          "base_uri": "https://localhost:8080/"
        }
      },
      "outputs": [
        {
          "output_type": "stream",
          "name": "stdout",
          "text": [
            "Epoch 1/20\n",
            "375/375 [==============================] - 2s 4ms/step - loss: 0.6683 - accuracy: 0.8356 - val_loss: 0.3606 - val_accuracy: 0.9031\n",
            "Epoch 2/20\n",
            "375/375 [==============================] - 1s 4ms/step - loss: 0.3516 - accuracy: 0.9036 - val_loss: 0.3074 - val_accuracy: 0.9150\n",
            "Epoch 3/20\n",
            "375/375 [==============================] - 1s 3ms/step - loss: 0.3155 - accuracy: 0.9126 - val_loss: 0.2897 - val_accuracy: 0.9192\n",
            "Epoch 4/20\n",
            "375/375 [==============================] - 1s 3ms/step - loss: 0.2998 - accuracy: 0.9159 - val_loss: 0.2806 - val_accuracy: 0.9216\n",
            "Epoch 5/20\n",
            "375/375 [==============================] - 1s 4ms/step - loss: 0.2897 - accuracy: 0.9194 - val_loss: 0.2741 - val_accuracy: 0.9257\n",
            "Epoch 6/20\n",
            "375/375 [==============================] - 1s 4ms/step - loss: 0.2835 - accuracy: 0.9207 - val_loss: 0.2723 - val_accuracy: 0.9256\n",
            "Epoch 7/20\n",
            "375/375 [==============================] - 1s 3ms/step - loss: 0.2785 - accuracy: 0.9221 - val_loss: 0.2708 - val_accuracy: 0.9259\n",
            "Epoch 8/20\n",
            "375/375 [==============================] - 1s 3ms/step - loss: 0.2745 - accuracy: 0.9235 - val_loss: 0.2674 - val_accuracy: 0.9274\n",
            "Epoch 9/20\n",
            "375/375 [==============================] - 1s 3ms/step - loss: 0.2716 - accuracy: 0.9244 - val_loss: 0.2670 - val_accuracy: 0.9270\n",
            "Epoch 10/20\n",
            "375/375 [==============================] - 1s 4ms/step - loss: 0.2691 - accuracy: 0.9253 - val_loss: 0.2648 - val_accuracy: 0.9287\n",
            "Epoch 11/20\n",
            "375/375 [==============================] - 1s 3ms/step - loss: 0.2668 - accuracy: 0.9257 - val_loss: 0.2621 - val_accuracy: 0.9298\n",
            "Epoch 12/20\n",
            "375/375 [==============================] - 1s 3ms/step - loss: 0.2647 - accuracy: 0.9273 - val_loss: 0.2618 - val_accuracy: 0.9294\n",
            "Epoch 13/20\n",
            "375/375 [==============================] - 1s 4ms/step - loss: 0.2633 - accuracy: 0.9275 - val_loss: 0.2618 - val_accuracy: 0.9288\n",
            "Epoch 14/20\n",
            "375/375 [==============================] - 1s 4ms/step - loss: 0.2620 - accuracy: 0.9281 - val_loss: 0.2631 - val_accuracy: 0.9291\n",
            "Epoch 15/20\n",
            "375/375 [==============================] - 1s 3ms/step - loss: 0.2604 - accuracy: 0.9286 - val_loss: 0.2617 - val_accuracy: 0.9304\n",
            "Epoch 16/20\n",
            "375/375 [==============================] - 1s 3ms/step - loss: 0.2593 - accuracy: 0.9294 - val_loss: 0.2616 - val_accuracy: 0.9288\n",
            "Epoch 17/20\n",
            "375/375 [==============================] - 1s 4ms/step - loss: 0.2583 - accuracy: 0.9292 - val_loss: 0.2611 - val_accuracy: 0.9297\n",
            "Epoch 18/20\n",
            "375/375 [==============================] - 1s 4ms/step - loss: 0.2574 - accuracy: 0.9296 - val_loss: 0.2630 - val_accuracy: 0.9308\n",
            "Epoch 19/20\n",
            "375/375 [==============================] - 1s 3ms/step - loss: 0.2561 - accuracy: 0.9298 - val_loss: 0.2610 - val_accuracy: 0.9321\n",
            "Epoch 20/20\n",
            "375/375 [==============================] - 1s 3ms/step - loss: 0.2558 - accuracy: 0.9301 - val_loss: 0.2606 - val_accuracy: 0.9308\n"
          ]
        }
      ],
      "source": [
        "model = keras.Sequential([layers.Dense(10, activation=\"softmax\")])\n",
        "model.compile(optimizer=\"rmsprop\",\n",
        "              loss=\"sparse_categorical_crossentropy\",\n",
        "              metrics=[\"accuracy\"])\n",
        "history_small_model = model.fit(\n",
        "    train_images, train_labels,\n",
        "    epochs=20,\n",
        "    batch_size=128,\n",
        "    validation_split=0.2)"
      ]
    },
    {
      "cell_type": "code",
      "execution_count": 5,
      "metadata": {
        "id": "gn2HGOkIWIxc",
        "outputId": "9cbbb8d0-e2d4-4996-83bd-a211eca59da7",
        "colab": {
          "base_uri": "https://localhost:8080/",
          "height": 313
        }
      },
      "outputs": [
        {
          "output_type": "execute_result",
          "data": {
            "text/plain": [
              "<matplotlib.legend.Legend at 0x7fe35050ee90>"
            ]
          },
          "metadata": {},
          "execution_count": 5
        },
        {
          "output_type": "display_data",
          "data": {
            "text/plain": [
              "<Figure size 432x288 with 1 Axes>"
            ],
            "image/png": "[encoded data removed]"
          },
          "metadata": {
            "needs_background": "light"
          }
        }
      ],
      "source": [
        "import matplotlib.pyplot as plt\n",
        "val_loss = history_small_model.history[\"val_loss\"]\n",
        "epochs = range(1, 21)\n",
        "plt.plot(epochs, val_loss, \"b--\",\n",
        "         label=\"Validation loss\")\n",
        "plt.title(\"Effect of insufficient model capacity on validation loss\")\n",
        "plt.xlabel(\"Epochs\")\n",
        "plt.ylabel(\"Loss\")\n",
        "plt.legend()\n",
        "\n",
        "#우하향하는 그래프 나올거다. epoch 늘리는 게 좋은 건 아닌데.. loss도 작은 편은 아님"
      ]
    },
    {
      "cell_type": "code",
      "execution_count": 6,
      "metadata": {
        "id": "FdaD8oGEWIxd",
        "outputId": "c540a9f9-ab15-40dd-c219-53c7df51078d",
        "colab": {
          "base_uri": "https://localhost:8080/"
        }
      },
      "outputs": [
        {
          "output_type": "stream",
          "name": "stdout",
          "text": [
            "Epoch 1/20\n",
            "375/375 [==============================] - 2s 5ms/step - loss: 0.3507 - accuracy: 0.9024 - val_loss: 0.1823 - val_accuracy: 0.9500\n",
            "Epoch 2/20\n",
            "375/375 [==============================] - 2s 4ms/step - loss: 0.1536 - accuracy: 0.9536 - val_loss: 0.1329 - val_accuracy: 0.9622\n",
            "Epoch 3/20\n",
            "375/375 [==============================] - 2s 4ms/step - loss: 0.1079 - accuracy: 0.9672 - val_loss: 0.1231 - val_accuracy: 0.9647\n",
            "Epoch 4/20\n",
            "375/375 [==============================] - 2s 4ms/step - loss: 0.0834 - accuracy: 0.9750 - val_loss: 0.1034 - val_accuracy: 0.9700\n",
            "Epoch 5/20\n",
            "375/375 [==============================] - 2s 4ms/step - loss: 0.0672 - accuracy: 0.9803 - val_loss: 0.1008 - val_accuracy: 0.9705\n",
            "Epoch 6/20\n",
            "375/375 [==============================] - 1s 4ms/step - loss: 0.0557 - accuracy: 0.9833 - val_loss: 0.0958 - val_accuracy: 0.9729\n",
            "Epoch 7/20\n",
            "375/375 [==============================] - 2s 4ms/step - loss: 0.0462 - accuracy: 0.9858 - val_loss: 0.0961 - val_accuracy: 0.9727\n",
            "Epoch 8/20\n",
            "375/375 [==============================] - 2s 4ms/step - loss: 0.0386 - accuracy: 0.9879 - val_loss: 0.0940 - val_accuracy: 0.9745\n",
            "Epoch 9/20\n",
            "375/375 [==============================] - 2s 4ms/step - loss: 0.0331 - accuracy: 0.9895 - val_loss: 0.1004 - val_accuracy: 0.9738\n",
            "Epoch 10/20\n",
            "375/375 [==============================] - 2s 4ms/step - loss: 0.0274 - accuracy: 0.9911 - val_loss: 0.0958 - val_accuracy: 0.9755\n",
            "Epoch 11/20\n",
            "375/375 [==============================] - 2s 4ms/step - loss: 0.0236 - accuracy: 0.9925 - val_loss: 0.1044 - val_accuracy: 0.9738\n",
            "Epoch 12/20\n",
            "375/375 [==============================] - 2s 4ms/step - loss: 0.0205 - accuracy: 0.9937 - val_loss: 0.1025 - val_accuracy: 0.9751\n",
            "Epoch 13/20\n",
            "375/375 [==============================] - 2s 4ms/step - loss: 0.0170 - accuracy: 0.9945 - val_loss: 0.1027 - val_accuracy: 0.9767\n",
            "Epoch 14/20\n",
            "375/375 [==============================] - 2s 4ms/step - loss: 0.0145 - accuracy: 0.9954 - val_loss: 0.1179 - val_accuracy: 0.9743\n",
            "Epoch 15/20\n",
            "375/375 [==============================] - 2s 4ms/step - loss: 0.0129 - accuracy: 0.9959 - val_loss: 0.1145 - val_accuracy: 0.9768\n",
            "Epoch 16/20\n",
            "375/375 [==============================] - 2s 4ms/step - loss: 0.0108 - accuracy: 0.9964 - val_loss: 0.1236 - val_accuracy: 0.9758\n",
            "Epoch 17/20\n",
            "375/375 [==============================] - 2s 4ms/step - loss: 0.0098 - accuracy: 0.9971 - val_loss: 0.1214 - val_accuracy: 0.9779\n",
            "Epoch 18/20\n",
            "375/375 [==============================] - 2s 4ms/step - loss: 0.0078 - accuracy: 0.9975 - val_loss: 0.1369 - val_accuracy: 0.9760\n",
            "Epoch 19/20\n",
            "375/375 [==============================] - 2s 4ms/step - loss: 0.0071 - accuracy: 0.9978 - val_loss: 0.1327 - val_accuracy: 0.9758\n",
            "Epoch 20/20\n",
            "375/375 [==============================] - 2s 4ms/step - loss: 0.0065 - accuracy: 0.9981 - val_loss: 0.1470 - val_accuracy: 0.9744\n"
          ]
        }
      ],
      "source": [
        "model = keras.Sequential([\n",
        "    layers.Dense(96, activation=\"relu\"),\n",
        "    layers.Dense(96, activation=\"relu\"),\n",
        "    layers.Dense(10, activation=\"softmax\"),\n",
        "])\n",
        "model.compile(optimizer=\"rmsprop\",\n",
        "              loss=\"sparse_categorical_crossentropy\",\n",
        "              metrics=[\"accuracy\"])\n",
        "history_large_model = model.fit(\n",
        "    train_images, train_labels,\n",
        "    epochs=20,\n",
        "    batch_size=128,\n",
        "    validation_split=0.2)"
      ]
    },
    {
      "cell_type": "code",
      "source": [
        "import matplotlib.pyplot as plt\n",
        "val_loss = history_large_model.history[\"val_loss\"]\n",
        "epochs = range(1, 21)\n",
        "plt.plot(epochs, val_loss, \"b--\",\n",
        "         label=\"Validation loss\")\n",
        "plt.title(\"Effect of large model capacity on validation loss\")\n",
        "plt.xlabel(\"Epochs\")\n",
        "plt.ylabel(\"Loss\")\n",
        "plt.legend()\n",
        "\n",
        "## overfit 문제는 있지만 loss도 줄고 좋아!"
      ],
      "metadata": {
        "id": "jUXJDxK8dRTC",
        "outputId": "4777f948-6112-489e-b977-93a2dd1216da",
        "colab": {
          "base_uri": "https://localhost:8080/",
          "height": 313
        }
      },
      "execution_count": 7,
      "outputs": [
        {
          "output_type": "execute_result",
          "data": {
            "text/plain": [
              "<matplotlib.legend.Legend at 0x7fe2df4c5c50>"
            ]
          },
          "metadata": {},
          "execution_count": 7
        },
        {
          "output_type": "display_data",
          "data": {
            "text/plain": [
              "<Figure size 432x288 with 1 Axes>"
            ],
            "image/png": "[encoded data removed]"
          },
          "metadata": {
            "needs_background": "light"
          }
        }
      ]
    },
    {
      "cell_type": "markdown",
      "metadata": {
        "id": "p0U7L0O1WIxe"
      },
      "source": [
        "## Improving generalization"
      ]
    },
    {
      "cell_type": "markdown",
      "metadata": {
        "id": "BbIkvEmmWIxe"
      },
      "source": [
        "### Dataset curation"
      ]
    },
    {
      "cell_type": "markdown",
      "metadata": {
        "id": "G1WHqz2HWIxf"
      },
      "source": [
        "### Feature engineering"
      ]
    },
    {
      "cell_type": "markdown",
      "metadata": {
        "id": "I7Q6kap8WIxf"
      },
      "source": [
        "### Using early stopping"
      ]
    },
    {
      "cell_type": "markdown",
      "metadata": {
        "id": "5k6tWDESWIxf"
      },
      "source": [
        "### Regularizing your model"
      ]
    },
    {
      "cell_type": "markdown",
      "metadata": {
        "id": "9A9jMF-WWIxg"
      },
      "source": [
        "#### Reducing the network's size"
      ]
    },
    {
      "cell_type": "markdown",
      "metadata": {
        "id": "7RE2QwSqWIxg"
      },
      "source": [
        "**Original model**"
      ]
    },
    {
      "cell_type": "code",
      "execution_count": 8,
      "metadata": {
        "id": "GLkAhHlmWIxg",
        "outputId": "5b73dbf2-11f3-4d61-b3f7-d237798ec747",
        "colab": {
          "base_uri": "https://localhost:8080/"
        }
      },
      "outputs": [
        {
          "output_type": "stream",
          "name": "stdout",
          "text": [
            "Downloading data from https://storage.googleapis.com/tensorflow/tf-keras-datasets/imdb.npz\n",
            "17465344/17464789 [==============================] - 0s 0us/step\n",
            "17473536/17464789 [==============================] - 0s 0us/step\n",
            "Epoch 1/20\n",
            "30/30 [==============================] - 3s 42ms/step - loss: 0.5395 - accuracy: 0.7949 - val_loss: 0.4172 - val_accuracy: 0.8707\n",
            "Epoch 2/20\n",
            "30/30 [==============================] - 1s 22ms/step - loss: 0.3336 - accuracy: 0.8985 - val_loss: 0.3165 - val_accuracy: 0.8880\n",
            "Epoch 3/20\n",
            "30/30 [==============================] - 1s 22ms/step - loss: 0.2407 - accuracy: 0.9229 - val_loss: 0.2896 - val_accuracy: 0.8886\n",
            "Epoch 4/20\n",
            "30/30 [==============================] - 1s 23ms/step - loss: 0.1888 - accuracy: 0.9379 - val_loss: 0.2828 - val_accuracy: 0.8878\n",
            "Epoch 5/20\n",
            "30/30 [==============================] - 1s 23ms/step - loss: 0.1533 - accuracy: 0.9512 - val_loss: 0.3012 - val_accuracy: 0.8828\n",
            "Epoch 6/20\n",
            "30/30 [==============================] - 1s 25ms/step - loss: 0.1281 - accuracy: 0.9601 - val_loss: 0.2998 - val_accuracy: 0.8815\n",
            "Epoch 7/20\n",
            "30/30 [==============================] - 1s 22ms/step - loss: 0.1094 - accuracy: 0.9653 - val_loss: 0.3113 - val_accuracy: 0.8842\n",
            "Epoch 8/20\n",
            "30/30 [==============================] - 1s 21ms/step - loss: 0.0889 - accuracy: 0.9754 - val_loss: 0.3176 - val_accuracy: 0.8851\n",
            "Epoch 9/20\n",
            "30/30 [==============================] - 1s 24ms/step - loss: 0.0758 - accuracy: 0.9791 - val_loss: 0.3383 - val_accuracy: 0.8815\n",
            "Epoch 10/20\n",
            "30/30 [==============================] - 1s 22ms/step - loss: 0.0615 - accuracy: 0.9843 - val_loss: 0.3651 - val_accuracy: 0.8805\n",
            "Epoch 11/20\n",
            "30/30 [==============================] - 1s 22ms/step - loss: 0.0519 - accuracy: 0.9866 - val_loss: 0.4042 - val_accuracy: 0.8765\n",
            "Epoch 12/20\n",
            "30/30 [==============================] - 1s 21ms/step - loss: 0.0413 - accuracy: 0.9899 - val_loss: 0.4217 - val_accuracy: 0.8768\n",
            "Epoch 13/20\n",
            "30/30 [==============================] - 1s 21ms/step - loss: 0.0352 - accuracy: 0.9917 - val_loss: 0.4567 - val_accuracy: 0.8742\n",
            "Epoch 14/20\n",
            "30/30 [==============================] - 1s 24ms/step - loss: 0.0288 - accuracy: 0.9933 - val_loss: 0.4897 - val_accuracy: 0.8699\n",
            "Epoch 15/20\n",
            "30/30 [==============================] - 1s 25ms/step - loss: 0.0205 - accuracy: 0.9964 - val_loss: 0.5236 - val_accuracy: 0.8700\n",
            "Epoch 16/20\n",
            "30/30 [==============================] - 1s 21ms/step - loss: 0.0169 - accuracy: 0.9971 - val_loss: 0.5533 - val_accuracy: 0.8696\n",
            "Epoch 17/20\n",
            "30/30 [==============================] - 1s 24ms/step - loss: 0.0124 - accuracy: 0.9985 - val_loss: 0.5964 - val_accuracy: 0.8689\n",
            "Epoch 18/20\n",
            "30/30 [==============================] - 1s 21ms/step - loss: 0.0111 - accuracy: 0.9983 - val_loss: 0.6359 - val_accuracy: 0.8671\n",
            "Epoch 19/20\n",
            "30/30 [==============================] - 1s 21ms/step - loss: 0.0075 - accuracy: 0.9994 - val_loss: 0.6662 - val_accuracy: 0.8668\n",
            "Epoch 20/20\n",
            "30/30 [==============================] - 1s 21ms/step - loss: 0.0064 - accuracy: 0.9995 - val_loss: 0.6980 - val_accuracy: 0.8653\n"
          ]
        }
      ],
      "source": [
        "from tensorflow.keras.datasets import imdb\n",
        "(train_data, train_labels), _ = imdb.load_data(num_words=10000)\n",
        "\n",
        "def vectorize_sequences(sequences, dimension=10000):\n",
        "    results = np.zeros((len(sequences), dimension))\n",
        "    for i, sequence in enumerate(sequences):\n",
        "        results[i, sequence] = 1.\n",
        "    return results\n",
        "train_data = vectorize_sequences(train_data)\n",
        "\n",
        "model = keras.Sequential([\n",
        "    layers.Dense(16, activation=\"relu\"),\n",
        "    layers.Dense(16, activation=\"relu\"),\n",
        "    layers.Dense(1, activation=\"sigmoid\")\n",
        "])\n",
        "model.compile(optimizer=\"rmsprop\",\n",
        "              loss=\"binary_crossentropy\",\n",
        "              metrics=[\"accuracy\"])\n",
        "history_original = model.fit(train_data, train_labels,\n",
        "                             epochs=20, batch_size=512, validation_split=0.4)"
      ]
    },
    {
      "cell_type": "markdown",
      "metadata": {
        "id": "r5_3lSzgWIxh"
      },
      "source": [
        "**Version of the model with lower capacity**"
      ]
    },
    {
      "cell_type": "code",
      "execution_count": 9,
      "metadata": {
        "id": "-AdE2hILWIxi",
        "outputId": "772baa47-62b8-43e0-b3c1-3a5729ea3ac6",
        "colab": {
          "base_uri": "https://localhost:8080/"
        }
      },
      "outputs": [
        {
          "output_type": "stream",
          "name": "stdout",
          "text": [
            "Epoch 1/20\n",
            "30/30 [==============================] - 2s 42ms/step - loss: 0.6097 - accuracy: 0.7707 - val_loss: 0.5344 - val_accuracy: 0.8518\n",
            "Epoch 2/20\n",
            "30/30 [==============================] - 1s 23ms/step - loss: 0.4704 - accuracy: 0.8735 - val_loss: 0.4341 - val_accuracy: 0.8669\n",
            "Epoch 3/20\n",
            "30/30 [==============================] - 1s 22ms/step - loss: 0.3743 - accuracy: 0.8955 - val_loss: 0.3684 - val_accuracy: 0.8790\n",
            "Epoch 4/20\n",
            "30/30 [==============================] - 1s 21ms/step - loss: 0.3075 - accuracy: 0.9113 - val_loss: 0.3330 - val_accuracy: 0.8798\n",
            "Epoch 5/20\n",
            "30/30 [==============================] - 1s 25ms/step - loss: 0.2588 - accuracy: 0.9213 - val_loss: 0.3007 - val_accuracy: 0.8882\n",
            "Epoch 6/20\n",
            "30/30 [==============================] - 1s 22ms/step - loss: 0.2238 - accuracy: 0.9317 - val_loss: 0.2848 - val_accuracy: 0.8900\n",
            "Epoch 7/20\n",
            "30/30 [==============================] - 1s 22ms/step - loss: 0.1964 - accuracy: 0.9401 - val_loss: 0.2763 - val_accuracy: 0.8905\n",
            "Epoch 8/20\n",
            "30/30 [==============================] - 1s 22ms/step - loss: 0.1748 - accuracy: 0.9463 - val_loss: 0.2766 - val_accuracy: 0.8890\n",
            "Epoch 9/20\n",
            "30/30 [==============================] - 1s 22ms/step - loss: 0.1565 - accuracy: 0.9514 - val_loss: 0.2739 - val_accuracy: 0.8918\n",
            "Epoch 10/20\n",
            "30/30 [==============================] - 1s 22ms/step - loss: 0.1409 - accuracy: 0.9590 - val_loss: 0.2742 - val_accuracy: 0.8907\n",
            "Epoch 11/20\n",
            "30/30 [==============================] - 1s 21ms/step - loss: 0.1276 - accuracy: 0.9637 - val_loss: 0.2800 - val_accuracy: 0.8911\n",
            "Epoch 12/20\n",
            "30/30 [==============================] - 1s 22ms/step - loss: 0.1152 - accuracy: 0.9668 - val_loss: 0.2862 - val_accuracy: 0.8874\n",
            "Epoch 13/20\n",
            "30/30 [==============================] - 1s 26ms/step - loss: 0.1043 - accuracy: 0.9713 - val_loss: 0.2955 - val_accuracy: 0.8851\n",
            "Epoch 14/20\n",
            "30/30 [==============================] - 1s 25ms/step - loss: 0.0950 - accuracy: 0.9735 - val_loss: 0.3012 - val_accuracy: 0.8865\n",
            "Epoch 15/20\n",
            "30/30 [==============================] - 1s 21ms/step - loss: 0.0856 - accuracy: 0.9764 - val_loss: 0.3137 - val_accuracy: 0.8858\n",
            "Epoch 16/20\n",
            "30/30 [==============================] - 1s 22ms/step - loss: 0.0778 - accuracy: 0.9785 - val_loss: 0.3330 - val_accuracy: 0.8792\n",
            "Epoch 17/20\n",
            "30/30 [==============================] - 1s 21ms/step - loss: 0.0706 - accuracy: 0.9815 - val_loss: 0.3361 - val_accuracy: 0.8824\n",
            "Epoch 18/20\n",
            "30/30 [==============================] - 1s 21ms/step - loss: 0.0637 - accuracy: 0.9845 - val_loss: 0.3506 - val_accuracy: 0.8817\n",
            "Epoch 19/20\n",
            "30/30 [==============================] - 1s 21ms/step - loss: 0.0569 - accuracy: 0.9870 - val_loss: 0.3677 - val_accuracy: 0.8808\n",
            "Epoch 20/20\n",
            "30/30 [==============================] - 1s 25ms/step - loss: 0.0503 - accuracy: 0.9878 - val_loss: 0.3935 - val_accuracy: 0.8779\n"
          ]
        }
      ],
      "source": [
        "model = keras.Sequential([\n",
        "    layers.Dense(4, activation=\"relu\"),\n",
        "    layers.Dense(4, activation=\"relu\"),\n",
        "    layers.Dense(1, activation=\"sigmoid\")\n",
        "])\n",
        "model.compile(optimizer=\"rmsprop\",\n",
        "              loss=\"binary_crossentropy\",\n",
        "              metrics=[\"accuracy\"])\n",
        "history_smaller_model = model.fit(\n",
        "    train_data, train_labels,\n",
        "    epochs=20, batch_size=512, validation_split=0.4)"
      ]
    },
    {
      "cell_type": "code",
      "source": [
        "import matplotlib.pyplot as plt\n",
        "val_loss = history_original.history[\"val_loss\"]\n",
        "val_loss2 = history_smaller_model.history[\"val_loss\"]\n",
        "epochs = range(1, 21)\n",
        "plt.plot(epochs, val_loss, \"b--\",\n",
        "         label=\"Validation loss of original model\")\n",
        "plt.plot(epochs, val_loss2, \"b-\",\n",
        "         label=\"Validation loss of smaller model\")\n",
        "plt.title(\"Effect of smaller model capacity on validation loss\")\n",
        "plt.xlabel(\"Epochs\")\n",
        "plt.ylabel(\"Loss\")\n",
        "plt.legend()\n",
        "\n",
        "# smaller 모델.. overfit 없지만 loss original보다 큰걸 (지금 해본 결과는 엇비슷? 하게 나왔는데 original vs small 별 차이 없잖아)"
      ],
      "metadata": {
        "id": "JeTWJ7VZdq_O",
        "outputId": "4cfe2242-d2ac-4ae4-ca6d-57afd81ca452",
        "colab": {
          "base_uri": "https://localhost:8080/",
          "height": 313
        }
      },
      "execution_count": 10,
      "outputs": [
        {
          "output_type": "execute_result",
          "data": {
            "text/plain": [
              "<matplotlib.legend.Legend at 0x7fe2d375f390>"
            ]
          },
          "metadata": {},
          "execution_count": 10
        },
        {
          "output_type": "display_data",
          "data": {
            "text/plain": [
              "<Figure size 432x288 with 1 Axes>"
            ],
            "image/png": "[encoded data removed]"
          },
          "metadata": {
            "needs_background": "light"
          }
        }
      ]
    },
    {
      "cell_type": "markdown",
      "metadata": {
        "id": "0_JmTFyvWIxi"
      },
      "source": [
        "**Version of the model with higher capacity**"
      ]
    },
    {
      "cell_type": "code",
      "execution_count": 11,
      "metadata": {
        "id": "hafrw2EuWIxj",
        "outputId": "e1c7ec82-3d6f-4239-b51b-a1d305704145",
        "colab": {
          "base_uri": "https://localhost:8080/"
        }
      },
      "outputs": [
        {
          "output_type": "stream",
          "name": "stdout",
          "text": [
            "Epoch 1/20\n",
            "30/30 [==============================] - 2s 49ms/step - loss: 0.5543 - accuracy: 0.7483 - val_loss: 0.3694 - val_accuracy: 0.8437\n",
            "Epoch 2/20\n",
            "30/30 [==============================] - 1s 32ms/step - loss: 0.2589 - accuracy: 0.9012 - val_loss: 0.3039 - val_accuracy: 0.8763\n",
            "Epoch 3/20\n",
            "30/30 [==============================] - 1s 32ms/step - loss: 0.1674 - accuracy: 0.9368 - val_loss: 0.3150 - val_accuracy: 0.8848\n",
            "Epoch 4/20\n",
            "30/30 [==============================] - 1s 32ms/step - loss: 0.0916 - accuracy: 0.9680 - val_loss: 0.3225 - val_accuracy: 0.8916\n",
            "Epoch 5/20\n",
            "30/30 [==============================] - 1s 31ms/step - loss: 0.1176 - accuracy: 0.9767 - val_loss: 0.3346 - val_accuracy: 0.8878\n",
            "Epoch 6/20\n",
            "30/30 [==============================] - 1s 31ms/step - loss: 0.0060 - accuracy: 0.9994 - val_loss: 0.4948 - val_accuracy: 0.8889\n",
            "Epoch 7/20\n",
            "30/30 [==============================] - 1s 31ms/step - loss: 8.0847e-04 - accuracy: 0.9999 - val_loss: 0.6832 - val_accuracy: 0.8824\n",
            "Epoch 8/20\n",
            "30/30 [==============================] - 1s 31ms/step - loss: 1.1859e-04 - accuracy: 1.0000 - val_loss: 0.7349 - val_accuracy: 0.8883\n",
            "Epoch 9/20\n",
            "30/30 [==============================] - 1s 30ms/step - loss: 0.4045 - accuracy: 0.9802 - val_loss: 0.6449 - val_accuracy: 0.8817\n",
            "Epoch 10/20\n",
            "30/30 [==============================] - 1s 30ms/step - loss: 4.0206e-04 - accuracy: 0.9999 - val_loss: 0.6119 - val_accuracy: 0.8881\n",
            "Epoch 11/20\n",
            "30/30 [==============================] - 1s 30ms/step - loss: 3.8217e-04 - accuracy: 0.9999 - val_loss: 0.6462 - val_accuracy: 0.8879\n",
            "Epoch 12/20\n",
            "30/30 [==============================] - 1s 30ms/step - loss: 3.6246e-05 - accuracy: 1.0000 - val_loss: 0.7048 - val_accuracy: 0.8880\n",
            "Epoch 13/20\n",
            "30/30 [==============================] - 1s 30ms/step - loss: 1.2695e-05 - accuracy: 1.0000 - val_loss: 0.7747 - val_accuracy: 0.8886\n",
            "Epoch 14/20\n",
            "30/30 [==============================] - 1s 30ms/step - loss: 4.2539e-06 - accuracy: 1.0000 - val_loss: 0.8570 - val_accuracy: 0.8885\n",
            "Epoch 15/20\n",
            "30/30 [==============================] - 1s 30ms/step - loss: 1.3847e-06 - accuracy: 1.0000 - val_loss: 0.9420 - val_accuracy: 0.8882\n",
            "Epoch 16/20\n",
            "30/30 [==============================] - 1s 29ms/step - loss: 4.4969e-07 - accuracy: 1.0000 - val_loss: 1.0293 - val_accuracy: 0.8873\n",
            "Epoch 17/20\n",
            "30/30 [==============================] - 1s 30ms/step - loss: 1.6951e-07 - accuracy: 1.0000 - val_loss: 1.0904 - val_accuracy: 0.8872\n",
            "Epoch 18/20\n",
            "30/30 [==============================] - 1s 30ms/step - loss: 7.3167e-08 - accuracy: 1.0000 - val_loss: 1.1520 - val_accuracy: 0.8878\n",
            "Epoch 19/20\n",
            "30/30 [==============================] - 1s 30ms/step - loss: 3.6703e-08 - accuracy: 1.0000 - val_loss: 1.1939 - val_accuracy: 0.8883\n",
            "Epoch 20/20\n",
            "30/30 [==============================] - 1s 29ms/step - loss: 2.2127e-08 - accuracy: 1.0000 - val_loss: 1.2154 - val_accuracy: 0.8872\n"
          ]
        }
      ],
      "source": [
        "model = keras.Sequential([\n",
        "    layers.Dense(512, activation=\"relu\"),\n",
        "    layers.Dense(512, activation=\"relu\"),\n",
        "    layers.Dense(1, activation=\"sigmoid\")\n",
        "])\n",
        "model.compile(optimizer=\"rmsprop\",\n",
        "              loss=\"binary_crossentropy\",\n",
        "              metrics=[\"accuracy\"])\n",
        "history_larger_model = model.fit(\n",
        "    train_data, train_labels,\n",
        "    epochs=20, batch_size=512, validation_split=0.4)"
      ]
    },
    {
      "cell_type": "code",
      "source": [
        "import matplotlib.pyplot as plt\n",
        "val_loss = history_original.history[\"val_loss\"]\n",
        "val_loss2 = history_larger_model.history[\"val_loss\"]\n",
        "epochs = range(1, 21)\n",
        "plt.plot(epochs, val_loss, \"b--\",\n",
        "         label=\"Validation loss of original model\")\n",
        "plt.plot(epochs, val_loss2, \"b-\",\n",
        "         label=\"Validation loss of larger model\")\n",
        "plt.title(\"Effect of larger model capacity on validation loss\")\n",
        "plt.xlabel(\"Epochs\")\n",
        "plt.ylabel(\"Loss\")\n",
        "plt.legend()"
      ],
      "metadata": {
        "id": "9qK7WS7heIEm",
        "outputId": "824611d3-d5f7-40b8-8ff5-cb782c088a31",
        "colab": {
          "base_uri": "https://localhost:8080/",
          "height": 313
        }
      },
      "execution_count": 12,
      "outputs": [
        {
          "output_type": "execute_result",
          "data": {
            "text/plain": [
              "<matplotlib.legend.Legend at 0x7fe2d9286d10>"
            ]
          },
          "metadata": {},
          "execution_count": 12
        },
        {
          "output_type": "display_data",
          "data": {
            "text/plain": [
              "<Figure size 432x288 with 1 Axes>"
            ],
            "image/png": "[encoded data removed]"
          },
          "metadata": {
            "needs_background": "light"
          }
        }
      ]
    },
    {
      "cell_type": "markdown",
      "metadata": {
        "id": "4CtCWrxgWIxj"
      },
      "source": [
        "#### Adding weight regularization"
      ]
    },
    {
      "cell_type": "markdown",
      "metadata": {
        "id": "5t4v-WwDWIxk"
      },
      "source": [
        "**Adding L2 weight regularization to the model**"
      ]
    },
    {
      "cell_type": "code",
      "execution_count": null,
      "metadata": {
        "id": "AsOkZMuZWIxk"
      },
      "outputs": [],
      "source": [
        "from tensorflow.keras import regularizers\n",
        "model = keras.Sequential([\n",
        "    layers.Dense(16,\n",
        "                 kernel_regularizer=regularizers.l2(0.002),\n",
        "                 activation=\"relu\"),\n",
        "    layers.Dense(16,\n",
        "                 kernel_regularizer=regularizers.l2(0.002),\n",
        "                 activation=\"relu\"),\n",
        "    layers.Dense(1, activation=\"sigmoid\")\n",
        "])\n",
        "model.compile(optimizer=\"rmsprop\",\n",
        "              loss=\"binary_crossentropy\",\n",
        "              metrics=[\"accuracy\"])\n",
        "history_l2_reg = model.fit(\n",
        "    train_data, train_labels,\n",
        "    epochs=20, batch_size=512, validation_split=0.4)"
      ]
    },
    {
      "cell_type": "code",
      "source": [
        "import matplotlib.pyplot as plt\n",
        "val_loss = history_original.history[\"val_loss\"]\n",
        "val_loss2 = history_l2_reg.history[\"val_loss\"]\n",
        "epochs = range(1, 21)\n",
        "plt.plot(epochs, val_loss, \"b--\",\n",
        "         label=\"Validation loss of original model\")\n",
        "plt.plot(epochs, val_loss2, \"b-\",\n",
        "         label=\"Validation loss of original model with l2 regularization model\")\n",
        "plt.title(\"Effect of l2 regularization model capacity on validation loss\")\n",
        "plt.xlabel(\"Epochs\")\n",
        "plt.ylabel(\"Loss\")\n",
        "plt.legend()\n",
        "\n",
        "# smaller 모델.. overfit 없지만 loss original보다 큰걸"
      ],
      "metadata": {
        "id": "gMcQOWwIeYao"
      },
      "execution_count": null,
      "outputs": []
    },
    {
      "cell_type": "markdown",
      "metadata": {
        "id": "4Y1zglrlWIxl"
      },
      "source": [
        "**Different weight regularizers available in Keras**"
      ]
    },
    {
      "cell_type": "code",
      "execution_count": null,
      "metadata": {
        "id": "KzG-WHhXWIxm"
      },
      "outputs": [],
      "source": [
        "from tensorflow.keras import regularizers\n",
        "regularizers.l1(0.001)\n",
        "regularizers.l1_l2(l1=0.001, l2=0.001)"
      ]
    },
    {
      "cell_type": "markdown",
      "metadata": {
        "id": "Til0iz56WIxm"
      },
      "source": [
        "#### Adding dropout"
      ]
    },
    {
      "cell_type": "markdown",
      "metadata": {
        "id": "kIwnmwf2WIxn"
      },
      "source": [
        "**Adding dropout to the IMDB model**"
      ]
    },
    {
      "cell_type": "code",
      "execution_count": null,
      "metadata": {
        "id": "IZ5xH2_aWIxo"
      },
      "outputs": [],
      "source": [
        "model = keras.Sequential([\n",
        "    layers.Dense(16, activation=\"relu\"),\n",
        "    layers.Dropout(0.5),\n",
        "    layers.Dense(16, activation=\"relu\"),\n",
        "    layers.Dropout(0.5),\n",
        "    layers.Dense(1, activation=\"sigmoid\")\n",
        "])\n",
        "model.compile(optimizer=\"rmsprop\",\n",
        "              loss=\"binary_crossentropy\",\n",
        "              metrics=[\"accuracy\"])\n",
        "history_dropout = model.fit(\n",
        "    train_data, train_labels,\n",
        "    epochs=20, batch_size=512, validation_split=0.4)"
      ]
    },
    {
      "cell_type": "code",
      "source": [
        "import matplotlib.pyplot as plt\n",
        "val_loss = history_original.history[\"val_loss\"]\n",
        "val_loss2 = history_dropout.history[\"val_loss\"]\n",
        "epochs = range(1, 21)\n",
        "plt.plot(epochs, val_loss, \"b--\",\n",
        "         label=\"Validation loss of original model\")\n",
        "plt.plot(epochs, val_loss2, \"b-\",\n",
        "         label=\"Validation loss of original model with dropout regularization model\")\n",
        "plt.title(\"Effect of dropout regularization model capacity on validation loss\")\n",
        "plt.xlabel(\"Epochs\")\n",
        "plt.ylabel(\"Loss\")\n",
        "plt.legend()"
      ],
      "metadata": {
        "id": "g4lVu5RUe3tX"
      },
      "execution_count": null,
      "outputs": []
    },
    {
      "cell_type": "markdown",
      "metadata": {
        "id": "JKsOHJr3WIxo"
      },
      "source": [
        "## Summary"
      ]
    }
  ],
  "metadata": {
    "colab": {
      "collapsed_sections": [],
      "name": "chapter05_fundamentals-of-ml.i",
      "provenance": [],
      "include_colab_link": true
    },
    "kernelspec": {
      "display_name": "Python 3",
      "language": "python",
      "name": "python3"
    },
    "language_info": {
      "codemirror_mode": {
        "name": "ipython",
        "version": 3
      },
      "file_extension": ".py",
      "mimetype": "text/x-python",
      "name": "python",
      "nbconvert_exporter": "python",
      "pygments_lexer": "ipython3",
      "version": "3.7.0"
    },
    "accelerator": "GPU"
  },
  "nbformat": 4,
  "nbformat_minor": 0
}