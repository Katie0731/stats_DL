{
  "nbformat": 4,
  "nbformat_minor": 0,
  "metadata": {
    "colab": {
      "name": "0523 딥러닝 팀플 연습 (TPU) - 1.ipynb",
      "provenance": [],
      "collapsed_sections": [],
      "authorship_tag": "ABX9TyP6OyJ6nLX3Ku5C7pGho0+H",
      "include_colab_link": true
    },
    "kernelspec": {
      "name": "python3",
      "display_name": "Python 3"
    },
    "language_info": {
      "name": "python"
    },
    "accelerator": "TPU"
  },
  "cells": [
    {
      "cell_type": "markdown",
      "metadata": {
        "id": "view-in-github",
        "colab_type": "text"
      },
      "source": [
        "<a href=\"https://colab.research.google.com/github/Katie0731/stats_DL/blob/main/0523_%EB%94%A5%EB%9F%AC%EB%8B%9D_%ED%8C%80%ED%94%8C_%EC%97%B0%EC%8A%B5_(TPU)_3.ipynb\" target=\"_parent\"><img src=\"https://colab.research.google.com/assets/colab-badge.svg\" alt=\"Open In Colab\"/></a>"
      ]
    },
    {
      "cell_type": "code",
      "execution_count": 1,
      "metadata": {
        "colab": {
          "resources": {
            "http://localhost:8080/nbextensions/google.colab/files.js": {
              "data": "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",
              "ok": true,
              "headers": [
                [
                  "content-type",
                  "application/javascript"
                ]
              ],
              "status": 200,
              "status_text": ""
            }
          },
          "base_uri": "https://localhost:8080/",
          "height": 95
        },
        "id": "6Mwcw03_S13T",
        "outputId": "738f6470-9de3-47f3-fd19-1773f98b999d"
      },
      "outputs": [
        {
          "output_type": "display_data",
          "data": {
            "text/plain": [
              "<IPython.core.display.HTML object>"
            ],
            "text/html": [
              "\n",
              "     <input type=\"file\" id=\"files-fc5952d1-82a7-423b-81e3-926315ad1a16\" name=\"files[]\" multiple disabled\n",
              "        style=\"border:none\" />\n",
              "     <output id=\"result-fc5952d1-82a7-423b-81e3-926315ad1a16\">\n",
              "      Upload widget is only available when the cell has been executed in the\n",
              "      current browser session. Please rerun this cell to enable.\n",
              "      </output>\n",
              "      <script src=\"/nbextensions/google.colab/files.js\"></script> "
            ]
          },
          "metadata": {}
        },
        {
          "output_type": "stream",
          "name": "stdout",
          "text": [
            "Saving kaggle.json to kaggle.json\n"
          ]
        },
        {
          "output_type": "execute_result",
          "data": {
            "text/plain": [
              "{'kaggle.json': b'{\"username\":\"gaurdyou\",\"key\":\"65b4fed121c42003bb7a2d1b0466d46f\"}'}"
            ]
          },
          "metadata": {},
          "execution_count": 1
        }
      ],
      "source": [
        "from google.colab import files\n",
        "files.upload()"
      ]
    },
    {
      "cell_type": "code",
      "source": [
        "import os\n",
        "os.listdir()"
      ],
      "metadata": {
        "colab": {
          "base_uri": "https://localhost:8080/"
        },
        "id": "iFc9XRrdTAXd",
        "outputId": "dc880a62-9c3a-460e-b8c8-0c5612693dd2"
      },
      "execution_count": 2,
      "outputs": [
        {
          "output_type": "execute_result",
          "data": {
            "text/plain": [
              "['.config', 'kaggle.json', 'sample_data']"
            ]
          },
          "metadata": {},
          "execution_count": 2
        }
      ]
    },
    {
      "cell_type": "code",
      "source": [
        "!mkdir ~/.kaggle\n",
        "!cp kaggle.json ~/.kaggle/\n",
        "!chmod 600 ~/.kaggle/kaggle.json"
      ],
      "metadata": {
        "id": "jjRIvE5MTUdx"
      },
      "execution_count": 3,
      "outputs": []
    },
    {
      "cell_type": "code",
      "source": [
        "!kaggle competitions download -c unifesp-x-ray-body-part-classifier"
      ],
      "metadata": {
        "colab": {
          "base_uri": "https://localhost:8080/"
        },
        "id": "4f9CzWiDT61w",
        "outputId": "f1638161-1ecf-4391-c1a2-d752765e70d5"
      },
      "execution_count": 4,
      "outputs": [
        {
          "output_type": "stream",
          "name": "stdout",
          "text": [
            "Downloading unifesp-x-ray-body-part-classifier.zip to /content\n",
            "100% 29.9G/29.9G [06:50<00:00, 121MB/s] \n",
            "100% 29.9G/29.9G [06:50<00:00, 78.3MB/s]\n"
          ]
        }
      ]
    },
    {
      "cell_type": "code",
      "source": [
        "os.listdir()"
      ],
      "metadata": {
        "colab": {
          "base_uri": "https://localhost:8080/"
        },
        "id": "D61RBSlaT8k8",
        "outputId": "008f0e1b-569f-4cf4-f92e-239490a7614b"
      },
      "execution_count": 5,
      "outputs": [
        {
          "output_type": "execute_result",
          "data": {
            "text/plain": [
              "['.config',\n",
              " 'unifesp-x-ray-body-part-classifier.zip',\n",
              " 'kaggle.json',\n",
              " 'sample_data']"
            ]
          },
          "metadata": {},
          "execution_count": 5
        }
      ]
    },
    {
      "cell_type": "code",
      "source": [
        "!unzip -qq unifesp-x-ray-body-part-classifier.zip"
      ],
      "metadata": {
        "id": "ghx708fOU7Dt"
      },
      "execution_count": 6,
      "outputs": []
    },
    {
      "cell_type": "code",
      "source": [
        "os.listdir()"
      ],
      "metadata": {
        "id": "D31Af8npVCR0",
        "colab": {
          "base_uri": "https://localhost:8080/"
        },
        "outputId": "782f98b1-38bb-4ccb-c2bb-e84e1cae8499"
      },
      "execution_count": null,
      "outputs": [
        {
          "output_type": "execute_result",
          "data": {
            "text/plain": [
              "['.config',\n",
              " 'train.csv',\n",
              " 'sample_submission.csv',\n",
              " 'kaggle.json',\n",
              " 'train',\n",
              " 'test',\n",
              " 'sample_data']"
            ]
          },
          "metadata": {},
          "execution_count": 26
        }
      ]
    },
    {
      "cell_type": "code",
      "source": [
        "os.remove('unifesp-x-ray-body-part-classifier.zip')"
      ],
      "metadata": {
        "id": "5i-hKdgSJw2-"
      },
      "execution_count": 7,
      "outputs": []
    },
    {
      "cell_type": "code",
      "source": [
        "cd train"
      ],
      "metadata": {
        "colab": {
          "base_uri": "https://localhost:8080/"
        },
        "id": "MWsfu43N6bY4",
        "outputId": "4865f91c-e50f-45c0-8c6b-5444256d5fdb"
      },
      "execution_count": null,
      "outputs": [
        {
          "output_type": "stream",
          "name": "stdout",
          "text": [
            "/content/train\n"
          ]
        }
      ]
    },
    {
      "cell_type": "code",
      "source": [
        "os.listdir('train')"
      ],
      "metadata": {
        "colab": {
          "base_uri": "https://localhost:8080/"
        },
        "id": "HZnAIy9w7Lnq",
        "outputId": "880898a8-df7b-4ec4-d9c7-920f9e194863"
      },
      "execution_count": null,
      "outputs": [
        {
          "output_type": "execute_result",
          "data": {
            "text/plain": [
              "['535',\n",
              " '481',\n",
              " '916',\n",
              " '764',\n",
              " '1333',\n",
              " '649',\n",
              " '924',\n",
              " '76',\n",
              " '283',\n",
              " '897',\n",
              " '606',\n",
              " '56',\n",
              " '230',\n",
              " '671',\n",
              " '243',\n",
              " '534',\n",
              " '34',\n",
              " '1073',\n",
              " '578',\n",
              " '151',\n",
              " '660',\n",
              " '125',\n",
              " '1317',\n",
              " '1181',\n",
              " '685',\n",
              " '1331',\n",
              " '497',\n",
              " '1287',\n",
              " '234',\n",
              " '589',\n",
              " '1090',\n",
              " '876',\n",
              " '10',\n",
              " '19',\n",
              " '422',\n",
              " '1159',\n",
              " '1370',\n",
              " '973',\n",
              " '674',\n",
              " '643',\n",
              " '592',\n",
              " '1254',\n",
              " '854',\n",
              " '941',\n",
              " '192',\n",
              " '101',\n",
              " '908',\n",
              " '1055',\n",
              " '975',\n",
              " '1167',\n",
              " '656',\n",
              " '84',\n",
              " '1302',\n",
              " '337',\n",
              " '213',\n",
              " '236',\n",
              " '623',\n",
              " '14',\n",
              " '868',\n",
              " '1210',\n",
              " '1074',\n",
              " '244',\n",
              " '372',\n",
              " '368',\n",
              " '86',\n",
              " '809',\n",
              " '1086',\n",
              " '659',\n",
              " '1301',\n",
              " '1153',\n",
              " '157',\n",
              " '1170',\n",
              " '102',\n",
              " '49',\n",
              " '829',\n",
              " '810',\n",
              " '1263',\n",
              " '164',\n",
              " '1369',\n",
              " '826',\n",
              " '959',\n",
              " '1259',\n",
              " '350',\n",
              " '1281',\n",
              " '1123',\n",
              " '845',\n",
              " '1257',\n",
              " '751',\n",
              " '276',\n",
              " '1160',\n",
              " '1252',\n",
              " '1131',\n",
              " '177',\n",
              " '858',\n",
              " '472',\n",
              " '296',\n",
              " '1392',\n",
              " '1350',\n",
              " '486',\n",
              " '1020',\n",
              " '202',\n",
              " '1066',\n",
              " '1348',\n",
              " '673',\n",
              " '953',\n",
              " '237',\n",
              " '1135',\n",
              " '1096',\n",
              " '539',\n",
              " '1318',\n",
              " '849',\n",
              " '1256',\n",
              " '676',\n",
              " '1266',\n",
              " '833',\n",
              " '412',\n",
              " '521',\n",
              " '748',\n",
              " '154',\n",
              " '1382',\n",
              " '1205',\n",
              " '1320',\n",
              " '220',\n",
              " '38',\n",
              " '1178',\n",
              " '394',\n",
              " '873',\n",
              " '1270',\n",
              " '679',\n",
              " '1321',\n",
              " '798',\n",
              " '449',\n",
              " '551',\n",
              " '533',\n",
              " '93',\n",
              " '418',\n",
              " '1227',\n",
              " '190',\n",
              " '436',\n",
              " '488',\n",
              " '1334',\n",
              " '691',\n",
              " '837',\n",
              " '1293',\n",
              " '1063',\n",
              " '1035',\n",
              " '145',\n",
              " '1043',\n",
              " '1105',\n",
              " '1272',\n",
              " '817',\n",
              " '1229',\n",
              " '765',\n",
              " '1355',\n",
              " '940',\n",
              " '397',\n",
              " '994',\n",
              " '1084',\n",
              " '132',\n",
              " '407',\n",
              " '239',\n",
              " '613',\n",
              " '1308',\n",
              " '205',\n",
              " '1024',\n",
              " '529',\n",
              " '286',\n",
              " '1117',\n",
              " '565',\n",
              " '865',\n",
              " '498',\n",
              " '473',\n",
              " '23',\n",
              " '540',\n",
              " '1171',\n",
              " '45',\n",
              " '221',\n",
              " '629',\n",
              " '777',\n",
              " '717',\n",
              " '3',\n",
              " '1144',\n",
              " '197',\n",
              " '146',\n",
              " '1009',\n",
              " '1306',\n",
              " '1232',\n",
              " '264',\n",
              " '921',\n",
              " '1094',\n",
              " '1319',\n",
              " '544',\n",
              " '15',\n",
              " '948',\n",
              " '379',\n",
              " '807',\n",
              " '1040',\n",
              " '780',\n",
              " '603',\n",
              " '1390',\n",
              " '947',\n",
              " '53',\n",
              " '1152',\n",
              " '170',\n",
              " '931',\n",
              " '531',\n",
              " '388',\n",
              " '512',\n",
              " '1337',\n",
              " '630',\n",
              " '387',\n",
              " '1120',\n",
              " '445',\n",
              " '731',\n",
              " '785',\n",
              " '919',\n",
              " '861',\n",
              " '563',\n",
              " '1129',\n",
              " '1032',\n",
              " '597',\n",
              " '781',\n",
              " '65',\n",
              " '1097',\n",
              " '35',\n",
              " '1243',\n",
              " '375',\n",
              " '121',\n",
              " '570',\n",
              " '1104',\n",
              " '371',\n",
              " '1200',\n",
              " '1209',\n",
              " '248',\n",
              " '1222',\n",
              " '459',\n",
              " '1098',\n",
              " '1219',\n",
              " '1',\n",
              " '504',\n",
              " '516',\n",
              " '378',\n",
              " '448',\n",
              " '1150',\n",
              " '442',\n",
              " '295',\n",
              " '1375',\n",
              " '428',\n",
              " '658',\n",
              " '774',\n",
              " '1158',\n",
              " '414',\n",
              " '87',\n",
              " '909',\n",
              " '532',\n",
              " '469',\n",
              " '723',\n",
              " '207',\n",
              " '263',\n",
              " '787',\n",
              " '828',\n",
              " '1122',\n",
              " '793',\n",
              " '16',\n",
              " '195',\n",
              " '1378',\n",
              " '1008',\n",
              " '134',\n",
              " '1262',\n",
              " '17',\n",
              " '139',\n",
              " '1187',\n",
              " '328',\n",
              " '1078',\n",
              " '713',\n",
              " '588',\n",
              " '693',\n",
              " '1296',\n",
              " '254',\n",
              " '1303',\n",
              " '128',\n",
              " '789',\n",
              " '141',\n",
              " '552',\n",
              " '64',\n",
              " '216',\n",
              " '602',\n",
              " '36',\n",
              " '351',\n",
              " '75',\n",
              " '1202',\n",
              " '50',\n",
              " '13',\n",
              " '1248',\n",
              " '730',\n",
              " '1330',\n",
              " '1221',\n",
              " '514',\n",
              " '494',\n",
              " '857',\n",
              " '431',\n",
              " '1340',\n",
              " '568',\n",
              " '137',\n",
              " '1121',\n",
              " '682',\n",
              " '1365',\n",
              " '42',\n",
              " '882',\n",
              " '489',\n",
              " '1174',\n",
              " '797',\n",
              " '1165',\n",
              " '430',\n",
              " '477',\n",
              " '1380',\n",
              " '672',\n",
              " '1000',\n",
              " '996',\n",
              " '508',\n",
              " '386',\n",
              " '256',\n",
              " '737',\n",
              " '759',\n",
              " '1100',\n",
              " '1119',\n",
              " '122',\n",
              " '415',\n",
              " '483',\n",
              " '906',\n",
              " '536',\n",
              " '169',\n",
              " '1148',\n",
              " '738',\n",
              " '585',\n",
              " '1190',\n",
              " '923',\n",
              " '257',\n",
              " '581',\n",
              " '1011',\n",
              " '992',\n",
              " '881',\n",
              " '956',\n",
              " '811',\n",
              " '1316',\n",
              " '827',\n",
              " '1237',\n",
              " '435',\n",
              " '598',\n",
              " '259',\n",
              " '612',\n",
              " '111',\n",
              " '914',\n",
              " '224',\n",
              " '1183',\n",
              " '1143',\n",
              " '706',\n",
              " '1126',\n",
              " '181',\n",
              " '285',\n",
              " '187',\n",
              " '1218',\n",
              " '1201',\n",
              " '322',\n",
              " '1034',\n",
              " '950',\n",
              " '632',\n",
              " '1149',\n",
              " '69',\n",
              " '1179',\n",
              " '226',\n",
              " '1276',\n",
              " '68',\n",
              " '60',\n",
              " '530',\n",
              " '1366',\n",
              " '537',\n",
              " '657',\n",
              " '1361',\n",
              " '383',\n",
              " '326',\n",
              " '617',\n",
              " '1197',\n",
              " '135',\n",
              " '266',\n",
              " '1079',\n",
              " '687',\n",
              " '939',\n",
              " '1199',\n",
              " '1162',\n",
              " '1244',\n",
              " '426',\n",
              " '848',\n",
              " '1381',\n",
              " '911',\n",
              " '605',\n",
              " '391',\n",
              " '1332',\n",
              " '587',\n",
              " '1026',\n",
              " '1029',\n",
              " '343',\n",
              " '149',\n",
              " '44',\n",
              " '1194',\n",
              " '1052',\n",
              " '847',\n",
              " '692',\n",
              " '222',\n",
              " '1314',\n",
              " '654',\n",
              " '946',\n",
              " '440',\n",
              " '1271',\n",
              " '1238',\n",
              " '4',\n",
              " '1295',\n",
              " '1360',\n",
              " '1260',\n",
              " '364',\n",
              " '218',\n",
              " '1204',\n",
              " '838',\n",
              " '562',\n",
              " '795',\n",
              " '1157',\n",
              " '408',\n",
              " '334',\n",
              " '61',\n",
              " '1322',\n",
              " '253',\n",
              " '490',\n",
              " '788',\n",
              " '1083',\n",
              " '1231',\n",
              " '479',\n",
              " '625',\n",
              " '666',\n",
              " '801',\n",
              " '1328',\n",
              " '63',\n",
              " '251',\n",
              " '129',\n",
              " '695',\n",
              " '439',\n",
              " '1241',\n",
              " '792',\n",
              " '689',\n",
              " '91',\n",
              " '986',\n",
              " '94',\n",
              " '712',\n",
              " '1006',\n",
              " '760',\n",
              " '740',\n",
              " '1039',\n",
              " '120',\n",
              " '1356',\n",
              " '315',\n",
              " '246',\n",
              " '805',\n",
              " '1354',\n",
              " '576',\n",
              " '647',\n",
              " '905',\n",
              " '451',\n",
              " '583',\n",
              " '1351',\n",
              " '148',\n",
              " '639',\n",
              " '327',\n",
              " '43',\n",
              " '519',\n",
              " '1037',\n",
              " '1042',\n",
              " '163',\n",
              " '384',\n",
              " '172',\n",
              " '1036',\n",
              " '219',\n",
              " '898',\n",
              " '1076',\n",
              " '153',\n",
              " '501',\n",
              " '522',\n",
              " '1133',\n",
              " '554',\n",
              " '758',\n",
              " '1267',\n",
              " '1343',\n",
              " '584',\n",
              " '997',\n",
              " '1385',\n",
              " '885',\n",
              " '182',\n",
              " '791',\n",
              " '579',\n",
              " '515',\n",
              " '761',\n",
              " '1298',\n",
              " '1161',\n",
              " '549',\n",
              " '846',\n",
              " '299',\n",
              " '1173',\n",
              " '210',\n",
              " '912',\n",
              " '638',\n",
              " '915',\n",
              " '108',\n",
              " '978',\n",
              " '883',\n",
              " '604',\n",
              " '72',\n",
              " '274',\n",
              " '936',\n",
              " '1182',\n",
              " '208',\n",
              " '325',\n",
              " '1188',\n",
              " '413',\n",
              " '675',\n",
              " '1358',\n",
              " '262',\n",
              " '1145',\n",
              " '1211',\n",
              " '753',\n",
              " '932',\n",
              " '710',\n",
              " '688',\n",
              " '633',\n",
              " '316',\n",
              " '1071',\n",
              " '1273',\n",
              " '1082',\n",
              " '977',\n",
              " '1214',\n",
              " '89',\n",
              " '821',\n",
              " '339',\n",
              " '158',\n",
              " '1088',\n",
              " '767',\n",
              " '362',\n",
              " '561',\n",
              " '365',\n",
              " '1189',\n",
              " '374',\n",
              " '26',\n",
              " '595',\n",
              " '646',\n",
              " '336',\n",
              " '1128',\n",
              " '361',\n",
              " '1383',\n",
              " '757',\n",
              " '1371',\n",
              " '1277',\n",
              " '309',\n",
              " '569',\n",
              " '574',\n",
              " '1195',\n",
              " '716',\n",
              " '733',\n",
              " '1307',\n",
              " '123',\n",
              " '1046',\n",
              " '1177',\n",
              " '1175',\n",
              " '506',\n",
              " '934',\n",
              " '341',\n",
              " '1115',\n",
              " '783',\n",
              " '97',\n",
              " '399',\n",
              " '1140',\n",
              " '621',\n",
              " '25',\n",
              " '1274',\n",
              " '1282',\n",
              " '1342',\n",
              " '1305',\n",
              " '1138',\n",
              " '1025',\n",
              " '548',\n",
              " '1075',\n",
              " '611',\n",
              " '376',\n",
              " '287',\n",
              " '1278',\n",
              " '839',\n",
              " '1242',\n",
              " '902',\n",
              " '416',\n",
              " '1372',\n",
              " '1106',\n",
              " '1288',\n",
              " '859',\n",
              " '889',\n",
              " '1130',\n",
              " '694',\n",
              " '178',\n",
              " '231',\n",
              " '104',\n",
              " '886',\n",
              " '271',\n",
              " '1324',\n",
              " '330',\n",
              " '966',\n",
              " '680',\n",
              " '85',\n",
              " '955',\n",
              " '471',\n",
              " '852',\n",
              " '1060',\n",
              " '268',\n",
              " '910',\n",
              " '1077',\n",
              " '77',\n",
              " '183',\n",
              " '1051',\n",
              " '835',\n",
              " '82',\n",
              " '586',\n",
              " '1289',\n",
              " '124',\n",
              " '556',\n",
              " '21',\n",
              " '949',\n",
              " '1247',\n",
              " '289',\n",
              " '1208',\n",
              " '734',\n",
              " '1284',\n",
              " '655',\n",
              " '188',\n",
              " '27',\n",
              " '822',\n",
              " '98',\n",
              " '567',\n",
              " '1193',\n",
              " '1251',\n",
              " '32',\n",
              " '1344',\n",
              " '862',\n",
              " '305',\n",
              " '298',\n",
              " '284',\n",
              " '652',\n",
              " '831',\n",
              " '485',\n",
              " '346',\n",
              " '1168',\n",
              " '30',\n",
              " '970',\n",
              " '320',\n",
              " '980',\n",
              " '1367',\n",
              " '580',\n",
              " '37',\n",
              " '332',\n",
              " '500',\n",
              " '318',\n",
              " '773',\n",
              " '308',\n",
              " '1203',\n",
              " '73',\n",
              " '871',\n",
              " '1217',\n",
              " '1007',\n",
              " '778',\n",
              " '1005',\n",
              " '933',\n",
              " '860',\n",
              " '1111',\n",
              " '1377',\n",
              " '1327',\n",
              " '367',\n",
              " '1280',\n",
              " '48',\n",
              " '1014',\n",
              " '185',\n",
              " '247',\n",
              " '961',\n",
              " '71',\n",
              " '770',\n",
              " '1169',\n",
              " '106',\n",
              " '1294',\n",
              " '1108',\n",
              " '755',\n",
              " '360',\n",
              " '1220',\n",
              " '965',\n",
              " '107',\n",
              " '1345',\n",
              " '304',\n",
              " '411',\n",
              " '607',\n",
              " '348',\n",
              " '1044',\n",
              " '1213',\n",
              " '273',\n",
              " '155',\n",
              " '1379',\n",
              " '310',\n",
              " '1033',\n",
              " '1376',\n",
              " '703',\n",
              " '727',\n",
              " '832',\n",
              " '1325',\n",
              " '989',\n",
              " '614',\n",
              " '890',\n",
              " '1109',\n",
              " '165',\n",
              " '803',\n",
              " '628',\n",
              " '191',\n",
              " '645',\n",
              " '958',\n",
              " '526',\n",
              " '1265',\n",
              " '667',\n",
              " '24',\n",
              " '741',\n",
              " '294',\n",
              " '664',\n",
              " '812',\n",
              " '608',\n",
              " '58',\n",
              " '278',\n",
              " '1206',\n",
              " '1118',\n",
              " '560',\n",
              " '331',\n",
              " '718',\n",
              " '640',\n",
              " '719',\n",
              " '988',\n",
              " '566',\n",
              " '306',\n",
              " '728',\n",
              " '441',\n",
              " '1268',\n",
              " '398',\n",
              " '1239',\n",
              " '321',\n",
              " '406',\n",
              " '105',\n",
              " '974',\n",
              " '650',\n",
              " '707',\n",
              " '460',\n",
              " '1228',\n",
              " '1368',\n",
              " '1004',\n",
              " '990',\n",
              " '474',\n",
              " '926',\n",
              " '559',\n",
              " '855',\n",
              " '1002',\n",
              " '1224',\n",
              " '1329',\n",
              " '1050',\n",
              " '238',\n",
              " '651',\n",
              " '799',\n",
              " '819',\n",
              " '143',\n",
              " '55',\n",
              " '756',\n",
              " '668',\n",
              " '976',\n",
              " '1019',\n",
              " '505',\n",
              " '369',\n",
              " '311',\n",
              " '815',\n",
              " '1291',\n",
              " '417',\n",
              " '954',\n",
              " '1235',\n",
              " '1255',\n",
              " '1080',\n",
              " '930',\n",
              " '66',\n",
              " '739',\n",
              " '215',\n",
              " '493',\n",
              " '245',\n",
              " '357',\n",
              " '281',\n",
              " '340',\n",
              " '81',\n",
              " '971',\n",
              " '46',\n",
              " '1245',\n",
              " '714',\n",
              " '1357',\n",
              " '844',\n",
              " '176',\n",
              " '1387',\n",
              " '681',\n",
              " '591',\n",
              " '133',\n",
              " '1363',\n",
              " '1353',\n",
              " '545',\n",
              " '400',\n",
              " '729',\n",
              " '960',\n",
              " '410',\n",
              " '1116',\n",
              " '541',\n",
              " '2',\n",
              " '425',\n",
              " '1215',\n",
              " '1072',\n",
              " '841',\n",
              " '917',\n",
              " '302',\n",
              " '1139',\n",
              " '870',\n",
              " '721',\n",
              " '1339',\n",
              " '866',\n",
              " '1359',\n",
              " '1389',\n",
              " '523',\n",
              " '209',\n",
              " '405',\n",
              " '499',\n",
              " '484',\n",
              " '875',\n",
              " '437',\n",
              " '599',\n",
              " '804',\n",
              " '138',\n",
              " '769',\n",
              " '1016',\n",
              " '41',\n",
              " '615',\n",
              " '1258',\n",
              " '542',\n",
              " '307',\n",
              " '31',\n",
              " '261',\n",
              " '564',\n",
              " '109',\n",
              " '1207',\n",
              " '743',\n",
              " '972',\n",
              " '1313',\n",
              " '830',\n",
              " '1070',\n",
              " '509',\n",
              " '1292',\n",
              " '467',\n",
              " '1299',\n",
              " '1085',\n",
              " '241',\n",
              " '944',\n",
              " '90',\n",
              " '161',\n",
              " '206',\n",
              " '1028',\n",
              " '1364',\n",
              " '701',\n",
              " '853',\n",
              " '409',\n",
              " '899',\n",
              " '952',\n",
              " '171',\n",
              " '776',\n",
              " '575',\n",
              " '392',\n",
              " '232',\n",
              " '1142',\n",
              " '1253',\n",
              " '1198',\n",
              " '282',\n",
              " '363',\n",
              " '1124',\n",
              " '702',\n",
              " '464',\n",
              " '189',\n",
              " '1041',\n",
              " '993',\n",
              " '427',\n",
              " '985',\n",
              " '352',\n",
              " '115',\n",
              " '644',\n",
              " '790',\n",
              " '113',\n",
              " '558',\n",
              " '796',\n",
              " '117',\n",
              " '678',\n",
              " '1141',\n",
              " '463',\n",
              " '600',\n",
              " '1053',\n",
              " '482',\n",
              " '937',\n",
              " '443',\n",
              " '742',\n",
              " '524']"
            ]
          },
          "metadata": {},
          "execution_count": 22
        }
      ]
    },
    {
      "cell_type": "code",
      "source": [
        "print(len(os.listdir('train')))"
      ],
      "metadata": {
        "colab": {
          "base_uri": "https://localhost:8080/"
        },
        "id": "HoAdtDhL7b8X",
        "outputId": "8b7daa3f-31a5-4a5b-f7e2-e39d56d7b70a"
      },
      "execution_count": null,
      "outputs": [
        {
          "output_type": "stream",
          "name": "stdout",
          "text": [
            "912\n"
          ]
        }
      ]
    },
    {
      "cell_type": "code",
      "source": [
        "ls"
      ],
      "metadata": {
        "colab": {
          "base_uri": "https://localhost:8080/"
        },
        "id": "j2_xbMi88i0T",
        "outputId": "a7301935-ab3c-4777-c00b-d21eafee152c"
      },
      "execution_count": null,
      "outputs": [
        {
          "output_type": "stream",
          "name": "stdout",
          "text": [
            "\u001b[0m\u001b[01;34mtrain\u001b[0m/\n"
          ]
        }
      ]
    },
    {
      "cell_type": "code",
      "source": [
        "cd -"
      ],
      "metadata": {
        "colab": {
          "base_uri": "https://localhost:8080/"
        },
        "id": "clk6KTHC9u2x",
        "outputId": "7ec8c2bf-f45e-49dc-ff59-b7aa7f85be50"
      },
      "execution_count": null,
      "outputs": [
        {
          "output_type": "stream",
          "name": "stdout",
          "text": [
            "/content\n"
          ]
        }
      ]
    },
    {
      "cell_type": "code",
      "source": [
        "#cd -"
      ],
      "metadata": {
        "colab": {
          "base_uri": "https://localhost:8080/"
        },
        "id": "w7cUAJSP9-GZ",
        "outputId": "604de4ee-ee7d-454d-a8e5-1dd0f64f62cd"
      },
      "execution_count": null,
      "outputs": [
        {
          "output_type": "stream",
          "name": "stdout",
          "text": [
            "/content/test\n"
          ]
        }
      ]
    },
    {
      "cell_type": "code",
      "source": [
        "#ls"
      ],
      "metadata": {
        "colab": {
          "base_uri": "https://localhost:8080/"
        },
        "id": "6rYKuNZx9_Vc",
        "outputId": "2c9e382f-4a35-4bf5-859e-7e3b4cbcd2d1"
      },
      "execution_count": null,
      "outputs": [
        {
          "output_type": "stream",
          "name": "stdout",
          "text": [
            "\u001b[0m\u001b[01;34mtest\u001b[0m/\n"
          ]
        }
      ]
    },
    {
      "cell_type": "code",
      "source": [
        "#cd -"
      ],
      "metadata": {
        "colab": {
          "base_uri": "https://localhost:8080/"
        },
        "id": "g-XkNPqa_Vpe",
        "outputId": "6bd798f3-1f87-42f6-fb11-896f0e28e5de"
      },
      "execution_count": null,
      "outputs": [
        {
          "output_type": "stream",
          "name": "stdout",
          "text": [
            "/content/test\n"
          ]
        }
      ]
    },
    {
      "cell_type": "code",
      "source": [
        "#cd -"
      ],
      "metadata": {
        "colab": {
          "base_uri": "https://localhost:8080/"
        },
        "id": "koaUntV-_W2w",
        "outputId": "de3829d6-2f1c-493a-dd5b-6b3c613b9471"
      },
      "execution_count": null,
      "outputs": [
        {
          "output_type": "stream",
          "name": "stdout",
          "text": [
            "/content/test/test\n"
          ]
        }
      ]
    },
    {
      "cell_type": "code",
      "source": [
        "#print(len(os.listdir('test')))"
      ],
      "metadata": {
        "colab": {
          "base_uri": "https://localhost:8080/"
        },
        "id": "xrawFSDt-AcY",
        "outputId": "154feffa-dbec-45bc-f43f-206c2816bbfe"
      },
      "execution_count": null,
      "outputs": [
        {
          "output_type": "stream",
          "name": "stdout",
          "text": [
            "411\n"
          ]
        }
      ]
    },
    {
      "cell_type": "code",
      "source": [
        "import pandas as pd\n",
        "df = pd.read_csv(\"train.csv\")"
      ],
      "metadata": {
        "id": "wAa_v6oRNpGx"
      },
      "execution_count": 8,
      "outputs": []
    },
    {
      "cell_type": "code",
      "source": [
        "df.shape"
      ],
      "metadata": {
        "id": "NSlKvhKwLJPe",
        "outputId": "cc2118af-ff4a-4862-eadb-09207f7f463b",
        "colab": {
          "base_uri": "https://localhost:8080/"
        }
      },
      "execution_count": null,
      "outputs": [
        {
          "output_type": "execute_result",
          "data": {
            "text/plain": [
              "(1738, 2)"
            ]
          },
          "metadata": {},
          "execution_count": 53
        }
      ]
    },
    {
      "cell_type": "code",
      "source": [
        "labels = df['SOPInstanceUID']\n",
        "labels"
      ],
      "metadata": {
        "id": "WyEY-IjTLlgx",
        "outputId": "128276de-beca-4854-9184-1fbe6c540475",
        "colab": {
          "base_uri": "https://localhost:8080/"
        }
      },
      "execution_count": 10,
      "outputs": [
        {
          "output_type": "execute_result",
          "data": {
            "text/plain": [
              "0       1.2.826.0.1.3680043.8.498.10025629581362719970...\n",
              "1       1.2.826.0.1.3680043.8.498.10036150326276641158...\n",
              "2       1.2.826.0.1.3680043.8.498.10038426859954986240...\n",
              "3       1.2.826.0.1.3680043.8.498.10050991192143676483...\n",
              "4       1.2.826.0.1.3680043.8.498.10053309524595490852...\n",
              "                              ...                        \n",
              "1733    1.2.826.0.1.3680043.8.498.99711016467406172920...\n",
              "1734    1.2.826.0.1.3680043.8.498.99727280485333900933...\n",
              "1735    1.2.826.0.1.3680043.8.498.99935008698914755885...\n",
              "1736    1.2.826.0.1.3680043.8.498.99969671777553755311...\n",
              "1737    1.2.826.0.1.3680043.8.498.99979421603039894766...\n",
              "Name: SOPInstanceUID, Length: 1738, dtype: object"
            ]
          },
          "metadata": {},
          "execution_count": 10
        }
      ]
    },
    {
      "cell_type": "code",
      "source": [
        "train_index_dir = \"train/train/\"\n",
        "\n",
        "train_index_paths = sorted(\n",
        "    [os.path.join(train_index_dir, fname)\n",
        "     for fname in os.listdir(train_index_dir)])"
      ],
      "metadata": {
        "id": "Uwkdu_gsSD_9"
      },
      "execution_count": 43,
      "outputs": []
    },
    {
      "cell_type": "code",
      "source": [
        "fname = os.listdir(train_index_paths[5])\n",
        "fname = \"\".join(fname)\n",
        "fname"
      ],
      "metadata": {
        "id": "m7RZr7EO6MMJ",
        "outputId": "df709cd5-0714-4061-910a-2ff1c200724a",
        "colab": {
          "base_uri": "https://localhost:8080/",
          "height": 35
        }
      },
      "execution_count": 49,
      "outputs": [
        {
          "output_type": "execute_result",
          "data": {
            "text/plain": [
              "'1.2.826.0.1.3680043.8.498.61746690124118892528305417421864320307'"
            ],
            "application/vnd.google.colaboratory.intrinsic+json": {
              "type": "string"
            }
          },
          "metadata": {},
          "execution_count": 49
        }
      ]
    },
    {
      "cell_type": "code",
      "source": [
        "fname2 = os.listdir(train_index_paths[5]+ \"/\" + fname)\n",
        "fname2 = \"\".join(fname2)\n",
        "fname2"
      ],
      "metadata": {
        "id": "AtFyCNcr7Agz",
        "outputId": "7b47c856-ed72-40ec-9a37-d9eb065b1e3f",
        "colab": {
          "base_uri": "https://localhost:8080/",
          "height": 35
        }
      },
      "execution_count": 50,
      "outputs": [
        {
          "output_type": "execute_result",
          "data": {
            "text/plain": [
              "'1.2.826.0.1.3680043.8.498.21605553573167556338806385057474412247'"
            ],
            "application/vnd.google.colaboratory.intrinsic+json": {
              "type": "string"
            }
          },
          "metadata": {},
          "execution_count": 50
        }
      ]
    },
    {
      "cell_type": "code",
      "source": [
        "fname3 = os.listdir(train_index_paths[5]+ \"/\" + fname + \"/\" + fname2)\n",
        "fname3 = \"\".join(fname3)\n",
        "fname3"
      ],
      "metadata": {
        "id": "dPsVfP9x97X3",
        "outputId": "39cd0c03-6d74-4006-84a6-fff6e69408c9",
        "colab": {
          "base_uri": "https://localhost:8080/",
          "height": 35
        }
      },
      "execution_count": 51,
      "outputs": [
        {
          "output_type": "execute_result",
          "data": {
            "text/plain": [
              "'1.2.826.0.1.3680043.8.498.75243637122822422802803455060201037925-c.dcm'"
            ],
            "application/vnd.google.colaboratory.intrinsic+json": {
              "type": "string"
            }
          },
          "metadata": {},
          "execution_count": 51
        }
      ]
    },
    {
      "cell_type": "code",
      "source": [
        "my_path = '/content/drive/MyDrive/additional_package'\n",
        "!pip install --target=$my_path pydicom\n",
        "\n",
        "import sys\n",
        "sys.path.append('/content/drive/MyDrive/additional_package')"
      ],
      "metadata": {
        "id": "yUf7WGS-SsiK",
        "outputId": "6de10962-b6a8-440d-96ce-cc76156361ed",
        "colab": {
          "base_uri": "https://localhost:8080/"
        }
      },
      "execution_count": 26,
      "outputs": [
        {
          "output_type": "stream",
          "name": "stdout",
          "text": [
            "Looking in indexes: https://pypi.org/simple, https://us-python.pkg.dev/colab-wheels/public/simple/\n",
            "Collecting pydicom\n",
            "  Downloading pydicom-2.3.0-py3-none-any.whl (2.0 MB)\n",
            "\u001b[K     |████████████████████████████████| 2.0 MB 4.9 MB/s \n",
            "\u001b[?25hInstalling collected packages: pydicom\n",
            "Successfully installed pydicom-2.3.0\n"
          ]
        }
      ]
    },
    {
      "cell_type": "code",
      "source": [
        "import pydicom\n",
        "import matplotlib.pyplot as plt\n",
        "\n",
        "file_path = train_index_paths[5]+ \"/\" + fname + \"/\" + fname2 + \"/\" + fname3\n",
        "dcm = pydicom.dcmread(file_path)\n",
        "img = dcm.pixel_array"
      ],
      "metadata": {
        "id": "DIedH3508_tI",
        "outputId": "a6b4966f-1a49-4dd0-b0de-99807282cc96",
        "colab": {
          "base_uri": "https://localhost:8080/"
        }
      },
      "execution_count": 52,
      "outputs": [
        {
          "output_type": "stream",
          "name": "stderr",
          "text": [
            "/content/drive/MyDrive/additional_package/pydicom/pixel_data_handlers/pillow_handler.py:239: UserWarning: The (0028,0101) 'Bits Stored' value (15-bit) doesn't match the JPEG 2000 data (16-bit). It's recommended that you change the 'Bits Stored' value\n",
            "  f\"The (0028,0101) 'Bits Stored' value ({bits_stored}-bit) \"\n"
          ]
        }
      ]
    },
    {
      "cell_type": "code",
      "source": [
        "img.shape"
      ],
      "metadata": {
        "id": "e7p2c4C5_XgH",
        "outputId": "4c436cfd-c6a0-4f66-fece-444bc857cd92",
        "colab": {
          "base_uri": "https://localhost:8080/"
        }
      },
      "execution_count": 36,
      "outputs": [
        {
          "output_type": "execute_result",
          "data": {
            "text/plain": [
              "(3480, 4240)"
            ]
          },
          "metadata": {},
          "execution_count": 36
        }
      ]
    },
    {
      "cell_type": "code",
      "source": [
        "plt.imshow(img, cmap='gray_r')"
      ],
      "metadata": {
        "id": "Cv99si_B_e1u",
        "outputId": "53a04f47-0877-46d3-81d3-3fc199973c48",
        "colab": {
          "base_uri": "https://localhost:8080/",
          "height": 287
        }
      },
      "execution_count": 59,
      "outputs": [
        {
          "output_type": "execute_result",
          "data": {
            "text/plain": [
              "<matplotlib.image.AxesImage at 0x7fa0653a3a10>"
            ]
          },
          "metadata": {},
          "execution_count": 59
        },
        {
          "output_type": "display_data",
          "data": {
            "text/plain": [
              "<Figure size 432x288 with 1 Axes>"
            ],
            "image/png": "[encoded data removed]"
          },
          "metadata": {
            "needs_background": "light"
          }
        }
      ]
    }
  ]
}