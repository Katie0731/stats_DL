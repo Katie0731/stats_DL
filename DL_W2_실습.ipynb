{
  "nbformat": 4,
  "nbformat_minor": 0,
  "metadata": {
    "colab": {
      "name": "DL_W2 실습.ipynb",
      "provenance": [],
      "collapsed_sections": [],
      "authorship_tag": "ABX9TyMbQTHH/gz5V3HsrAmbGqIs",
      "include_colab_link": true
    },
    "kernelspec": {
      "name": "python3",
      "display_name": "Python 3"
    },
    "language_info": {
      "name": "python"
    }
  },
  "cells": [
    {
      "cell_type": "markdown",
      "metadata": {
        "id": "view-in-github",
        "colab_type": "text"
      },
      "source": [
        "<a href=\"https://colab.research.google.com/github/Katie0731/stats_DL/blob/main/DL_W2_%EC%8B%A4%EC%8A%B5.ipynb\" target=\"_parent\"><img src=\"https://colab.research.google.com/assets/colab-badge.svg\" alt=\"Open In Colab\"/></a>"
      ]
    },
    {
      "cell_type": "markdown",
      "source": [
        "# AI를 위한 딥러닝\n",
        "\n",
        "## Week 2 실습내용\n",
        "\n",
        "- 여러가지 코드를 markdown을 이용해서 그냥 쳐봅시다.\n",
        "\n",
        "\n",
        "\n",
        "```\n",
        "1+1\n",
        "> 2\n",
        "```\n",
        "\n",
        "- 통계프로그래밍(2)에서 자주했던 거\n",
        "\n",
        "\n",
        "```\n",
        "import pandas as pd\n",
        "```\n",
        "\n"
      ],
      "metadata": {
        "id": "4Ru0wlRVh7jN"
      }
    },
    {
      "cell_type": "code",
      "source": [
        "1+1"
      ],
      "metadata": {
        "colab": {
          "base_uri": "https://localhost:8080/"
        },
        "id": "z9yt2BnMi33U",
        "outputId": "6aa1d272-5dcf-45d8-a2af-4a459a80b0d3"
      },
      "execution_count": 1,
      "outputs": [
        {
          "output_type": "execute_result",
          "data": {
            "text/plain": [
              "2"
            ]
          },
          "metadata": {},
          "execution_count": 1
        }
      ]
    },
    {
      "cell_type": "code",
      "source": [
        "import pandas as pd"
      ],
      "metadata": {
        "id": "Mqdjct8ei5J_"
      },
      "execution_count": 2,
      "outputs": []
    }
  ]
}