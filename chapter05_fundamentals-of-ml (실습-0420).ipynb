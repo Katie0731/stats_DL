{
  "cells": [
    {
      "cell_type": "markdown",
      "metadata": {
        "id": "view-in-github",
        "colab_type": "text"
      },
      "source": [
        "<a href=\"https://colab.research.google.com/github/Katie0731/stats_DL/blob/main/chapter05_fundamentals-of-ml%20(%EC%8B%A4%EC%8A%B5-0420).ipynb\" target=\"_parent\"><img src=\"https://colab.research.google.com/assets/colab-badge.svg\" alt=\"Open In Colab\"/></a>"
      ]
    },
    {
      "cell_type": "markdown",
      "metadata": {
        "id": "vw9hz4T4WIw2"
      },
      "source": [
        "This is a companion notebook for the book [Deep Learning with Python, Second Edition](https://www.manning.com/books/deep-learning-with-python-second-edition?a_aid=keras&a_bid=76564dff). For readability, it only contains runnable code blocks and section titles, and omits everything else in the book: text paragraphs, figures, and pseudocode.\n",
        "\n",
        "**If you want to be able to follow what's going on, I recommend reading the notebook side by side with your copy of the book.**\n",
        "\n",
        "This notebook was generated for TensorFlow 2.6."
      ]
    },
    {
      "cell_type": "markdown",
      "metadata": {
        "id": "Uz_EA_QTWIw_"
      },
      "source": [
        "# Fundamentals of machine learning"
      ]
    },
    {
      "cell_type": "markdown",
      "metadata": {
        "id": "W6nAwWwrWIxA"
      },
      "source": [
        "## Generalization: The goal of machine learning"
      ]
    },
    {
      "cell_type": "markdown",
      "metadata": {
        "id": "OyzwXO6QWIxB"
      },
      "source": [
        "### Underfitting and overfitting"
      ]
    },
    {
      "cell_type": "markdown",
      "metadata": {
        "id": "737aGtETWIxC"
      },
      "source": [
        "#### Noisy training data"
      ]
    },
    {
      "cell_type": "markdown",
      "metadata": {
        "id": "w95YcT9pWIxC"
      },
      "source": [
        "#### Ambiguous features"
      ]
    },
    {
      "cell_type": "markdown",
      "metadata": {
        "id": "OhXb0mfGWIxD"
      },
      "source": [
        "#### Rare features and spurious correlations"
      ]
    },
    {
      "cell_type": "markdown",
      "metadata": {
        "id": "uHA8FkPpWIxE"
      },
      "source": [
        "**Adding white-noise channels or all-zeros channels to MNIST**"
      ]
    },
    {
      "cell_type": "code",
      "execution_count": 1,
      "metadata": {
        "id": "YPkvwBnIWIxF",
        "outputId": "785ed82f-15d1-4dc2-ba34-be2b182cf86b",
        "colab": {
          "base_uri": "https://localhost:8080/"
        }
      },
      "outputs": [
        {
          "output_type": "stream",
          "name": "stdout",
          "text": [
            "Downloading data from https://storage.googleapis.com/tensorflow/tf-keras-datasets/mnist.npz\n",
            "11493376/11490434 [==============================] - 0s 0us/step\n",
            "11501568/11490434 [==============================] - 0s 0us/step\n"
          ]
        }
      ],
      "source": [
        "from tensorflow.keras.datasets import mnist\n",
        "import numpy as np\n",
        "\n",
        "(train_images, train_labels), _ = mnist.load_data()\n",
        "train_images = train_images.reshape((60000, 28 * 28))\n",
        "train_images = train_images.astype(\"float32\") / 255\n",
        "\n",
        "train_images_with_noise_channels = np.concatenate(\n",
        "    [train_images, np.random.random((len(train_images), 784))], axis=1)\n",
        "\n",
        "train_images_with_zeros_channels = np.concatenate(\n",
        "    [train_images, np.zeros((len(train_images), 784))], axis=1)"
      ]
    },
    {
      "cell_type": "code",
      "source": [
        "# np.random.random((len(train_images), 784)) -> random noisy data 같은 개수만큼 추가\n",
        "train_images_with_noise_channels.shape # 784 * 2 = 1568"
      ],
      "metadata": {
        "id": "aUfVdqEeD5P_",
        "outputId": "d22a6a3e-29af-4c85-e36c-b24d7592e916",
        "colab": {
          "base_uri": "https://localhost:8080/"
        }
      },
      "execution_count": 2,
      "outputs": [
        {
          "output_type": "execute_result",
          "data": {
            "text/plain": [
              "(60000, 1568)"
            ]
          },
          "metadata": {},
          "execution_count": 2
        }
      ]
    },
    {
      "cell_type": "code",
      "source": [
        "train_images_with_zeros_channels.shape"
      ],
      "metadata": {
        "id": "tuPZfXXhEQ2S",
        "outputId": "df424ae5-47fc-4554-b4ab-faf6dcdc35e8",
        "colab": {
          "base_uri": "https://localhost:8080/"
        }
      },
      "execution_count": 3,
      "outputs": [
        {
          "output_type": "execute_result",
          "data": {
            "text/plain": [
              "(60000, 1568)"
            ]
          },
          "metadata": {},
          "execution_count": 3
        }
      ]
    },
    {
      "cell_type": "markdown",
      "metadata": {
        "id": "KBYrE2fmWIxI"
      },
      "source": [
        "**Training the same model on MNIST data with noise channels or all-zero channels**"
      ]
    },
    {
      "cell_type": "code",
      "execution_count": 4,
      "metadata": {
        "id": "ImhIQ959WIxJ",
        "outputId": "a019a9e8-6669-4544-be36-b156d8257352",
        "colab": {
          "base_uri": "https://localhost:8080/"
        }
      },
      "outputs": [
        {
          "output_type": "stream",
          "name": "stdout",
          "text": [
            "Epoch 1/10\n",
            "375/375 [==============================] - 5s 4ms/step - loss: 0.6336 - accuracy: 0.8087 - val_loss: 0.2987 - val_accuracy: 0.9031\n",
            "Epoch 2/10\n",
            "375/375 [==============================] - 1s 3ms/step - loss: 0.2533 - accuracy: 0.9216 - val_loss: 0.2555 - val_accuracy: 0.9236\n",
            "Epoch 3/10\n",
            "375/375 [==============================] - 1s 3ms/step - loss: 0.1660 - accuracy: 0.9489 - val_loss: 0.1665 - val_accuracy: 0.9492\n",
            "Epoch 4/10\n",
            "375/375 [==============================] - 1s 3ms/step - loss: 0.1168 - accuracy: 0.9642 - val_loss: 0.1460 - val_accuracy: 0.9553\n",
            "Epoch 5/10\n",
            "375/375 [==============================] - 1s 3ms/step - loss: 0.0858 - accuracy: 0.9731 - val_loss: 0.1284 - val_accuracy: 0.9633\n",
            "Epoch 6/10\n",
            "375/375 [==============================] - 1s 3ms/step - loss: 0.0639 - accuracy: 0.9792 - val_loss: 0.1607 - val_accuracy: 0.9515\n",
            "Epoch 7/10\n",
            "375/375 [==============================] - 1s 3ms/step - loss: 0.0469 - accuracy: 0.9847 - val_loss: 0.1272 - val_accuracy: 0.9666\n",
            "Epoch 8/10\n",
            "375/375 [==============================] - 1s 3ms/step - loss: 0.0351 - accuracy: 0.9890 - val_loss: 0.1246 - val_accuracy: 0.9672\n",
            "Epoch 9/10\n",
            "375/375 [==============================] - 1s 3ms/step - loss: 0.0257 - accuracy: 0.9919 - val_loss: 0.1326 - val_accuracy: 0.9680\n",
            "Epoch 10/10\n",
            "375/375 [==============================] - 1s 3ms/step - loss: 0.0195 - accuracy: 0.9937 - val_loss: 0.1299 - val_accuracy: 0.9711\n",
            "Epoch 1/10\n",
            "375/375 [==============================] - 2s 4ms/step - loss: 0.2867 - accuracy: 0.9180 - val_loss: 0.1615 - val_accuracy: 0.9528\n",
            "Epoch 2/10\n",
            "375/375 [==============================] - 1s 3ms/step - loss: 0.1184 - accuracy: 0.9650 - val_loss: 0.1074 - val_accuracy: 0.9696\n",
            "Epoch 3/10\n",
            "375/375 [==============================] - 1s 3ms/step - loss: 0.0780 - accuracy: 0.9762 - val_loss: 0.0834 - val_accuracy: 0.9751\n",
            "Epoch 4/10\n",
            "375/375 [==============================] - 1s 3ms/step - loss: 0.0554 - accuracy: 0.9836 - val_loss: 0.0861 - val_accuracy: 0.9741\n",
            "Epoch 5/10\n",
            "375/375 [==============================] - 1s 3ms/step - loss: 0.0413 - accuracy: 0.9881 - val_loss: 0.0910 - val_accuracy: 0.9748\n",
            "Epoch 6/10\n",
            "375/375 [==============================] - 1s 3ms/step - loss: 0.0313 - accuracy: 0.9909 - val_loss: 0.0798 - val_accuracy: 0.9796\n",
            "Epoch 7/10\n",
            "375/375 [==============================] - 1s 3ms/step - loss: 0.0234 - accuracy: 0.9934 - val_loss: 0.0855 - val_accuracy: 0.9781\n",
            "Epoch 8/10\n",
            "375/375 [==============================] - 1s 3ms/step - loss: 0.0182 - accuracy: 0.9947 - val_loss: 0.1032 - val_accuracy: 0.9740\n",
            "Epoch 9/10\n",
            "375/375 [==============================] - 1s 3ms/step - loss: 0.0137 - accuracy: 0.9962 - val_loss: 0.0884 - val_accuracy: 0.9783\n",
            "Epoch 10/10\n",
            "375/375 [==============================] - 1s 3ms/step - loss: 0.0105 - accuracy: 0.9971 - val_loss: 0.0899 - val_accuracy: 0.9786\n"
          ]
        }
      ],
      "source": [
        "from tensorflow import keras\n",
        "from tensorflow.keras import layers\n",
        "\n",
        "# Define the Model\n",
        "def get_model():\n",
        "    model = keras.Sequential([\n",
        "        layers.Dense(512, activation=\"relu\"),\n",
        "        layers.Dense(10, activation=\"softmax\")\n",
        "    ])\n",
        "    model.compile(optimizer=\"rmsprop\",\n",
        "                  loss=\"sparse_categorical_crossentropy\",\n",
        "                  metrics=[\"accuracy\"])\n",
        "    return model\n",
        "\n",
        "model = get_model()\n",
        "history_noise = model.fit(\n",
        "    train_images_with_noise_channels, train_labels,\n",
        "    epochs=10,\n",
        "    batch_size=128,\n",
        "    validation_split=0.2)\n",
        "\n",
        "model = get_model()\n",
        "history_zeros = model.fit(\n",
        "    train_images_with_zeros_channels, train_labels,\n",
        "    epochs=10,\n",
        "    batch_size=128,\n",
        "    validation_split=0.2)"
      ]
    },
    {
      "cell_type": "markdown",
      "source": [
        "#### 375값 어떻게 나오는지!\n",
        "- [ 60000 / 128 (batch size) ] * [ 1 - 0.2(validation_split) ]"
      ],
      "metadata": {
        "id": "MAzm3cBDFPo8"
      }
    },
    {
      "cell_type": "code",
      "source": [
        "model = get_model()\n",
        "history1 = model.fit(\n",
        "    train_images, train_labels,\n",
        "    epochs=10,\n",
        "    batch_size=128,\n",
        "    validation_split=0.2)"
      ],
      "metadata": {
        "id": "nx-y3kqNFPBQ",
        "outputId": "4df53aab-411e-43e0-b1fa-c6d033e45b21",
        "colab": {
          "base_uri": "https://localhost:8080/"
        }
      },
      "execution_count": 5,
      "outputs": [
        {
          "output_type": "stream",
          "name": "stdout",
          "text": [
            "Epoch 1/10\n",
            "375/375 [==============================] - 2s 3ms/step - loss: 0.2855 - accuracy: 0.9176 - val_loss: 0.1549 - val_accuracy: 0.9524\n",
            "Epoch 2/10\n",
            "375/375 [==============================] - 1s 3ms/step - loss: 0.1200 - accuracy: 0.9643 - val_loss: 0.1079 - val_accuracy: 0.9669\n",
            "Epoch 3/10\n",
            "375/375 [==============================] - 1s 3ms/step - loss: 0.0773 - accuracy: 0.9775 - val_loss: 0.0862 - val_accuracy: 0.9747\n",
            "Epoch 4/10\n",
            "375/375 [==============================] - 1s 3ms/step - loss: 0.0556 - accuracy: 0.9841 - val_loss: 0.0788 - val_accuracy: 0.9762\n",
            "Epoch 5/10\n",
            "375/375 [==============================] - 1s 3ms/step - loss: 0.0411 - accuracy: 0.9880 - val_loss: 0.0836 - val_accuracy: 0.9754\n",
            "Epoch 6/10\n",
            "375/375 [==============================] - 1s 3ms/step - loss: 0.0310 - accuracy: 0.9908 - val_loss: 0.0871 - val_accuracy: 0.9772\n",
            "Epoch 7/10\n",
            "375/375 [==============================] - 1s 3ms/step - loss: 0.0245 - accuracy: 0.9929 - val_loss: 0.0874 - val_accuracy: 0.9762\n",
            "Epoch 8/10\n",
            "375/375 [==============================] - 1s 3ms/step - loss: 0.0176 - accuracy: 0.9946 - val_loss: 0.0845 - val_accuracy: 0.9792\n",
            "Epoch 9/10\n",
            "375/375 [==============================] - 1s 3ms/step - loss: 0.0136 - accuracy: 0.9960 - val_loss: 0.0795 - val_accuracy: 0.9794\n",
            "Epoch 10/10\n",
            "375/375 [==============================] - 1s 3ms/step - loss: 0.0105 - accuracy: 0.9970 - val_loss: 0.0889 - val_accuracy: 0.9792\n"
          ]
        }
      ]
    },
    {
      "cell_type": "markdown",
      "metadata": {
        "id": "pyRXDw_oWIxL"
      },
      "source": [
        "**Plotting a validation accuracy comparison**"
      ]
    },
    {
      "cell_type": "code",
      "execution_count": 6,
      "metadata": {
        "id": "pehVxQuyWIxL",
        "outputId": "1b257ed2-6893-4b01-fce5-9be07860df4f",
        "colab": {
          "base_uri": "https://localhost:8080/",
          "height": 313
        }
      },
      "outputs": [
        {
          "output_type": "execute_result",
          "data": {
            "text/plain": [
              "<matplotlib.legend.Legend at 0x7f53b861b6d0>"
            ]
          },
          "metadata": {},
          "execution_count": 6
        },
        {
          "output_type": "display_data",
          "data": {
            "text/plain": [
              "<Figure size 432x288 with 1 Axes>"
            ],
            "image/png": "[encoded data removed]"
          },
          "metadata": {
            "needs_background": "light"
          }
        }
      ],
      "source": [
        "import matplotlib.pyplot as plt\n",
        "val_acc_noise = history_noise.history[\"val_accuracy\"]\n",
        "val_acc_zeros = history_zeros.history[\"val_accuracy\"]\n",
        "epochs = range(1, 11)\n",
        "plt.plot(epochs, val_acc_noise, \"b-\",\n",
        "         label=\"Validation accuracy with noise channels\")\n",
        "plt.plot(epochs, val_acc_zeros, \"b--\",\n",
        "         label=\"Validation accuracy with zeros channels\")\n",
        "plt.title(\"Effect of noise channels on validation accuracy\")\n",
        "plt.xlabel(\"Epochs\")\n",
        "plt.ylabel(\"Accuracy\")\n",
        "plt.legend()"
      ]
    },
    {
      "cell_type": "code",
      "source": [
        "import matplotlib.pyplot as plt\n",
        "val_acc = history1.history[\"val_accuracy\"]\n",
        "val_acc_zeros = history_zeros.history[\"val_accuracy\"]\n",
        "epochs = range(1, 11)\n",
        "plt.plot(epochs, val_acc, \"b-\",\n",
        "         label=\"Validation accuracy with original data\")\n",
        "plt.plot(epochs, val_acc_zeros, \"b--\",\n",
        "         label=\"Validation accuracy with zeros channels\")\n",
        "plt.title(\"Effect of noise channels on validation accuracy\")\n",
        "plt.xlabel(\"Epochs\")\n",
        "plt.ylabel(\"Accuracy\")\n",
        "plt.legend()\n",
        "\n",
        "# looks kind similar with original data"
      ],
      "metadata": {
        "id": "71ekBXC0GUMN",
        "outputId": "032c2d52-f6b8-49c3-9575-1a52254ce446",
        "colab": {
          "base_uri": "https://localhost:8080/",
          "height": 313
        }
      },
      "execution_count": 7,
      "outputs": [
        {
          "output_type": "execute_result",
          "data": {
            "text/plain": [
              "<matplotlib.legend.Legend at 0x7f53b8664f90>"
            ]
          },
          "metadata": {},
          "execution_count": 7
        },
        {
          "output_type": "display_data",
          "data": {
            "text/plain": [
              "<Figure size 432x288 with 1 Axes>"
            ],
            "image/png": "[encoded data removed]"
          },
          "metadata": {
            "needs_background": "light"
          }
        }
      ]
    },
    {
      "cell_type": "markdown",
      "metadata": {
        "id": "S440gkjCWIxM"
      },
      "source": [
        "### The nature of generalization in deep learning"
      ]
    },
    {
      "cell_type": "markdown",
      "metadata": {
        "id": "BF0Vv58HWIxN"
      },
      "source": [
        "**Fitting a MNIST model with randomly shuffled labels**"
      ]
    },
    {
      "cell_type": "code",
      "execution_count": 8,
      "metadata": {
        "id": "4aYGJalyWIxO",
        "outputId": "3a871bdb-558e-4f41-8a58-3246df7fff56",
        "colab": {
          "base_uri": "https://localhost:8080/"
        }
      },
      "outputs": [
        {
          "output_type": "stream",
          "name": "stdout",
          "text": [
            "Epoch 1/100\n",
            "375/375 [==============================] - 2s 4ms/step - loss: 2.3173 - accuracy: 0.1057 - val_loss: 2.3070 - val_accuracy: 0.0997\n",
            "Epoch 2/100\n",
            "375/375 [==============================] - 1s 3ms/step - loss: 2.3000 - accuracy: 0.1195 - val_loss: 2.3123 - val_accuracy: 0.1080\n",
            "Epoch 3/100\n",
            "375/375 [==============================] - 1s 3ms/step - loss: 2.2920 - accuracy: 0.1285 - val_loss: 2.3203 - val_accuracy: 0.1039\n",
            "Epoch 4/100\n",
            "375/375 [==============================] - 1s 3ms/step - loss: 2.2776 - accuracy: 0.1399 - val_loss: 2.3275 - val_accuracy: 0.1007\n",
            "Epoch 5/100\n",
            "375/375 [==============================] - 1s 3ms/step - loss: 2.2603 - accuracy: 0.1531 - val_loss: 2.3354 - val_accuracy: 0.1028\n",
            "Epoch 6/100\n",
            "375/375 [==============================] - 1s 3ms/step - loss: 2.2388 - accuracy: 0.1684 - val_loss: 2.3562 - val_accuracy: 0.1070\n",
            "Epoch 7/100\n",
            "375/375 [==============================] - 1s 3ms/step - loss: 2.2140 - accuracy: 0.1811 - val_loss: 2.3678 - val_accuracy: 0.1037\n",
            "Epoch 8/100\n",
            "375/375 [==============================] - 1s 3ms/step - loss: 2.1875 - accuracy: 0.1995 - val_loss: 2.3825 - val_accuracy: 0.1015\n",
            "Epoch 9/100\n",
            "375/375 [==============================] - 1s 3ms/step - loss: 2.1567 - accuracy: 0.2142 - val_loss: 2.4092 - val_accuracy: 0.1020\n",
            "Epoch 10/100\n",
            "375/375 [==============================] - 1s 3ms/step - loss: 2.1252 - accuracy: 0.2316 - val_loss: 2.4363 - val_accuracy: 0.1013\n",
            "Epoch 11/100\n",
            "375/375 [==============================] - 1s 3ms/step - loss: 2.0908 - accuracy: 0.2470 - val_loss: 2.4581 - val_accuracy: 0.1018\n",
            "Epoch 12/100\n",
            "375/375 [==============================] - 1s 3ms/step - loss: 2.0564 - accuracy: 0.2647 - val_loss: 2.4663 - val_accuracy: 0.1007\n",
            "Epoch 13/100\n",
            "375/375 [==============================] - 1s 3ms/step - loss: 2.0225 - accuracy: 0.2801 - val_loss: 2.5055 - val_accuracy: 0.1001\n",
            "Epoch 14/100\n",
            "375/375 [==============================] - 1s 3ms/step - loss: 1.9871 - accuracy: 0.2964 - val_loss: 2.5401 - val_accuracy: 0.1002\n",
            "Epoch 15/100\n",
            "375/375 [==============================] - 1s 3ms/step - loss: 1.9514 - accuracy: 0.3117 - val_loss: 2.5631 - val_accuracy: 0.1026\n",
            "Epoch 16/100\n",
            "375/375 [==============================] - 1s 3ms/step - loss: 1.9159 - accuracy: 0.3257 - val_loss: 2.6048 - val_accuracy: 0.1041\n",
            "Epoch 17/100\n",
            "375/375 [==============================] - 1s 3ms/step - loss: 1.8813 - accuracy: 0.3417 - val_loss: 2.6375 - val_accuracy: 0.1004\n",
            "Epoch 18/100\n",
            "375/375 [==============================] - 1s 3ms/step - loss: 1.8470 - accuracy: 0.3545 - val_loss: 2.6718 - val_accuracy: 0.1009\n",
            "Epoch 19/100\n",
            "375/375 [==============================] - 1s 3ms/step - loss: 1.8143 - accuracy: 0.3652 - val_loss: 2.7058 - val_accuracy: 0.1006\n",
            "Epoch 20/100\n",
            "375/375 [==============================] - 1s 3ms/step - loss: 1.7798 - accuracy: 0.3814 - val_loss: 2.7363 - val_accuracy: 0.1040\n",
            "Epoch 21/100\n",
            "375/375 [==============================] - 1s 3ms/step - loss: 1.7484 - accuracy: 0.3930 - val_loss: 2.7939 - val_accuracy: 0.1006\n",
            "Epoch 22/100\n",
            "375/375 [==============================] - 1s 3ms/step - loss: 1.7154 - accuracy: 0.4081 - val_loss: 2.8423 - val_accuracy: 0.0976\n",
            "Epoch 23/100\n",
            "375/375 [==============================] - 1s 3ms/step - loss: 1.6837 - accuracy: 0.4179 - val_loss: 2.8668 - val_accuracy: 0.0984\n",
            "Epoch 24/100\n",
            "375/375 [==============================] - 1s 3ms/step - loss: 1.6517 - accuracy: 0.4272 - val_loss: 2.9271 - val_accuracy: 0.0997\n",
            "Epoch 25/100\n",
            "375/375 [==============================] - 1s 3ms/step - loss: 1.6248 - accuracy: 0.4383 - val_loss: 2.9497 - val_accuracy: 0.0995\n",
            "Epoch 26/100\n",
            "375/375 [==============================] - 1s 3ms/step - loss: 1.5935 - accuracy: 0.4518 - val_loss: 2.9933 - val_accuracy: 0.1008\n",
            "Epoch 27/100\n",
            "375/375 [==============================] - 1s 3ms/step - loss: 1.5658 - accuracy: 0.4610 - val_loss: 3.0439 - val_accuracy: 0.1008\n",
            "Epoch 28/100\n",
            "375/375 [==============================] - 1s 3ms/step - loss: 1.5354 - accuracy: 0.4709 - val_loss: 3.0899 - val_accuracy: 0.0999\n",
            "Epoch 29/100\n",
            "375/375 [==============================] - 1s 3ms/step - loss: 1.5127 - accuracy: 0.4817 - val_loss: 3.1123 - val_accuracy: 0.0988\n",
            "Epoch 30/100\n",
            "375/375 [==============================] - 1s 3ms/step - loss: 1.4817 - accuracy: 0.4934 - val_loss: 3.1659 - val_accuracy: 0.1009\n",
            "Epoch 31/100\n",
            "375/375 [==============================] - 1s 3ms/step - loss: 1.4567 - accuracy: 0.5038 - val_loss: 3.2015 - val_accuracy: 0.0949\n",
            "Epoch 32/100\n",
            "375/375 [==============================] - 1s 3ms/step - loss: 1.4306 - accuracy: 0.5093 - val_loss: 3.2656 - val_accuracy: 0.0986\n",
            "Epoch 33/100\n",
            "375/375 [==============================] - 1s 3ms/step - loss: 1.4081 - accuracy: 0.5201 - val_loss: 3.2981 - val_accuracy: 0.1011\n",
            "Epoch 34/100\n",
            "375/375 [==============================] - 1s 3ms/step - loss: 1.3816 - accuracy: 0.5250 - val_loss: 3.3443 - val_accuracy: 0.0971\n",
            "Epoch 35/100\n",
            "375/375 [==============================] - 1s 3ms/step - loss: 1.3569 - accuracy: 0.5387 - val_loss: 3.3936 - val_accuracy: 0.0980\n",
            "Epoch 36/100\n",
            "375/375 [==============================] - 1s 3ms/step - loss: 1.3359 - accuracy: 0.5448 - val_loss: 3.4620 - val_accuracy: 0.1009\n",
            "Epoch 37/100\n",
            "375/375 [==============================] - 1s 3ms/step - loss: 1.3140 - accuracy: 0.5521 - val_loss: 3.4882 - val_accuracy: 0.0983\n",
            "Epoch 38/100\n",
            "375/375 [==============================] - 1s 3ms/step - loss: 1.2905 - accuracy: 0.5628 - val_loss: 3.5587 - val_accuracy: 0.0988\n",
            "Epoch 39/100\n",
            "375/375 [==============================] - 1s 3ms/step - loss: 1.2680 - accuracy: 0.5706 - val_loss: 3.6202 - val_accuracy: 0.1005\n",
            "Epoch 40/100\n",
            "375/375 [==============================] - 1s 3ms/step - loss: 1.2433 - accuracy: 0.5812 - val_loss: 3.6506 - val_accuracy: 0.0957\n",
            "Epoch 41/100\n",
            "375/375 [==============================] - 1s 3ms/step - loss: 1.2267 - accuracy: 0.5842 - val_loss: 3.7066 - val_accuracy: 0.1003\n",
            "Epoch 42/100\n",
            "375/375 [==============================] - 1s 3ms/step - loss: 1.2053 - accuracy: 0.5941 - val_loss: 3.8213 - val_accuracy: 0.0979\n",
            "Epoch 43/100\n",
            "375/375 [==============================] - 1s 3ms/step - loss: 1.1847 - accuracy: 0.5984 - val_loss: 3.8155 - val_accuracy: 0.0968\n",
            "Epoch 44/100\n",
            "375/375 [==============================] - 1s 3ms/step - loss: 1.1678 - accuracy: 0.6078 - val_loss: 3.8929 - val_accuracy: 0.0991\n",
            "Epoch 45/100\n",
            "375/375 [==============================] - 1s 3ms/step - loss: 1.1461 - accuracy: 0.6148 - val_loss: 3.9527 - val_accuracy: 0.1007\n",
            "Epoch 46/100\n",
            "375/375 [==============================] - 1s 3ms/step - loss: 1.1280 - accuracy: 0.6235 - val_loss: 3.9564 - val_accuracy: 0.0981\n",
            "Epoch 47/100\n",
            "375/375 [==============================] - 1s 3ms/step - loss: 1.1080 - accuracy: 0.6287 - val_loss: 4.0292 - val_accuracy: 0.1020\n",
            "Epoch 48/100\n",
            "375/375 [==============================] - 1s 3ms/step - loss: 1.0909 - accuracy: 0.6380 - val_loss: 4.0793 - val_accuracy: 0.0992\n",
            "Epoch 49/100\n",
            "375/375 [==============================] - 1s 3ms/step - loss: 1.0726 - accuracy: 0.6425 - val_loss: 4.1602 - val_accuracy: 0.0993\n",
            "Epoch 50/100\n",
            "375/375 [==============================] - 1s 3ms/step - loss: 1.0565 - accuracy: 0.6468 - val_loss: 4.1783 - val_accuracy: 0.0973\n",
            "Epoch 51/100\n",
            "375/375 [==============================] - 1s 3ms/step - loss: 1.0382 - accuracy: 0.6546 - val_loss: 4.2362 - val_accuracy: 0.0976\n",
            "Epoch 52/100\n",
            "375/375 [==============================] - 1s 3ms/step - loss: 1.0216 - accuracy: 0.6583 - val_loss: 4.3014 - val_accuracy: 0.1010\n",
            "Epoch 53/100\n",
            "375/375 [==============================] - 1s 3ms/step - loss: 1.0034 - accuracy: 0.6657 - val_loss: 4.3829 - val_accuracy: 0.1005\n",
            "Epoch 54/100\n",
            "375/375 [==============================] - 1s 3ms/step - loss: 0.9885 - accuracy: 0.6721 - val_loss: 4.4363 - val_accuracy: 0.0990\n",
            "Epoch 55/100\n",
            "375/375 [==============================] - 1s 3ms/step - loss: 0.9736 - accuracy: 0.6766 - val_loss: 4.4516 - val_accuracy: 0.1005\n",
            "Epoch 56/100\n",
            "375/375 [==============================] - 1s 3ms/step - loss: 0.9579 - accuracy: 0.6812 - val_loss: 4.5309 - val_accuracy: 0.1013\n",
            "Epoch 57/100\n",
            "375/375 [==============================] - 1s 3ms/step - loss: 0.9418 - accuracy: 0.6871 - val_loss: 4.6035 - val_accuracy: 0.0976\n",
            "Epoch 58/100\n",
            "375/375 [==============================] - 1s 3ms/step - loss: 0.9286 - accuracy: 0.6918 - val_loss: 4.6554 - val_accuracy: 0.0997\n",
            "Epoch 59/100\n",
            "375/375 [==============================] - 1s 3ms/step - loss: 0.9147 - accuracy: 0.6959 - val_loss: 4.7141 - val_accuracy: 0.0965\n",
            "Epoch 60/100\n",
            "375/375 [==============================] - 1s 3ms/step - loss: 0.9007 - accuracy: 0.7011 - val_loss: 4.7592 - val_accuracy: 0.0998\n",
            "Epoch 61/100\n",
            "375/375 [==============================] - 1s 3ms/step - loss: 0.8855 - accuracy: 0.7053 - val_loss: 4.8208 - val_accuracy: 0.0957\n",
            "Epoch 62/100\n",
            "375/375 [==============================] - 1s 3ms/step - loss: 0.8711 - accuracy: 0.7129 - val_loss: 4.9001 - val_accuracy: 0.1015\n",
            "Epoch 63/100\n",
            "375/375 [==============================] - 1s 3ms/step - loss: 0.8588 - accuracy: 0.7131 - val_loss: 4.9276 - val_accuracy: 0.0997\n",
            "Epoch 64/100\n",
            "375/375 [==============================] - 1s 3ms/step - loss: 0.8437 - accuracy: 0.7214 - val_loss: 4.9930 - val_accuracy: 0.0951\n",
            "Epoch 65/100\n",
            "375/375 [==============================] - 1s 3ms/step - loss: 0.8330 - accuracy: 0.7262 - val_loss: 5.1164 - val_accuracy: 0.0984\n",
            "Epoch 66/100\n",
            "375/375 [==============================] - 1s 3ms/step - loss: 0.8184 - accuracy: 0.7292 - val_loss: 5.1084 - val_accuracy: 0.0982\n",
            "Epoch 67/100\n",
            "375/375 [==============================] - 1s 3ms/step - loss: 0.8067 - accuracy: 0.7331 - val_loss: 5.2045 - val_accuracy: 0.0969\n",
            "Epoch 68/100\n",
            "375/375 [==============================] - 1s 3ms/step - loss: 0.7939 - accuracy: 0.7372 - val_loss: 5.2554 - val_accuracy: 0.0977\n",
            "Epoch 69/100\n",
            "375/375 [==============================] - 1s 3ms/step - loss: 0.7811 - accuracy: 0.7418 - val_loss: 5.3385 - val_accuracy: 0.0957\n",
            "Epoch 70/100\n",
            "375/375 [==============================] - 1s 3ms/step - loss: 0.7702 - accuracy: 0.7477 - val_loss: 5.3758 - val_accuracy: 0.0966\n",
            "Epoch 71/100\n",
            "375/375 [==============================] - 1s 3ms/step - loss: 0.7586 - accuracy: 0.7525 - val_loss: 5.4762 - val_accuracy: 0.0997\n",
            "Epoch 72/100\n",
            "375/375 [==============================] - 1s 3ms/step - loss: 0.7476 - accuracy: 0.7537 - val_loss: 5.4884 - val_accuracy: 0.0976\n",
            "Epoch 73/100\n",
            "375/375 [==============================] - 1s 3ms/step - loss: 0.7380 - accuracy: 0.7568 - val_loss: 5.5690 - val_accuracy: 0.0966\n",
            "Epoch 74/100\n",
            "375/375 [==============================] - 1s 3ms/step - loss: 0.7255 - accuracy: 0.7618 - val_loss: 5.6267 - val_accuracy: 0.0953\n",
            "Epoch 75/100\n",
            "375/375 [==============================] - 1s 3ms/step - loss: 0.7169 - accuracy: 0.7641 - val_loss: 5.7223 - val_accuracy: 0.0963\n",
            "Epoch 76/100\n",
            "375/375 [==============================] - 1s 3ms/step - loss: 0.7020 - accuracy: 0.7703 - val_loss: 5.8060 - val_accuracy: 0.0975\n",
            "Epoch 77/100\n",
            "375/375 [==============================] - 1s 3ms/step - loss: 0.6927 - accuracy: 0.7742 - val_loss: 5.8123 - val_accuracy: 0.1001\n",
            "Epoch 78/100\n",
            "375/375 [==============================] - 1s 3ms/step - loss: 0.6815 - accuracy: 0.7788 - val_loss: 5.8917 - val_accuracy: 0.0992\n",
            "Epoch 79/100\n",
            "375/375 [==============================] - 1s 3ms/step - loss: 0.6733 - accuracy: 0.7808 - val_loss: 5.9493 - val_accuracy: 0.0976\n",
            "Epoch 80/100\n",
            "375/375 [==============================] - 1s 3ms/step - loss: 0.6602 - accuracy: 0.7839 - val_loss: 6.0273 - val_accuracy: 0.0987\n",
            "Epoch 81/100\n",
            "375/375 [==============================] - 1s 3ms/step - loss: 0.6502 - accuracy: 0.7881 - val_loss: 6.0715 - val_accuracy: 0.0958\n",
            "Epoch 82/100\n",
            "375/375 [==============================] - 1s 3ms/step - loss: 0.6430 - accuracy: 0.7915 - val_loss: 6.1270 - val_accuracy: 0.0927\n",
            "Epoch 83/100\n",
            "375/375 [==============================] - 1s 3ms/step - loss: 0.6322 - accuracy: 0.7957 - val_loss: 6.2749 - val_accuracy: 0.0951\n",
            "Epoch 84/100\n",
            "375/375 [==============================] - 1s 3ms/step - loss: 0.6238 - accuracy: 0.7974 - val_loss: 6.2951 - val_accuracy: 0.0947\n",
            "Epoch 85/100\n",
            "375/375 [==============================] - 1s 3ms/step - loss: 0.6154 - accuracy: 0.7984 - val_loss: 6.3471 - val_accuracy: 0.0957\n",
            "Epoch 86/100\n",
            "375/375 [==============================] - 1s 3ms/step - loss: 0.6023 - accuracy: 0.8036 - val_loss: 6.4756 - val_accuracy: 0.0948\n",
            "Epoch 87/100\n",
            "375/375 [==============================] - 1s 3ms/step - loss: 0.5961 - accuracy: 0.8075 - val_loss: 6.4974 - val_accuracy: 0.0986\n",
            "Epoch 88/100\n",
            "375/375 [==============================] - 1s 3ms/step - loss: 0.5843 - accuracy: 0.8112 - val_loss: 6.5410 - val_accuracy: 0.0964\n",
            "Epoch 89/100\n",
            "375/375 [==============================] - 1s 3ms/step - loss: 0.5786 - accuracy: 0.8126 - val_loss: 6.6256 - val_accuracy: 0.0941\n",
            "Epoch 90/100\n",
            "375/375 [==============================] - 1s 3ms/step - loss: 0.5712 - accuracy: 0.8151 - val_loss: 6.7032 - val_accuracy: 0.0966\n",
            "Epoch 91/100\n",
            "375/375 [==============================] - 1s 3ms/step - loss: 0.5623 - accuracy: 0.8198 - val_loss: 6.7434 - val_accuracy: 0.0965\n",
            "Epoch 92/100\n",
            "375/375 [==============================] - 1s 3ms/step - loss: 0.5515 - accuracy: 0.8223 - val_loss: 6.8146 - val_accuracy: 0.0988\n",
            "Epoch 93/100\n",
            "375/375 [==============================] - 1s 3ms/step - loss: 0.5432 - accuracy: 0.8251 - val_loss: 6.9401 - val_accuracy: 0.0948\n",
            "Epoch 94/100\n",
            "375/375 [==============================] - 1s 3ms/step - loss: 0.5359 - accuracy: 0.8266 - val_loss: 7.0209 - val_accuracy: 0.0986\n",
            "Epoch 95/100\n",
            "375/375 [==============================] - 1s 3ms/step - loss: 0.5271 - accuracy: 0.8314 - val_loss: 7.0004 - val_accuracy: 0.0957\n",
            "Epoch 96/100\n",
            "375/375 [==============================] - 1s 3ms/step - loss: 0.5188 - accuracy: 0.8324 - val_loss: 7.0970 - val_accuracy: 0.0955\n",
            "Epoch 97/100\n",
            "375/375 [==============================] - 1s 3ms/step - loss: 0.5148 - accuracy: 0.8329 - val_loss: 7.1237 - val_accuracy: 0.0953\n",
            "Epoch 98/100\n",
            "375/375 [==============================] - 1s 3ms/step - loss: 0.5071 - accuracy: 0.8360 - val_loss: 7.2743 - val_accuracy: 0.0953\n",
            "Epoch 99/100\n",
            "375/375 [==============================] - 1s 3ms/step - loss: 0.4978 - accuracy: 0.8417 - val_loss: 7.2897 - val_accuracy: 0.0939\n",
            "Epoch 100/100\n",
            "375/375 [==============================] - 1s 3ms/step - loss: 0.4898 - accuracy: 0.8422 - val_loss: 7.3774 - val_accuracy: 0.0964\n"
          ]
        },
        {
          "output_type": "execute_result",
          "data": {
            "text/plain": [
              "<keras.callbacks.History at 0x7f53b8089990>"
            ]
          },
          "metadata": {},
          "execution_count": 8
        }
      ],
      "source": [
        "(train_images, train_labels), _ = mnist.load_data()\n",
        "train_images = train_images.reshape((60000, 28 * 28))\n",
        "train_images = train_images.astype(\"float32\") / 255\n",
        "\n",
        "random_train_labels = train_labels[:]\n",
        "np.random.shuffle(random_train_labels)\n",
        "\n",
        "model = keras.Sequential([\n",
        "    layers.Dense(512, activation=\"relu\"),\n",
        "    layers.Dense(10, activation=\"softmax\")\n",
        "])\n",
        "model.compile(optimizer=\"rmsprop\",\n",
        "              loss=\"sparse_categorical_crossentropy\",\n",
        "              metrics=[\"accuracy\"])\n",
        "model.fit(train_images, random_train_labels,\n",
        "          epochs=100,\n",
        "          batch_size=128,\n",
        "          validation_split=0.2)"
      ]
    },
    {
      "cell_type": "code",
      "source": [
        "print(train_labels)\n",
        "print(random_train_labels)\n",
        "np.random.shuffle(random_train_labels)\n",
        "print(random_train_labels) # np random shuffle이 바로 저장이 되는구나!"
      ],
      "metadata": {
        "id": "8GSPdLHWKEhC",
        "outputId": "4287f628-6479-45d1-ab07-9994e4ec9147",
        "colab": {
          "base_uri": "https://localhost:8080/"
        }
      },
      "execution_count": 9,
      "outputs": [
        {
          "output_type": "stream",
          "name": "stdout",
          "text": [
            "[4 4 0 ... 3 8 3]\n",
            "[4 4 0 ... 3 8 3]\n",
            "[9 4 2 ... 5 6 0]\n"
          ]
        }
      ]
    },
    {
      "cell_type": "markdown",
      "metadata": {
        "id": "vfgb0O4PWIxP"
      },
      "source": [
        "#### The manifold hypothesis"
      ]
    },
    {
      "cell_type": "markdown",
      "metadata": {
        "id": "tDJn2uVfWIxP"
      },
      "source": [
        "#### Interpolation as a source of generalization"
      ]
    },
    {
      "cell_type": "markdown",
      "metadata": {
        "id": "qtH1BS6tWIxQ"
      },
      "source": [
        "#### Why deep learning works"
      ]
    },
    {
      "cell_type": "markdown",
      "metadata": {
        "id": "6Vjp9Y-WWIxR"
      },
      "source": [
        "#### Training data is paramount"
      ]
    },
    {
      "cell_type": "markdown",
      "metadata": {
        "id": "Za5414uDWIxT"
      },
      "source": [
        "## Evaluating machine-learning models"
      ]
    },
    {
      "cell_type": "markdown",
      "metadata": {
        "id": "nJv0ReLJWIxU"
      },
      "source": [
        "### Training, validation, and test sets"
      ]
    },
    {
      "cell_type": "markdown",
      "metadata": {
        "id": "Z8uvstMyWIxU"
      },
      "source": [
        "#### Simple hold-out validation"
      ]
    },
    {
      "cell_type": "markdown",
      "metadata": {
        "id": "kmEs6DOGWIxV"
      },
      "source": [
        "#### K-fold validation"
      ]
    },
    {
      "cell_type": "markdown",
      "metadata": {
        "id": "EmiPsmr9WIxV"
      },
      "source": [
        "#### Iterated K-fold validation with shuffling"
      ]
    },
    {
      "cell_type": "markdown",
      "metadata": {
        "id": "pZEfHs3OWIxW"
      },
      "source": [
        "### Beating a common-sense baseline"
      ]
    },
    {
      "cell_type": "markdown",
      "metadata": {
        "id": "oN5I_H__WIxW"
      },
      "source": [
        "### Things to keep in mind about model evaluation"
      ]
    },
    {
      "cell_type": "markdown",
      "metadata": {
        "id": "czOzdGRiWIxX"
      },
      "source": [
        "## Improving model fit"
      ]
    },
    {
      "cell_type": "markdown",
      "metadata": {
        "id": "qtHdfhMXWIxY"
      },
      "source": [
        "### Tuning key gradient descent parameters"
      ]
    },
    {
      "cell_type": "markdown",
      "metadata": {
        "id": "E4YPR0FUWIxY"
      },
      "source": [
        "**Training a MNIST model with an incorrectly high learning rate**"
      ]
    },
    {
      "cell_type": "code",
      "execution_count": 10,
      "metadata": {
        "id": "_Ax5o8J7WIxZ",
        "outputId": "772f2a6a-4454-4703-cb7a-a01f3547ad37",
        "colab": {
          "base_uri": "https://localhost:8080/"
        }
      },
      "outputs": [
        {
          "output_type": "stream",
          "name": "stdout",
          "text": [
            "Epoch 1/10\n",
            "375/375 [==============================] - 2s 3ms/step - loss: 846.0012 - accuracy: 0.3510 - val_loss: 2.1535 - val_accuracy: 0.2701\n",
            "Epoch 2/10\n",
            "375/375 [==============================] - 1s 3ms/step - loss: 4.2530 - accuracy: 0.2503 - val_loss: 2.3671 - val_accuracy: 0.2277\n",
            "Epoch 3/10\n",
            "375/375 [==============================] - 1s 3ms/step - loss: 3.5897 - accuracy: 0.2440 - val_loss: 2.4778 - val_accuracy: 0.2029\n",
            "Epoch 4/10\n",
            "375/375 [==============================] - 1s 3ms/step - loss: 2.8445 - accuracy: 0.2792 - val_loss: 2.7942 - val_accuracy: 0.3330\n",
            "Epoch 5/10\n",
            "375/375 [==============================] - 1s 3ms/step - loss: 3.6238 - accuracy: 0.2875 - val_loss: 2.7463 - val_accuracy: 0.2730\n",
            "Epoch 6/10\n",
            "375/375 [==============================] - 1s 3ms/step - loss: 2.8382 - accuracy: 0.2750 - val_loss: 2.7005 - val_accuracy: 0.3445\n",
            "Epoch 7/10\n",
            "375/375 [==============================] - 1s 3ms/step - loss: 2.9276 - accuracy: 0.2907 - val_loss: 2.4368 - val_accuracy: 0.3037\n",
            "Epoch 8/10\n",
            "375/375 [==============================] - 1s 3ms/step - loss: 2.4868 - accuracy: 0.2633 - val_loss: 3.4431 - val_accuracy: 0.2348\n",
            "Epoch 9/10\n",
            "375/375 [==============================] - 1s 3ms/step - loss: 2.4813 - accuracy: 0.2511 - val_loss: 2.1794 - val_accuracy: 0.2736\n",
            "Epoch 10/10\n",
            "375/375 [==============================] - 1s 3ms/step - loss: 2.5794 - accuracy: 0.2569 - val_loss: 2.1503 - val_accuracy: 0.2839\n"
          ]
        },
        {
          "output_type": "execute_result",
          "data": {
            "text/plain": [
              "<keras.callbacks.History at 0x7f5395adabd0>"
            ]
          },
          "metadata": {},
          "execution_count": 10
        }
      ],
      "source": [
        "from tensorflow import keras\n",
        "from tensorflow.keras import layers\n",
        "\n",
        "from tensorflow.keras.datasets import mnist\n",
        "import numpy as np\n",
        "\n",
        "(train_images, train_labels), _ = mnist.load_data()\n",
        "train_images = train_images.reshape((60000, 28 * 28))\n",
        "train_images = train_images.astype(\"float32\") / 255\n",
        "\n",
        "model = keras.Sequential([\n",
        "    layers.Dense(512, activation=\"relu\"),\n",
        "    layers.Dense(10, activation=\"softmax\")\n",
        "])\n",
        "model.compile(optimizer=keras.optimizers.RMSprop(1.),\n",
        "              loss=\"sparse_categorical_crossentropy\",\n",
        "              metrics=[\"accuracy\"])\n",
        "model.fit(train_images, train_labels,\n",
        "          epochs=10,\n",
        "          batch_size=128,\n",
        "          validation_split=0.2)\n",
        "\n",
        "## loss improve가 아예 진행 안되는 첫번째 경우"
      ]
    },
    {
      "cell_type": "markdown",
      "metadata": {
        "id": "Sb2mKZvmWIxZ"
      },
      "source": [
        "**The same model with a more appropriate learning rate**"
      ]
    },
    {
      "cell_type": "code",
      "execution_count": 11,
      "metadata": {
        "id": "P4OybeNSWIxa",
        "outputId": "9a43ff3e-0f66-495d-b676-1e71cd0d90fd",
        "colab": {
          "base_uri": "https://localhost:8080/"
        }
      },
      "outputs": [
        {
          "output_type": "stream",
          "name": "stdout",
          "text": [
            "Epoch 1/10\n",
            "375/375 [==============================] - 2s 3ms/step - loss: 0.3498 - accuracy: 0.9129 - val_loss: 0.1973 - val_accuracy: 0.9449\n",
            "Epoch 2/10\n",
            "375/375 [==============================] - 1s 3ms/step - loss: 0.1400 - accuracy: 0.9641 - val_loss: 0.1659 - val_accuracy: 0.9653\n",
            "Epoch 3/10\n",
            "375/375 [==============================] - 1s 3ms/step - loss: 0.1166 - accuracy: 0.9718 - val_loss: 0.1660 - val_accuracy: 0.9677\n",
            "Epoch 4/10\n",
            "375/375 [==============================] - 1s 3ms/step - loss: 0.1021 - accuracy: 0.9776 - val_loss: 0.1879 - val_accuracy: 0.9708\n",
            "Epoch 5/10\n",
            "375/375 [==============================] - 1s 3ms/step - loss: 0.0871 - accuracy: 0.9819 - val_loss: 0.2294 - val_accuracy: 0.9685\n",
            "Epoch 6/10\n",
            "375/375 [==============================] - 1s 3ms/step - loss: 0.0862 - accuracy: 0.9836 - val_loss: 0.2119 - val_accuracy: 0.9718\n",
            "Epoch 7/10\n",
            "375/375 [==============================] - 1s 3ms/step - loss: 0.0663 - accuracy: 0.9868 - val_loss: 0.2361 - val_accuracy: 0.9743\n",
            "Epoch 8/10\n",
            "375/375 [==============================] - 1s 3ms/step - loss: 0.0700 - accuracy: 0.9873 - val_loss: 0.2517 - val_accuracy: 0.9750\n",
            "Epoch 9/10\n",
            "375/375 [==============================] - 1s 3ms/step - loss: 0.0571 - accuracy: 0.9893 - val_loss: 0.2621 - val_accuracy: 0.9751\n",
            "Epoch 10/10\n",
            "375/375 [==============================] - 1s 3ms/step - loss: 0.0584 - accuracy: 0.9900 - val_loss: 0.3547 - val_accuracy: 0.9722\n"
          ]
        },
        {
          "output_type": "execute_result",
          "data": {
            "text/plain": [
              "<keras.callbacks.History at 0x7f5395147d50>"
            ]
          },
          "metadata": {},
          "execution_count": 11
        }
      ],
      "source": [
        "model = keras.Sequential([\n",
        "    layers.Dense(512, activation=\"relu\"),\n",
        "    layers.Dense(10, activation=\"softmax\")\n",
        "])\n",
        "model.compile(optimizer=keras.optimizers.RMSprop(1e-2),\n",
        "              loss=\"sparse_categorical_crossentropy\",\n",
        "              metrics=[\"accuracy\"])\n",
        "model.fit(train_images, train_labels,\n",
        "          epochs=10,\n",
        "          batch_size=128,\n",
        "          validation_split=0.2)\n",
        "\n",
        "## 결과 앞보단 나음. 잘됨. 그래도 저 RMSprop이 너무너무 작으면 converge slowly라 안좋음"
      ]
    },
    {
      "cell_type": "markdown",
      "metadata": {
        "id": "Acr8ydg0WIxa"
      },
      "source": [
        "### Leveraging better architecture priors"
      ]
    },
    {
      "cell_type": "markdown",
      "metadata": {
        "id": "MeUhw9rKWIxb"
      },
      "source": [
        "### Increasing model capacity"
      ]
    },
    {
      "cell_type": "markdown",
      "metadata": {
        "id": "_0F8XyXHWIxb"
      },
      "source": [
        "**A simple logistic regression on MNIST**"
      ]
    },
    {
      "cell_type": "code",
      "execution_count": 12,
      "metadata": {
        "id": "QKTixuKPWIxc",
        "outputId": "119ba772-99b4-42c6-8349-db0024c94f42",
        "colab": {
          "base_uri": "https://localhost:8080/"
        }
      },
      "outputs": [
        {
          "output_type": "stream",
          "name": "stdout",
          "text": [
            "Epoch 1/20\n",
            "375/375 [==============================] - 2s 3ms/step - loss: 0.6625 - accuracy: 0.8408 - val_loss: 0.3562 - val_accuracy: 0.9053\n",
            "Epoch 2/20\n",
            "375/375 [==============================] - 1s 3ms/step - loss: 0.3502 - accuracy: 0.9033 - val_loss: 0.3057 - val_accuracy: 0.9165\n",
            "Epoch 3/20\n",
            "375/375 [==============================] - 1s 3ms/step - loss: 0.3152 - accuracy: 0.9126 - val_loss: 0.2911 - val_accuracy: 0.9183\n",
            "Epoch 4/20\n",
            "375/375 [==============================] - 1s 3ms/step - loss: 0.2989 - accuracy: 0.9164 - val_loss: 0.2803 - val_accuracy: 0.9230\n",
            "Epoch 5/20\n",
            "375/375 [==============================] - 1s 3ms/step - loss: 0.2896 - accuracy: 0.9191 - val_loss: 0.2744 - val_accuracy: 0.9243\n",
            "Epoch 6/20\n",
            "375/375 [==============================] - 1s 2ms/step - loss: 0.2832 - accuracy: 0.9217 - val_loss: 0.2715 - val_accuracy: 0.9248\n",
            "Epoch 7/20\n",
            "375/375 [==============================] - 1s 2ms/step - loss: 0.2782 - accuracy: 0.9221 - val_loss: 0.2686 - val_accuracy: 0.9257\n",
            "Epoch 8/20\n",
            "375/375 [==============================] - 1s 3ms/step - loss: 0.2745 - accuracy: 0.9236 - val_loss: 0.2687 - val_accuracy: 0.9262\n",
            "Epoch 9/20\n",
            "375/375 [==============================] - 1s 3ms/step - loss: 0.2714 - accuracy: 0.9244 - val_loss: 0.2655 - val_accuracy: 0.9273\n",
            "Epoch 10/20\n",
            "375/375 [==============================] - 1s 3ms/step - loss: 0.2686 - accuracy: 0.9254 - val_loss: 0.2637 - val_accuracy: 0.9280\n",
            "Epoch 11/20\n",
            "375/375 [==============================] - 1s 2ms/step - loss: 0.2664 - accuracy: 0.9263 - val_loss: 0.2638 - val_accuracy: 0.9295\n",
            "Epoch 12/20\n",
            "375/375 [==============================] - 1s 3ms/step - loss: 0.2648 - accuracy: 0.9265 - val_loss: 0.2624 - val_accuracy: 0.9295\n",
            "Epoch 13/20\n",
            "375/375 [==============================] - 1s 3ms/step - loss: 0.2631 - accuracy: 0.9280 - val_loss: 0.2630 - val_accuracy: 0.9288\n",
            "Epoch 14/20\n",
            "375/375 [==============================] - 1s 3ms/step - loss: 0.2618 - accuracy: 0.9283 - val_loss: 0.2614 - val_accuracy: 0.9294\n",
            "Epoch 15/20\n",
            "375/375 [==============================] - 1s 3ms/step - loss: 0.2603 - accuracy: 0.9282 - val_loss: 0.2610 - val_accuracy: 0.9295\n",
            "Epoch 16/20\n",
            "375/375 [==============================] - 1s 3ms/step - loss: 0.2593 - accuracy: 0.9291 - val_loss: 0.2622 - val_accuracy: 0.9298\n",
            "Epoch 17/20\n",
            "375/375 [==============================] - 1s 3ms/step - loss: 0.2582 - accuracy: 0.9298 - val_loss: 0.2610 - val_accuracy: 0.9302\n",
            "Epoch 18/20\n",
            "375/375 [==============================] - 1s 3ms/step - loss: 0.2572 - accuracy: 0.9296 - val_loss: 0.2606 - val_accuracy: 0.9309\n",
            "Epoch 19/20\n",
            "375/375 [==============================] - 1s 3ms/step - loss: 0.2562 - accuracy: 0.9300 - val_loss: 0.2605 - val_accuracy: 0.9315\n",
            "Epoch 20/20\n",
            "375/375 [==============================] - 1s 3ms/step - loss: 0.2558 - accuracy: 0.9304 - val_loss: 0.2634 - val_accuracy: 0.9303\n"
          ]
        }
      ],
      "source": [
        "model = keras.Sequential([layers.Dense(10, activation=\"softmax\")])\n",
        "model.compile(optimizer=\"rmsprop\",\n",
        "              loss=\"sparse_categorical_crossentropy\",\n",
        "              metrics=[\"accuracy\"])\n",
        "history_small_model = model.fit(\n",
        "    train_images, train_labels,\n",
        "    epochs=20,\n",
        "    batch_size=128,\n",
        "    validation_split=0.2)"
      ]
    },
    {
      "cell_type": "code",
      "execution_count": 13,
      "metadata": {
        "id": "gn2HGOkIWIxc",
        "outputId": "4dab83f4-2c58-411b-b457-c5bfd05ae62a",
        "colab": {
          "base_uri": "https://localhost:8080/",
          "height": 313
        }
      },
      "outputs": [
        {
          "output_type": "execute_result",
          "data": {
            "text/plain": [
              "<matplotlib.legend.Legend at 0x7f5395acddd0>"
            ]
          },
          "metadata": {},
          "execution_count": 13
        },
        {
          "output_type": "display_data",
          "data": {
            "text/plain": [
              "<Figure size 432x288 with 1 Axes>"
            ],
            "image/png": "[encoded data removed]"
          },
          "metadata": {
            "needs_background": "light"
          }
        }
      ],
      "source": [
        "import matplotlib.pyplot as plt\n",
        "val_loss = history_small_model.history[\"val_loss\"]\n",
        "epochs = range(1, 21)\n",
        "plt.plot(epochs, val_loss, \"b--\",\n",
        "         label=\"Validation loss\")\n",
        "plt.title(\"Effect of insufficient model capacity on validation loss\")\n",
        "plt.xlabel(\"Epochs\")\n",
        "plt.ylabel(\"Loss\")\n",
        "plt.legend()\n",
        "\n",
        "#우하향하는 그래프 나올거다. epoch 늘리는 게 좋은 건 아닌데.. loss도 작은 편은 아님"
      ]
    },
    {
      "cell_type": "code",
      "execution_count": 14,
      "metadata": {
        "id": "FdaD8oGEWIxd",
        "outputId": "8e40fbbf-0cc1-48ec-fa28-df8578fd4355",
        "colab": {
          "base_uri": "https://localhost:8080/"
        }
      },
      "outputs": [
        {
          "output_type": "stream",
          "name": "stdout",
          "text": [
            "Epoch 1/20\n",
            "375/375 [==============================] - 2s 4ms/step - loss: 0.3544 - accuracy: 0.9005 - val_loss: 0.1892 - val_accuracy: 0.9457\n",
            "Epoch 2/20\n",
            "375/375 [==============================] - 1s 3ms/step - loss: 0.1573 - accuracy: 0.9530 - val_loss: 0.1527 - val_accuracy: 0.9561\n",
            "Epoch 3/20\n",
            "375/375 [==============================] - 1s 3ms/step - loss: 0.1123 - accuracy: 0.9666 - val_loss: 0.1236 - val_accuracy: 0.9636\n",
            "Epoch 4/20\n",
            "375/375 [==============================] - 1s 3ms/step - loss: 0.0857 - accuracy: 0.9735 - val_loss: 0.1094 - val_accuracy: 0.9675\n",
            "Epoch 5/20\n",
            "375/375 [==============================] - 1s 3ms/step - loss: 0.0691 - accuracy: 0.9787 - val_loss: 0.1016 - val_accuracy: 0.9690\n",
            "Epoch 6/20\n",
            "375/375 [==============================] - 1s 3ms/step - loss: 0.0575 - accuracy: 0.9825 - val_loss: 0.1006 - val_accuracy: 0.9714\n",
            "Epoch 7/20\n",
            "375/375 [==============================] - 1s 3ms/step - loss: 0.0464 - accuracy: 0.9859 - val_loss: 0.0976 - val_accuracy: 0.9726\n",
            "Epoch 8/20\n",
            "375/375 [==============================] - 1s 3ms/step - loss: 0.0405 - accuracy: 0.9875 - val_loss: 0.0917 - val_accuracy: 0.9752\n",
            "Epoch 9/20\n",
            "375/375 [==============================] - 1s 3ms/step - loss: 0.0336 - accuracy: 0.9893 - val_loss: 0.1049 - val_accuracy: 0.9719\n",
            "Epoch 10/20\n",
            "375/375 [==============================] - 1s 3ms/step - loss: 0.0279 - accuracy: 0.9914 - val_loss: 0.1031 - val_accuracy: 0.9747\n",
            "Epoch 11/20\n",
            "375/375 [==============================] - 1s 3ms/step - loss: 0.0238 - accuracy: 0.9929 - val_loss: 0.1095 - val_accuracy: 0.9732\n",
            "Epoch 12/20\n",
            "375/375 [==============================] - 1s 3ms/step - loss: 0.0206 - accuracy: 0.9937 - val_loss: 0.1023 - val_accuracy: 0.9754\n",
            "Epoch 13/20\n",
            "375/375 [==============================] - 1s 3ms/step - loss: 0.0169 - accuracy: 0.9947 - val_loss: 0.1253 - val_accuracy: 0.9723\n",
            "Epoch 14/20\n",
            "375/375 [==============================] - 1s 3ms/step - loss: 0.0142 - accuracy: 0.9959 - val_loss: 0.1145 - val_accuracy: 0.9758\n",
            "Epoch 15/20\n",
            "375/375 [==============================] - 1s 3ms/step - loss: 0.0121 - accuracy: 0.9963 - val_loss: 0.1156 - val_accuracy: 0.9747\n",
            "Epoch 16/20\n",
            "375/375 [==============================] - 1s 3ms/step - loss: 0.0107 - accuracy: 0.9968 - val_loss: 0.1191 - val_accuracy: 0.9770\n",
            "Epoch 17/20\n",
            "375/375 [==============================] - 1s 3ms/step - loss: 0.0086 - accuracy: 0.9973 - val_loss: 0.1236 - val_accuracy: 0.9761\n",
            "Epoch 18/20\n",
            "375/375 [==============================] - 1s 3ms/step - loss: 0.0084 - accuracy: 0.9975 - val_loss: 0.1208 - val_accuracy: 0.9773\n",
            "Epoch 19/20\n",
            "375/375 [==============================] - 1s 3ms/step - loss: 0.0062 - accuracy: 0.9983 - val_loss: 0.1553 - val_accuracy: 0.9744\n",
            "Epoch 20/20\n",
            "375/375 [==============================] - 1s 3ms/step - loss: 0.0057 - accuracy: 0.9982 - val_loss: 0.1435 - val_accuracy: 0.9758\n"
          ]
        }
      ],
      "source": [
        "model = keras.Sequential([\n",
        "    layers.Dense(96, activation=\"relu\"),\n",
        "    layers.Dense(96, activation=\"relu\"),\n",
        "    layers.Dense(10, activation=\"softmax\"),\n",
        "])\n",
        "model.compile(optimizer=\"rmsprop\",\n",
        "              loss=\"sparse_categorical_crossentropy\",\n",
        "              metrics=[\"accuracy\"])\n",
        "history_large_model = model.fit(\n",
        "    train_images, train_labels,\n",
        "    epochs=20,\n",
        "    batch_size=128,\n",
        "    validation_split=0.2)"
      ]
    },
    {
      "cell_type": "code",
      "source": [
        "import matplotlib.pyplot as plt\n",
        "val_loss = history_large_model.history[\"val_loss\"]\n",
        "epochs = range(1, 21)\n",
        "plt.plot(epochs, val_loss, \"b--\",\n",
        "         label=\"Validation loss\")\n",
        "plt.title(\"Effect of large model capacity on validation loss\")\n",
        "plt.xlabel(\"Epochs\")\n",
        "plt.ylabel(\"Loss\")\n",
        "plt.legend()\n",
        "\n",
        "## overfit 문제는 있지만 loss도 줄고 좋아!"
      ],
      "metadata": {
        "id": "jUXJDxK8dRTC",
        "outputId": "6fe6d2a7-d36b-42ee-8f18-a5382ec2f17a",
        "colab": {
          "base_uri": "https://localhost:8080/",
          "height": 313
        }
      },
      "execution_count": 15,
      "outputs": [
        {
          "output_type": "execute_result",
          "data": {
            "text/plain": [
              "<matplotlib.legend.Legend at 0x7f5394dc0790>"
            ]
          },
          "metadata": {},
          "execution_count": 15
        },
        {
          "output_type": "display_data",
          "data": {
            "text/plain": [
              "<Figure size 432x288 with 1 Axes>"
            ],
            "image/png": "[encoded data removed]"
          },
          "metadata": {
            "needs_background": "light"
          }
        }
      ]
    },
    {
      "cell_type": "markdown",
      "metadata": {
        "id": "p0U7L0O1WIxe"
      },
      "source": [
        "## Improving generalization"
      ]
    },
    {
      "cell_type": "markdown",
      "metadata": {
        "id": "BbIkvEmmWIxe"
      },
      "source": [
        "### Dataset curation"
      ]
    },
    {
      "cell_type": "markdown",
      "metadata": {
        "id": "G1WHqz2HWIxf"
      },
      "source": [
        "### Feature engineering"
      ]
    },
    {
      "cell_type": "markdown",
      "metadata": {
        "id": "I7Q6kap8WIxf"
      },
      "source": [
        "### Using early stopping"
      ]
    },
    {
      "cell_type": "markdown",
      "metadata": {
        "id": "5k6tWDESWIxf"
      },
      "source": [
        "### Regularizing your model"
      ]
    },
    {
      "cell_type": "markdown",
      "metadata": {
        "id": "9A9jMF-WWIxg"
      },
      "source": [
        "#### Reducing the network's size"
      ]
    },
    {
      "cell_type": "markdown",
      "metadata": {
        "id": "7RE2QwSqWIxg"
      },
      "source": [
        "**Original model**"
      ]
    },
    {
      "cell_type": "code",
      "execution_count": 16,
      "metadata": {
        "id": "GLkAhHlmWIxg",
        "outputId": "041ce071-1c1c-4027-839a-e3bffa2e8131",
        "colab": {
          "base_uri": "https://localhost:8080/"
        }
      },
      "outputs": [
        {
          "output_type": "stream",
          "name": "stdout",
          "text": [
            "Downloading data from https://storage.googleapis.com/tensorflow/tf-keras-datasets/imdb.npz\n",
            "17465344/17464789 [==============================] - 0s 0us/step\n",
            "17473536/17464789 [==============================] - 0s 0us/step\n",
            "Epoch 1/20\n",
            "30/30 [==============================] - 2s 38ms/step - loss: 0.5047 - accuracy: 0.7931 - val_loss: 0.3773 - val_accuracy: 0.8764\n",
            "Epoch 2/20\n",
            "30/30 [==============================] - 1s 19ms/step - loss: 0.3047 - accuracy: 0.9005 - val_loss: 0.3047 - val_accuracy: 0.8879\n",
            "Epoch 3/20\n",
            "30/30 [==============================] - 1s 18ms/step - loss: 0.2261 - accuracy: 0.9255 - val_loss: 0.2774 - val_accuracy: 0.8943\n",
            "Epoch 4/20\n",
            "30/30 [==============================] - 1s 19ms/step - loss: 0.1776 - accuracy: 0.9427 - val_loss: 0.2750 - val_accuracy: 0.8913\n",
            "Epoch 5/20\n",
            "30/30 [==============================] - 1s 20ms/step - loss: 0.1455 - accuracy: 0.9543 - val_loss: 0.2783 - val_accuracy: 0.8902\n",
            "Epoch 6/20\n",
            "30/30 [==============================] - 1s 25ms/step - loss: 0.1186 - accuracy: 0.9641 - val_loss: 0.3247 - val_accuracy: 0.8748\n",
            "Epoch 7/20\n",
            "30/30 [==============================] - 1s 25ms/step - loss: 0.0989 - accuracy: 0.9707 - val_loss: 0.3316 - val_accuracy: 0.8788\n",
            "Epoch 8/20\n",
            "30/30 [==============================] - 1s 27ms/step - loss: 0.0820 - accuracy: 0.9772 - val_loss: 0.3359 - val_accuracy: 0.8809\n",
            "Epoch 9/20\n",
            "30/30 [==============================] - 1s 28ms/step - loss: 0.0683 - accuracy: 0.9812 - val_loss: 0.3636 - val_accuracy: 0.8805\n",
            "Epoch 10/20\n",
            "30/30 [==============================] - 1s 29ms/step - loss: 0.0566 - accuracy: 0.9848 - val_loss: 0.3848 - val_accuracy: 0.8791\n",
            "Epoch 11/20\n",
            "30/30 [==============================] - 1s 28ms/step - loss: 0.0480 - accuracy: 0.9883 - val_loss: 0.4037 - val_accuracy: 0.8780\n",
            "Epoch 12/20\n",
            "30/30 [==============================] - 1s 29ms/step - loss: 0.0390 - accuracy: 0.9908 - val_loss: 0.4348 - val_accuracy: 0.8756\n",
            "Epoch 13/20\n",
            "30/30 [==============================] - 1s 24ms/step - loss: 0.0329 - accuracy: 0.9926 - val_loss: 0.4659 - val_accuracy: 0.8727\n",
            "Epoch 14/20\n",
            "30/30 [==============================] - 1s 28ms/step - loss: 0.0243 - accuracy: 0.9951 - val_loss: 0.5081 - val_accuracy: 0.8705\n",
            "Epoch 15/20\n",
            "30/30 [==============================] - 1s 27ms/step - loss: 0.0184 - accuracy: 0.9969 - val_loss: 0.5361 - val_accuracy: 0.8705\n",
            "Epoch 16/20\n",
            "30/30 [==============================] - 1s 28ms/step - loss: 0.0174 - accuracy: 0.9962 - val_loss: 0.5902 - val_accuracy: 0.8670\n",
            "Epoch 17/20\n",
            "30/30 [==============================] - 1s 27ms/step - loss: 0.0097 - accuracy: 0.9991 - val_loss: 0.6142 - val_accuracy: 0.8668\n",
            "Epoch 18/20\n",
            "30/30 [==============================] - 1s 28ms/step - loss: 0.0109 - accuracy: 0.9983 - val_loss: 0.6454 - val_accuracy: 0.8665\n",
            "Epoch 19/20\n",
            "30/30 [==============================] - 1s 32ms/step - loss: 0.0051 - accuracy: 0.9996 - val_loss: 0.6806 - val_accuracy: 0.8646\n",
            "Epoch 20/20\n",
            "30/30 [==============================] - 1s 25ms/step - loss: 0.0069 - accuracy: 0.9990 - val_loss: 0.7140 - val_accuracy: 0.8638\n"
          ]
        }
      ],
      "source": [
        "from tensorflow.keras.datasets import imdb\n",
        "(train_data, train_labels), _ = imdb.load_data(num_words=10000)\n",
        "\n",
        "def vectorize_sequences(sequences, dimension=10000):\n",
        "    results = np.zeros((len(sequences), dimension))\n",
        "    for i, sequence in enumerate(sequences):\n",
        "        results[i, sequence] = 1.\n",
        "    return results\n",
        "train_data = vectorize_sequences(train_data)\n",
        "\n",
        "model = keras.Sequential([\n",
        "    layers.Dense(16, activation=\"relu\"),\n",
        "    layers.Dense(16, activation=\"relu\"),\n",
        "    layers.Dense(1, activation=\"sigmoid\")\n",
        "])\n",
        "model.compile(optimizer=\"rmsprop\",\n",
        "              loss=\"binary_crossentropy\",\n",
        "              metrics=[\"accuracy\"])\n",
        "history_original = model.fit(train_data, train_labels,\n",
        "                             epochs=20, batch_size=512, validation_split=0.4)"
      ]
    },
    {
      "cell_type": "markdown",
      "metadata": {
        "id": "r5_3lSzgWIxh"
      },
      "source": [
        "**Version of the model with lower capacity**"
      ]
    },
    {
      "cell_type": "code",
      "execution_count": 17,
      "metadata": {
        "id": "-AdE2hILWIxi",
        "outputId": "fbcedadd-f9a7-4532-9d5d-ad1d713206f9",
        "colab": {
          "base_uri": "https://localhost:8080/"
        }
      },
      "outputs": [
        {
          "output_type": "stream",
          "name": "stdout",
          "text": [
            "Epoch 1/20\n",
            "30/30 [==============================] - 2s 39ms/step - loss: 0.5876 - accuracy: 0.7679 - val_loss: 0.4973 - val_accuracy: 0.8520\n",
            "Epoch 2/20\n",
            "30/30 [==============================] - 1s 19ms/step - loss: 0.4314 - accuracy: 0.8870 - val_loss: 0.4114 - val_accuracy: 0.8705\n",
            "Epoch 3/20\n",
            "30/30 [==============================] - 1s 19ms/step - loss: 0.3437 - accuracy: 0.9083 - val_loss: 0.3506 - val_accuracy: 0.8807\n",
            "Epoch 4/20\n",
            "30/30 [==============================] - 1s 20ms/step - loss: 0.2841 - accuracy: 0.9211 - val_loss: 0.3233 - val_accuracy: 0.8795\n",
            "Epoch 5/20\n",
            "30/30 [==============================] - 1s 19ms/step - loss: 0.2428 - accuracy: 0.9291 - val_loss: 0.3002 - val_accuracy: 0.8884\n",
            "Epoch 6/20\n",
            "30/30 [==============================] - 1s 23ms/step - loss: 0.2116 - accuracy: 0.9389 - val_loss: 0.2852 - val_accuracy: 0.8903\n",
            "Epoch 7/20\n",
            "30/30 [==============================] - 1s 19ms/step - loss: 0.1868 - accuracy: 0.9448 - val_loss: 0.2768 - val_accuracy: 0.8926\n",
            "Epoch 8/20\n",
            "30/30 [==============================] - 1s 19ms/step - loss: 0.1662 - accuracy: 0.9515 - val_loss: 0.2739 - val_accuracy: 0.8932\n",
            "Epoch 9/20\n",
            "30/30 [==============================] - 1s 19ms/step - loss: 0.1491 - accuracy: 0.9566 - val_loss: 0.2745 - val_accuracy: 0.8913\n",
            "Epoch 10/20\n",
            "30/30 [==============================] - 1s 19ms/step - loss: 0.1333 - accuracy: 0.9625 - val_loss: 0.2883 - val_accuracy: 0.8843\n",
            "Epoch 11/20\n",
            "30/30 [==============================] - 1s 19ms/step - loss: 0.1205 - accuracy: 0.9665 - val_loss: 0.2821 - val_accuracy: 0.8895\n",
            "Epoch 12/20\n",
            "30/30 [==============================] - 1s 19ms/step - loss: 0.1086 - accuracy: 0.9705 - val_loss: 0.2895 - val_accuracy: 0.8871\n",
            "Epoch 13/20\n",
            "30/30 [==============================] - 1s 19ms/step - loss: 0.0986 - accuracy: 0.9735 - val_loss: 0.3008 - val_accuracy: 0.8843\n",
            "Epoch 14/20\n",
            "30/30 [==============================] - 1s 19ms/step - loss: 0.0885 - accuracy: 0.9779 - val_loss: 0.3107 - val_accuracy: 0.8840\n",
            "Epoch 15/20\n",
            "30/30 [==============================] - 1s 19ms/step - loss: 0.0804 - accuracy: 0.9802 - val_loss: 0.3164 - val_accuracy: 0.8842\n",
            "Epoch 16/20\n",
            "30/30 [==============================] - 1s 19ms/step - loss: 0.0728 - accuracy: 0.9831 - val_loss: 0.3337 - val_accuracy: 0.8801\n",
            "Epoch 17/20\n",
            "30/30 [==============================] - 1s 19ms/step - loss: 0.0654 - accuracy: 0.9853 - val_loss: 0.3513 - val_accuracy: 0.8778\n",
            "Epoch 18/20\n",
            "30/30 [==============================] - 1s 19ms/step - loss: 0.0593 - accuracy: 0.9870 - val_loss: 0.3527 - val_accuracy: 0.8810\n",
            "Epoch 19/20\n",
            "30/30 [==============================] - 1s 19ms/step - loss: 0.0529 - accuracy: 0.9885 - val_loss: 0.3666 - val_accuracy: 0.8804\n",
            "Epoch 20/20\n",
            "30/30 [==============================] - 1s 19ms/step - loss: 0.0477 - accuracy: 0.9900 - val_loss: 0.3845 - val_accuracy: 0.8751\n"
          ]
        }
      ],
      "source": [
        "model = keras.Sequential([\n",
        "    layers.Dense(4, activation=\"relu\"),\n",
        "    layers.Dense(4, activation=\"relu\"),\n",
        "    layers.Dense(1, activation=\"sigmoid\")\n",
        "])\n",
        "model.compile(optimizer=\"rmsprop\",\n",
        "              loss=\"binary_crossentropy\",\n",
        "              metrics=[\"accuracy\"])\n",
        "history_smaller_model = model.fit(\n",
        "    train_data, train_labels,\n",
        "    epochs=20, batch_size=512, validation_split=0.4)"
      ]
    },
    {
      "cell_type": "code",
      "source": [
        "import matplotlib.pyplot as plt\n",
        "val_loss = history_original.history[\"val_loss\"]\n",
        "val_loss2 = history_smaller_model.history[\"val_loss\"]\n",
        "epochs = range(1, 21)\n",
        "plt.plot(epochs, val_loss, \"b--\",\n",
        "         label=\"Validation loss of original model\")\n",
        "plt.plot(epochs, val_loss2, \"b-\",\n",
        "         label=\"Validation loss of smaller model\")\n",
        "plt.title(\"Effect of smaller model capacity on validation loss\")\n",
        "plt.xlabel(\"Epochs\")\n",
        "plt.ylabel(\"Loss\")\n",
        "plt.legend()\n",
        "\n",
        "# smaller 모델.. overfit 없지만 loss original보다 큰걸 (지금 해본 결과는 엇비슷? 하게 나왔는데 original vs small 별 차이 없잖아)"
      ],
      "metadata": {
        "id": "JeTWJ7VZdq_O",
        "outputId": "193114b0-2259-4375-8799-8dc72fc4daae",
        "colab": {
          "base_uri": "https://localhost:8080/",
          "height": 313
        }
      },
      "execution_count": 18,
      "outputs": [
        {
          "output_type": "execute_result",
          "data": {
            "text/plain": [
              "<matplotlib.legend.Legend at 0x7f531fc80310>"
            ]
          },
          "metadata": {},
          "execution_count": 18
        },
        {
          "output_type": "display_data",
          "data": {
            "text/plain": [
              "<Figure size 432x288 with 1 Axes>"
            ],
            "image/png": "[encoded data removed]"
          },
          "metadata": {
            "needs_background": "light"
          }
        }
      ]
    },
    {
      "cell_type": "markdown",
      "metadata": {
        "id": "0_JmTFyvWIxi"
      },
      "source": [
        "**Version of the model with higher capacity**"
      ]
    },
    {
      "cell_type": "code",
      "execution_count": 19,
      "metadata": {
        "id": "hafrw2EuWIxj",
        "outputId": "3f2826e0-494f-4d61-e559-39701595dcb9",
        "colab": {
          "base_uri": "https://localhost:8080/"
        }
      },
      "outputs": [
        {
          "output_type": "stream",
          "name": "stdout",
          "text": [
            "Epoch 1/20\n",
            "30/30 [==============================] - 2s 41ms/step - loss: 0.5474 - accuracy: 0.7553 - val_loss: 0.3111 - val_accuracy: 0.8881\n",
            "Epoch 2/20\n",
            "30/30 [==============================] - 1s 23ms/step - loss: 0.2551 - accuracy: 0.9031 - val_loss: 0.2825 - val_accuracy: 0.8878\n",
            "Epoch 3/20\n",
            "30/30 [==============================] - 1s 23ms/step - loss: 0.1688 - accuracy: 0.9329 - val_loss: 0.2643 - val_accuracy: 0.8925\n",
            "Epoch 4/20\n",
            "30/30 [==============================] - 1s 22ms/step - loss: 0.0655 - accuracy: 0.9794 - val_loss: 0.3689 - val_accuracy: 0.8830\n",
            "Epoch 5/20\n",
            "30/30 [==============================] - 1s 23ms/step - loss: 0.1118 - accuracy: 0.9729 - val_loss: 0.3594 - val_accuracy: 0.8881\n",
            "Epoch 6/20\n",
            "30/30 [==============================] - 1s 22ms/step - loss: 0.0047 - accuracy: 0.9994 - val_loss: 0.5190 - val_accuracy: 0.8849\n",
            "Epoch 7/20\n",
            "30/30 [==============================] - 1s 22ms/step - loss: 6.9208e-04 - accuracy: 0.9999 - val_loss: 0.6170 - val_accuracy: 0.8867\n",
            "Epoch 8/20\n",
            "30/30 [==============================] - 1s 23ms/step - loss: 8.2482e-05 - accuracy: 1.0000 - val_loss: 0.7596 - val_accuracy: 0.8848\n",
            "Epoch 9/20\n",
            "30/30 [==============================] - 1s 25ms/step - loss: 1.4678e-05 - accuracy: 1.0000 - val_loss: 0.8385 - val_accuracy: 0.8862\n",
            "Epoch 10/20\n",
            "30/30 [==============================] - 1s 22ms/step - loss: 3.0090e-06 - accuracy: 1.0000 - val_loss: 0.9310 - val_accuracy: 0.8839\n",
            "Epoch 11/20\n",
            "30/30 [==============================] - 1s 22ms/step - loss: 9.0516e-07 - accuracy: 1.0000 - val_loss: 1.5064 - val_accuracy: 0.8528\n",
            "Epoch 12/20\n",
            "30/30 [==============================] - 1s 22ms/step - loss: 0.4218 - accuracy: 0.9780 - val_loss: 0.7169 - val_accuracy: 0.8839\n",
            "Epoch 13/20\n",
            "30/30 [==============================] - 1s 26ms/step - loss: 1.9903e-05 - accuracy: 1.0000 - val_loss: 0.7294 - val_accuracy: 0.8841\n",
            "Epoch 14/20\n",
            "30/30 [==============================] - 1s 22ms/step - loss: 9.0771e-06 - accuracy: 1.0000 - val_loss: 0.7540 - val_accuracy: 0.8832\n",
            "Epoch 15/20\n",
            "30/30 [==============================] - 1s 22ms/step - loss: 5.0451e-06 - accuracy: 1.0000 - val_loss: 0.7901 - val_accuracy: 0.8836\n",
            "Epoch 16/20\n",
            "30/30 [==============================] - 1s 22ms/step - loss: 2.5764e-06 - accuracy: 1.0000 - val_loss: 0.8377 - val_accuracy: 0.8844\n",
            "Epoch 17/20\n",
            "30/30 [==============================] - 1s 22ms/step - loss: 1.1494e-06 - accuracy: 1.0000 - val_loss: 0.9113 - val_accuracy: 0.8842\n",
            "Epoch 18/20\n",
            "30/30 [==============================] - 1s 23ms/step - loss: 4.6204e-07 - accuracy: 1.0000 - val_loss: 0.9968 - val_accuracy: 0.8846\n",
            "Epoch 19/20\n",
            "30/30 [==============================] - 1s 22ms/step - loss: 1.8424e-07 - accuracy: 1.0000 - val_loss: 1.0647 - val_accuracy: 0.8837\n",
            "Epoch 20/20\n",
            "30/30 [==============================] - 1s 22ms/step - loss: 7.5359e-08 - accuracy: 1.0000 - val_loss: 1.1340 - val_accuracy: 0.8845\n"
          ]
        }
      ],
      "source": [
        "model = keras.Sequential([\n",
        "    layers.Dense(512, activation=\"relu\"),\n",
        "    layers.Dense(512, activation=\"relu\"),\n",
        "    layers.Dense(1, activation=\"sigmoid\")\n",
        "])\n",
        "model.compile(optimizer=\"rmsprop\",\n",
        "              loss=\"binary_crossentropy\",\n",
        "              metrics=[\"accuracy\"])\n",
        "history_larger_model = model.fit(\n",
        "    train_data, train_labels,\n",
        "    epochs=20, batch_size=512, validation_split=0.4)"
      ]
    },
    {
      "cell_type": "code",
      "source": [
        "import matplotlib.pyplot as plt\n",
        "val_loss = history_original.history[\"val_loss\"]\n",
        "val_loss2 = history_larger_model.history[\"val_loss\"]\n",
        "epochs = range(1, 21)\n",
        "plt.plot(epochs, val_loss, \"b--\",\n",
        "         label=\"Validation loss of original model\")\n",
        "plt.plot(epochs, val_loss2, \"b-\",\n",
        "         label=\"Validation loss of larger model\")\n",
        "plt.title(\"Effect of larger model capacity on validation loss\")\n",
        "plt.xlabel(\"Epochs\")\n",
        "plt.ylabel(\"Loss\")\n",
        "plt.legend()"
      ],
      "metadata": {
        "id": "9qK7WS7heIEm",
        "outputId": "06e56c8b-8c43-4b01-b956-18d964b6b758",
        "colab": {
          "base_uri": "https://localhost:8080/",
          "height": 313
        }
      },
      "execution_count": 20,
      "outputs": [
        {
          "output_type": "execute_result",
          "data": {
            "text/plain": [
              "<matplotlib.legend.Legend at 0x7f532020d990>"
            ]
          },
          "metadata": {},
          "execution_count": 20
        },
        {
          "output_type": "display_data",
          "data": {
            "text/plain": [
              "<Figure size 432x288 with 1 Axes>"
            ],
            "image/png": "[encoded data removed]"
          },
          "metadata": {
            "needs_background": "light"
          }
        }
      ]
    },
    {
      "cell_type": "markdown",
      "metadata": {
        "id": "4CtCWrxgWIxj"
      },
      "source": [
        "#### Adding weight regularization"
      ]
    },
    {
      "cell_type": "markdown",
      "metadata": {
        "id": "5t4v-WwDWIxk"
      },
      "source": [
        "**Adding L2 weight regularization to the model**"
      ]
    },
    {
      "cell_type": "code",
      "execution_count": 21,
      "metadata": {
        "id": "AsOkZMuZWIxk",
        "outputId": "5d082194-5c7f-47e1-b783-359c441d7fdf",
        "colab": {
          "base_uri": "https://localhost:8080/"
        }
      },
      "outputs": [
        {
          "output_type": "stream",
          "name": "stdout",
          "text": [
            "Epoch 1/20\n",
            "30/30 [==============================] - 2s 45ms/step - loss: 0.5800 - accuracy: 0.7833 - val_loss: 0.4451 - val_accuracy: 0.8755\n",
            "Epoch 2/20\n",
            "30/30 [==============================] - 1s 19ms/step - loss: 0.3826 - accuracy: 0.8993 - val_loss: 0.3934 - val_accuracy: 0.8800\n",
            "Epoch 3/20\n",
            "30/30 [==============================] - 1s 19ms/step - loss: 0.3200 - accuracy: 0.9159 - val_loss: 0.3593 - val_accuracy: 0.8906\n",
            "Epoch 4/20\n",
            "30/30 [==============================] - 1s 19ms/step - loss: 0.2914 - accuracy: 0.9268 - val_loss: 0.3914 - val_accuracy: 0.8725\n",
            "Epoch 5/20\n",
            "30/30 [==============================] - 1s 19ms/step - loss: 0.2713 - accuracy: 0.9337 - val_loss: 0.3723 - val_accuracy: 0.8826\n",
            "Epoch 6/20\n",
            "30/30 [==============================] - 1s 19ms/step - loss: 0.2574 - accuracy: 0.9397 - val_loss: 0.3784 - val_accuracy: 0.8785\n",
            "Epoch 7/20\n",
            "30/30 [==============================] - 1s 19ms/step - loss: 0.2499 - accuracy: 0.9437 - val_loss: 0.3674 - val_accuracy: 0.8849\n",
            "Epoch 8/20\n",
            "30/30 [==============================] - 1s 19ms/step - loss: 0.2416 - accuracy: 0.9463 - val_loss: 0.4255 - val_accuracy: 0.8620\n",
            "Epoch 9/20\n",
            "30/30 [==============================] - 1s 19ms/step - loss: 0.2324 - accuracy: 0.9509 - val_loss: 0.3967 - val_accuracy: 0.8771\n",
            "Epoch 10/20\n",
            "30/30 [==============================] - 1s 19ms/step - loss: 0.2345 - accuracy: 0.9457 - val_loss: 0.3983 - val_accuracy: 0.8768\n",
            "Epoch 11/20\n",
            "30/30 [==============================] - 1s 19ms/step - loss: 0.2282 - accuracy: 0.9502 - val_loss: 0.4339 - val_accuracy: 0.8649\n",
            "Epoch 12/20\n",
            "30/30 [==============================] - 1s 19ms/step - loss: 0.2230 - accuracy: 0.9509 - val_loss: 0.3920 - val_accuracy: 0.8803\n",
            "Epoch 13/20\n",
            "30/30 [==============================] - 1s 19ms/step - loss: 0.2144 - accuracy: 0.9572 - val_loss: 0.3938 - val_accuracy: 0.8795\n",
            "Epoch 14/20\n",
            "30/30 [==============================] - 1s 19ms/step - loss: 0.2176 - accuracy: 0.9550 - val_loss: 0.4351 - val_accuracy: 0.8689\n",
            "Epoch 15/20\n",
            "30/30 [==============================] - 1s 20ms/step - loss: 0.2080 - accuracy: 0.9584 - val_loss: 0.4192 - val_accuracy: 0.8733\n",
            "Epoch 16/20\n",
            "30/30 [==============================] - 1s 18ms/step - loss: 0.2081 - accuracy: 0.9591 - val_loss: 0.4305 - val_accuracy: 0.8715\n",
            "Epoch 17/20\n",
            "30/30 [==============================] - 1s 19ms/step - loss: 0.2065 - accuracy: 0.9580 - val_loss: 0.4517 - val_accuracy: 0.8661\n",
            "Epoch 18/20\n",
            "30/30 [==============================] - 1s 19ms/step - loss: 0.1993 - accuracy: 0.9607 - val_loss: 0.4145 - val_accuracy: 0.8760\n",
            "Epoch 19/20\n",
            "30/30 [==============================] - 1s 19ms/step - loss: 0.1996 - accuracy: 0.9613 - val_loss: 0.4981 - val_accuracy: 0.8527\n",
            "Epoch 20/20\n",
            "30/30 [==============================] - 1s 19ms/step - loss: 0.1959 - accuracy: 0.9623 - val_loss: 0.4212 - val_accuracy: 0.8758\n"
          ]
        }
      ],
      "source": [
        "from tensorflow.keras import regularizers\n",
        "model = keras.Sequential([\n",
        "    layers.Dense(16,\n",
        "                 kernel_regularizer=regularizers.l2(0.002),\n",
        "                 activation=\"relu\"),\n",
        "    layers.Dense(16,\n",
        "                 kernel_regularizer=regularizers.l2(0.002),\n",
        "                 activation=\"relu\"),\n",
        "    layers.Dense(1, activation=\"sigmoid\")\n",
        "])\n",
        "model.compile(optimizer=\"rmsprop\",\n",
        "              loss=\"binary_crossentropy\",\n",
        "              metrics=[\"accuracy\"])\n",
        "history_l2_reg = model.fit(\n",
        "    train_data, train_labels,\n",
        "    epochs=20, batch_size=512, validation_split=0.4)"
      ]
    },
    {
      "cell_type": "code",
      "source": [
        "import matplotlib.pyplot as plt\n",
        "val_loss = history_original.history[\"val_loss\"]\n",
        "val_loss2 = history_l2_reg.history[\"val_loss\"]\n",
        "epochs = range(1, 21)\n",
        "plt.plot(epochs, val_loss, \"b--\",\n",
        "         label=\"Validation loss of original model\")\n",
        "plt.plot(epochs, val_loss2, \"b-\",\n",
        "         label=\"Validation loss of original model with l2 regularization model\")\n",
        "plt.title(\"Effect of l2 regularization model capacity on validation loss\")\n",
        "plt.xlabel(\"Epochs\")\n",
        "plt.ylabel(\"Loss\")\n",
        "plt.legend()\n",
        "\n",
        "# smaller 모델.. overfit 없지만 loss original보다 큰걸"
      ],
      "metadata": {
        "id": "gMcQOWwIeYao",
        "outputId": "37954aa4-2cb6-4e71-b259-146594b729ff",
        "colab": {
          "base_uri": "https://localhost:8080/",
          "height": 313
        }
      },
      "execution_count": 22,
      "outputs": [
        {
          "output_type": "execute_result",
          "data": {
            "text/plain": [
              "<matplotlib.legend.Legend at 0x7f5322ea6190>"
            ]
          },
          "metadata": {},
          "execution_count": 22
        },
        {
          "output_type": "display_data",
          "data": {
            "text/plain": [
              "<Figure size 432x288 with 1 Axes>"
            ],
            "image/png": "[encoded data removed]"
          },
          "metadata": {
            "needs_background": "light"
          }
        }
      ]
    },
    {
      "cell_type": "markdown",
      "metadata": {
        "id": "4Y1zglrlWIxl"
      },
      "source": [
        "**Different weight regularizers available in Keras**"
      ]
    },
    {
      "cell_type": "code",
      "execution_count": 23,
      "metadata": {
        "id": "KzG-WHhXWIxm",
        "outputId": "fdc4f851-af19-429c-a472-ee742597c7b2",
        "colab": {
          "base_uri": "https://localhost:8080/"
        }
      },
      "outputs": [
        {
          "output_type": "execute_result",
          "data": {
            "text/plain": [
              "<keras.regularizers.L1L2 at 0x7f5316f59750>"
            ]
          },
          "metadata": {},
          "execution_count": 23
        }
      ],
      "source": [
        "from tensorflow.keras import regularizers\n",
        "regularizers.l1(0.001)\n",
        "regularizers.l1_l2(l1=0.001, l2=0.001)"
      ]
    },
    {
      "cell_type": "markdown",
      "metadata": {
        "id": "Til0iz56WIxm"
      },
      "source": [
        "#### Adding dropout"
      ]
    },
    {
      "cell_type": "markdown",
      "metadata": {
        "id": "kIwnmwf2WIxn"
      },
      "source": [
        "**Adding dropout to the IMDB model**"
      ]
    },
    {
      "cell_type": "code",
      "execution_count": 24,
      "metadata": {
        "id": "IZ5xH2_aWIxo",
        "outputId": "a64a666f-6991-439f-c886-b7f01e89aa39",
        "colab": {
          "base_uri": "https://localhost:8080/"
        }
      },
      "outputs": [
        {
          "output_type": "stream",
          "name": "stdout",
          "text": [
            "Epoch 1/20\n",
            "30/30 [==============================] - 2s 34ms/step - loss: 0.6272 - accuracy: 0.6350 - val_loss: 0.5207 - val_accuracy: 0.8435\n",
            "Epoch 2/20\n",
            "30/30 [==============================] - 1s 19ms/step - loss: 0.5146 - accuracy: 0.7619 - val_loss: 0.4177 - val_accuracy: 0.8584\n",
            "Epoch 3/20\n",
            "30/30 [==============================] - 1s 19ms/step - loss: 0.4369 - accuracy: 0.8164 - val_loss: 0.3545 - val_accuracy: 0.8832\n",
            "Epoch 4/20\n",
            "30/30 [==============================] - 1s 18ms/step - loss: 0.3805 - accuracy: 0.8544 - val_loss: 0.3116 - val_accuracy: 0.8875\n",
            "Epoch 5/20\n",
            "30/30 [==============================] - 1s 19ms/step - loss: 0.3258 - accuracy: 0.8857 - val_loss: 0.2985 - val_accuracy: 0.8813\n",
            "Epoch 6/20\n",
            "30/30 [==============================] - 1s 19ms/step - loss: 0.2946 - accuracy: 0.9016 - val_loss: 0.2819 - val_accuracy: 0.8890\n",
            "Epoch 7/20\n",
            "30/30 [==============================] - 1s 19ms/step - loss: 0.2565 - accuracy: 0.9161 - val_loss: 0.2834 - val_accuracy: 0.8832\n",
            "Epoch 8/20\n",
            "30/30 [==============================] - 1s 19ms/step - loss: 0.2331 - accuracy: 0.9241 - val_loss: 0.2826 - val_accuracy: 0.8910\n",
            "Epoch 9/20\n",
            "30/30 [==============================] - 1s 18ms/step - loss: 0.2074 - accuracy: 0.9349 - val_loss: 0.3011 - val_accuracy: 0.8913\n",
            "Epoch 10/20\n",
            "30/30 [==============================] - 1s 19ms/step - loss: 0.1839 - accuracy: 0.9413 - val_loss: 0.3330 - val_accuracy: 0.8861\n",
            "Epoch 11/20\n",
            "30/30 [==============================] - 1s 19ms/step - loss: 0.1688 - accuracy: 0.9465 - val_loss: 0.3298 - val_accuracy: 0.8888\n",
            "Epoch 12/20\n",
            "30/30 [==============================] - 1s 19ms/step - loss: 0.1513 - accuracy: 0.9535 - val_loss: 0.3612 - val_accuracy: 0.8860\n",
            "Epoch 13/20\n",
            "30/30 [==============================] - 1s 19ms/step - loss: 0.1412 - accuracy: 0.9578 - val_loss: 0.3789 - val_accuracy: 0.8773\n",
            "Epoch 14/20\n",
            "30/30 [==============================] - 1s 19ms/step - loss: 0.1345 - accuracy: 0.9585 - val_loss: 0.3975 - val_accuracy: 0.8823\n",
            "Epoch 15/20\n",
            "30/30 [==============================] - 1s 19ms/step - loss: 0.1193 - accuracy: 0.9633 - val_loss: 0.4305 - val_accuracy: 0.8840\n",
            "Epoch 16/20\n",
            "30/30 [==============================] - 1s 19ms/step - loss: 0.1187 - accuracy: 0.9645 - val_loss: 0.4606 - val_accuracy: 0.8835\n",
            "Epoch 17/20\n",
            "30/30 [==============================] - 1s 20ms/step - loss: 0.1108 - accuracy: 0.9661 - val_loss: 0.4986 - val_accuracy: 0.8828\n",
            "Epoch 18/20\n",
            "30/30 [==============================] - 1s 18ms/step - loss: 0.0999 - accuracy: 0.9715 - val_loss: 0.5530 - val_accuracy: 0.8813\n",
            "Epoch 19/20\n",
            "30/30 [==============================] - 1s 19ms/step - loss: 0.1013 - accuracy: 0.9693 - val_loss: 0.5073 - val_accuracy: 0.8783\n",
            "Epoch 20/20\n",
            "30/30 [==============================] - 1s 19ms/step - loss: 0.0938 - accuracy: 0.9717 - val_loss: 0.6306 - val_accuracy: 0.8771\n"
          ]
        }
      ],
      "source": [
        "model = keras.Sequential([\n",
        "    layers.Dense(16, activation=\"relu\"),\n",
        "    layers.Dropout(0.5),\n",
        "    layers.Dense(16, activation=\"relu\"),\n",
        "    layers.Dropout(0.5),\n",
        "    layers.Dense(1, activation=\"sigmoid\")\n",
        "])\n",
        "model.compile(optimizer=\"rmsprop\",\n",
        "              loss=\"binary_crossentropy\",\n",
        "              metrics=[\"accuracy\"])\n",
        "history_dropout = model.fit(\n",
        "    train_data, train_labels,\n",
        "    epochs=20, batch_size=512, validation_split=0.4)"
      ]
    },
    {
      "cell_type": "code",
      "source": [
        "import matplotlib.pyplot as plt\n",
        "val_loss = history_original.history[\"val_loss\"]\n",
        "val_loss2 = history_dropout.history[\"val_loss\"]\n",
        "epochs = range(1, 21)\n",
        "plt.plot(epochs, val_loss, \"b--\",\n",
        "         label=\"Validation loss of original model\")\n",
        "plt.plot(epochs, val_loss2, \"b-\",\n",
        "         label=\"Validation loss of original model with dropout regularization model\")\n",
        "plt.title(\"Effect of dropout regularization model capacity on validation loss\")\n",
        "plt.xlabel(\"Epochs\")\n",
        "plt.ylabel(\"Loss\")\n",
        "plt.legend()"
      ],
      "metadata": {
        "id": "g4lVu5RUe3tX",
        "outputId": "53ae1b7d-caee-4fd4-8fcb-a085d273be3d",
        "colab": {
          "base_uri": "https://localhost:8080/",
          "height": 313
        }
      },
      "execution_count": 25,
      "outputs": [
        {
          "output_type": "execute_result",
          "data": {
            "text/plain": [
              "<matplotlib.legend.Legend at 0x7f53204e5a50>"
            ]
          },
          "metadata": {},
          "execution_count": 25
        },
        {
          "output_type": "display_data",
          "data": {
            "text/plain": [
              "<Figure size 432x288 with 1 Axes>"
            ],
            "image/png": "[encoded data removed]"
          },
          "metadata": {
            "needs_background": "light"
          }
        }
      ]
    },
    {
      "cell_type": "markdown",
      "metadata": {
        "id": "JKsOHJr3WIxo"
      },
      "source": [
        "## Summary"
      ]
    }
  ],
  "metadata": {
    "colab": {
      "collapsed_sections": [],
      "name": "chapter05_fundamentals-of-ml.i",
      "provenance": [],
      "include_colab_link": true
    },
    "kernelspec": {
      "display_name": "Python 3",
      "language": "python",
      "name": "python3"
    },
    "language_info": {
      "codemirror_mode": {
        "name": "ipython",
        "version": 3
      },
      "file_extension": ".py",
      "mimetype": "text/x-python",
      "name": "python",
      "nbconvert_exporter": "python",
      "pygments_lexer": "ipython3",
      "version": "3.7.0"
    },
    "accelerator": "GPU"
  },
  "nbformat": 4,
  "nbformat_minor": 0
}