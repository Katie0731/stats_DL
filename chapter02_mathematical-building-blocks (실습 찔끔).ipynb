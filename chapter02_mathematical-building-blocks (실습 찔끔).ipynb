{
  "cells": [
    {
      "cell_type": "markdown",
      "metadata": {
        "id": "view-in-github",
        "colab_type": "text"
      },
      "source": [
        "<a href=\"https://colab.research.google.com/github/Katie0731/stats_DL/blob/main/chapter02_mathematical-building-blocks%20(%EC%8B%A4%EC%8A%B5%20%EC%B0%94%EB%81%94).ipynb\" target=\"_parent\"><img src=\"https://colab.research.google.com/assets/colab-badge.svg\" alt=\"Open In Colab\"/></a>"
      ]
    },
    {
      "cell_type": "markdown",
      "metadata": {
        "id": "2s73DkgthBRg"
      },
      "source": [
        "This is a companion notebook for the book [Deep Learning with Python, Second Edition](https://www.manning.com/books/deep-learning-with-python-second-edition?a_aid=keras&a_bid=76564dff). For readability, it only contains runnable code blocks and section titles, and omits everything else in the book: text paragraphs, figures, and pseudocode.\n",
        "\n",
        "**If you want to be able to follow what's going on, I recommend reading the notebook side by side with your copy of the book.**\n",
        "\n",
        "This notebook was generated for TensorFlow 2.6."
      ]
    },
    {
      "cell_type": "markdown",
      "metadata": {
        "id": "MUzf9-frhBRj"
      },
      "source": [
        "# The mathematical building blocks of neural networks"
      ]
    },
    {
      "cell_type": "markdown",
      "metadata": {
        "id": "nSZVaBh7hBRk"
      },
      "source": [
        "## A first look at a neural network"
      ]
    },
    {
      "cell_type": "markdown",
      "metadata": {
        "id": "EK_C_56qhBRk"
      },
      "source": [
        "**Loading the MNIST dataset in Keras**"
      ]
    },
    {
      "cell_type": "code",
      "execution_count": 1,
      "metadata": {
        "id": "GtU1H3F0hBRl",
        "outputId": "fad6df89-614c-4fe9-fc3c-003fbeeb305e",
        "colab": {
          "base_uri": "https://localhost:8080/"
        }
      },
      "outputs": [
        {
          "output_type": "stream",
          "name": "stdout",
          "text": [
            "Downloading data from https://storage.googleapis.com/tensorflow/tf-keras-datasets/mnist.npz\n",
            "11493376/11490434 [==============================] - 0s 0us/step\n",
            "11501568/11490434 [==============================] - 0s 0us/step\n"
          ]
        }
      ],
      "source": [
        "from tensorflow.keras.datasets import mnist\n",
        "(train_images, train_labels), (test_images, test_labels) = mnist.load_data()"
      ]
    },
    {
      "cell_type": "code",
      "source": [
        "train_images"
      ],
      "metadata": {
        "id": "kcJPE5saik64",
        "outputId": "c5ac2497-dd57-49d0-815b-a39729debe81",
        "colab": {
          "base_uri": "https://localhost:8080/"
        }
      },
      "execution_count": 3,
      "outputs": [
        {
          "output_type": "execute_result",
          "data": {
            "text/plain": [
              "array([[[0, 0, 0, ..., 0, 0, 0],\n",
              "        [0, 0, 0, ..., 0, 0, 0],\n",
              "        [0, 0, 0, ..., 0, 0, 0],\n",
              "        ...,\n",
              "        [0, 0, 0, ..., 0, 0, 0],\n",
              "        [0, 0, 0, ..., 0, 0, 0],\n",
              "        [0, 0, 0, ..., 0, 0, 0]],\n",
              "\n",
              "       [[0, 0, 0, ..., 0, 0, 0],\n",
              "        [0, 0, 0, ..., 0, 0, 0],\n",
              "        [0, 0, 0, ..., 0, 0, 0],\n",
              "        ...,\n",
              "        [0, 0, 0, ..., 0, 0, 0],\n",
              "        [0, 0, 0, ..., 0, 0, 0],\n",
              "        [0, 0, 0, ..., 0, 0, 0]],\n",
              "\n",
              "       [[0, 0, 0, ..., 0, 0, 0],\n",
              "        [0, 0, 0, ..., 0, 0, 0],\n",
              "        [0, 0, 0, ..., 0, 0, 0],\n",
              "        ...,\n",
              "        [0, 0, 0, ..., 0, 0, 0],\n",
              "        [0, 0, 0, ..., 0, 0, 0],\n",
              "        [0, 0, 0, ..., 0, 0, 0]],\n",
              "\n",
              "       ...,\n",
              "\n",
              "       [[0, 0, 0, ..., 0, 0, 0],\n",
              "        [0, 0, 0, ..., 0, 0, 0],\n",
              "        [0, 0, 0, ..., 0, 0, 0],\n",
              "        ...,\n",
              "        [0, 0, 0, ..., 0, 0, 0],\n",
              "        [0, 0, 0, ..., 0, 0, 0],\n",
              "        [0, 0, 0, ..., 0, 0, 0]],\n",
              "\n",
              "       [[0, 0, 0, ..., 0, 0, 0],\n",
              "        [0, 0, 0, ..., 0, 0, 0],\n",
              "        [0, 0, 0, ..., 0, 0, 0],\n",
              "        ...,\n",
              "        [0, 0, 0, ..., 0, 0, 0],\n",
              "        [0, 0, 0, ..., 0, 0, 0],\n",
              "        [0, 0, 0, ..., 0, 0, 0]],\n",
              "\n",
              "       [[0, 0, 0, ..., 0, 0, 0],\n",
              "        [0, 0, 0, ..., 0, 0, 0],\n",
              "        [0, 0, 0, ..., 0, 0, 0],\n",
              "        ...,\n",
              "        [0, 0, 0, ..., 0, 0, 0],\n",
              "        [0, 0, 0, ..., 0, 0, 0],\n",
              "        [0, 0, 0, ..., 0, 0, 0]]], dtype=uint8)"
            ]
          },
          "metadata": {},
          "execution_count": 3
        }
      ]
    },
    {
      "cell_type": "code",
      "execution_count": 2,
      "metadata": {
        "id": "kqPRqdaohBRn",
        "outputId": "0de8b0a2-7bb6-4e3b-ff45-b8d152c22125",
        "colab": {
          "base_uri": "https://localhost:8080/"
        }
      },
      "outputs": [
        {
          "output_type": "execute_result",
          "data": {
            "text/plain": [
              "(60000, 28, 28)"
            ]
          },
          "metadata": {},
          "execution_count": 2
        }
      ],
      "source": [
        "train_images.shape"
      ]
    },
    {
      "cell_type": "code",
      "execution_count": 4,
      "metadata": {
        "id": "dpBnnJUlhBRn",
        "outputId": "9202f59a-852f-4482-d181-1a6a6eff68b9",
        "colab": {
          "base_uri": "https://localhost:8080/"
        }
      },
      "outputs": [
        {
          "output_type": "execute_result",
          "data": {
            "text/plain": [
              "60000"
            ]
          },
          "metadata": {},
          "execution_count": 4
        }
      ],
      "source": [
        "len(train_labels)"
      ]
    },
    {
      "cell_type": "code",
      "execution_count": 5,
      "metadata": {
        "id": "OFtG4HMOhBRo",
        "outputId": "bed28d62-c49b-4489-eced-31c810663f8b",
        "colab": {
          "base_uri": "https://localhost:8080/"
        }
      },
      "outputs": [
        {
          "output_type": "execute_result",
          "data": {
            "text/plain": [
              "array([5, 0, 4, ..., 5, 6, 8], dtype=uint8)"
            ]
          },
          "metadata": {},
          "execution_count": 5
        }
      ],
      "source": [
        "train_labels"
      ]
    },
    {
      "cell_type": "code",
      "execution_count": 6,
      "metadata": {
        "id": "Xw3hW6GUhBRo",
        "outputId": "3ede6be4-c2bf-4b14-e583-c8a633918784",
        "colab": {
          "base_uri": "https://localhost:8080/"
        }
      },
      "outputs": [
        {
          "output_type": "execute_result",
          "data": {
            "text/plain": [
              "(10000, 28, 28)"
            ]
          },
          "metadata": {},
          "execution_count": 6
        }
      ],
      "source": [
        "test_images.shape"
      ]
    },
    {
      "cell_type": "code",
      "execution_count": 7,
      "metadata": {
        "id": "ItD9eG7ZhBRp",
        "outputId": "f85b1ff4-b186-48a7-805f-07be6707d947",
        "colab": {
          "base_uri": "https://localhost:8080/"
        }
      },
      "outputs": [
        {
          "output_type": "execute_result",
          "data": {
            "text/plain": [
              "10000"
            ]
          },
          "metadata": {},
          "execution_count": 7
        }
      ],
      "source": [
        "len(test_labels)"
      ]
    },
    {
      "cell_type": "code",
      "execution_count": 8,
      "metadata": {
        "id": "24MAK6vnhBRp",
        "outputId": "3eac1746-2f05-493e-bb1d-300479bede04",
        "colab": {
          "base_uri": "https://localhost:8080/"
        }
      },
      "outputs": [
        {
          "output_type": "execute_result",
          "data": {
            "text/plain": [
              "array([7, 2, 1, ..., 4, 5, 6], dtype=uint8)"
            ]
          },
          "metadata": {},
          "execution_count": 8
        }
      ],
      "source": [
        "test_labels"
      ]
    },
    {
      "cell_type": "markdown",
      "metadata": {
        "id": "8XwAU4DshBRq"
      },
      "source": [
        "**The network architecture**"
      ]
    },
    {
      "cell_type": "code",
      "execution_count": 9,
      "metadata": {
        "id": "SQiVW_dbhBRq"
      },
      "outputs": [],
      "source": [
        "from tensorflow import keras\n",
        "from tensorflow.keras import layers\n",
        "model = keras.Sequential([\n",
        "    layers.Dense(512, activation=\"relu\"),\n",
        "    layers.Dense(10, activation=\"softmax\")\n",
        "])"
      ]
    },
    {
      "cell_type": "markdown",
      "metadata": {
        "id": "H3MCIYS0hBRq"
      },
      "source": [
        "**The compilation step**"
      ]
    },
    {
      "cell_type": "code",
      "execution_count": 11,
      "metadata": {
        "id": "jDjcVCP9hBRr"
      },
      "outputs": [],
      "source": [
        "model.compile(optimizer=\"rmsprop\",\n",
        "              loss=\"sparse_categorical_crossentropy\",\n",
        "              metrics=[\"accuracy\"])"
      ]
    },
    {
      "cell_type": "markdown",
      "metadata": {
        "id": "fYikuwsNhBRs"
      },
      "source": [
        "**Preparing the image data**"
      ]
    },
    {
      "cell_type": "code",
      "execution_count": 12,
      "metadata": {
        "id": "cP1gAzt3hBRs"
      },
      "outputs": [],
      "source": [
        "train_images = train_images.reshape((60000, 28 * 28))\n",
        "train_images = train_images.astype(\"float32\") / 255\n",
        "test_images = test_images.reshape((10000, 28 * 28))\n",
        "test_images = test_images.astype(\"float32\") / 255"
      ]
    },
    {
      "cell_type": "code",
      "source": [
        "train_images"
      ],
      "metadata": {
        "id": "3lxyMxdUkB_W",
        "outputId": "3e75a6b4-5716-44b4-d100-66a516a41e92",
        "colab": {
          "base_uri": "https://localhost:8080/"
        }
      },
      "execution_count": 14,
      "outputs": [
        {
          "output_type": "execute_result",
          "data": {
            "text/plain": [
              "array([[0., 0., 0., ..., 0., 0., 0.],\n",
              "       [0., 0., 0., ..., 0., 0., 0.],\n",
              "       [0., 0., 0., ..., 0., 0., 0.],\n",
              "       ...,\n",
              "       [0., 0., 0., ..., 0., 0., 0.],\n",
              "       [0., 0., 0., ..., 0., 0., 0.],\n",
              "       [0., 0., 0., ..., 0., 0., 0.]], dtype=float32)"
            ]
          },
          "metadata": {},
          "execution_count": 14
        }
      ]
    },
    {
      "cell_type": "markdown",
      "metadata": {
        "id": "N1YDxPjphBRt"
      },
      "source": [
        "**\"Fitting\" the model**"
      ]
    },
    {
      "cell_type": "code",
      "execution_count": 16,
      "metadata": {
        "id": "Y55T1Pa8hBRt",
        "outputId": "0f05a206-9812-401b-88f4-94bd5fd8d7e3",
        "colab": {
          "base_uri": "https://localhost:8080/"
        }
      },
      "outputs": [
        {
          "output_type": "stream",
          "name": "stdout",
          "text": [
            "Epoch 1/5\n",
            "469/469 [==============================] - 2s 4ms/step - loss: 0.0285 - accuracy: 0.9919\n",
            "Epoch 2/5\n",
            "469/469 [==============================] - 2s 4ms/step - loss: 0.0218 - accuracy: 0.9934\n",
            "Epoch 3/5\n",
            "469/469 [==============================] - 2s 4ms/step - loss: 0.0170 - accuracy: 0.9950\n",
            "Epoch 4/5\n",
            "469/469 [==============================] - 2s 4ms/step - loss: 0.0131 - accuracy: 0.9965\n",
            "Epoch 5/5\n",
            "469/469 [==============================] - 2s 4ms/step - loss: 0.0102 - accuracy: 0.9970\n"
          ]
        },
        {
          "output_type": "execute_result",
          "data": {
            "text/plain": [
              "<keras.callbacks.History at 0x7f21e7f045d0>"
            ]
          },
          "metadata": {},
          "execution_count": 16
        }
      ],
      "source": [
        "model.fit(train_images, train_labels, epochs=5, batch_size=128)"
      ]
    },
    {
      "cell_type": "markdown",
      "metadata": {
        "id": "WntFkApShBRu"
      },
      "source": [
        "**Using the model to make predictions**"
      ]
    },
    {
      "cell_type": "code",
      "execution_count": 17,
      "metadata": {
        "id": "DzPUeJnMhBRu",
        "outputId": "3fdcbe14-90e9-4b6c-fd3a-20fbf4708e24",
        "colab": {
          "base_uri": "https://localhost:8080/"
        }
      },
      "outputs": [
        {
          "output_type": "execute_result",
          "data": {
            "text/plain": [
              "array([1.5634817e-10, 5.3005051e-16, 7.2954469e-09, 1.8972336e-06,\n",
              "       6.4907732e-16, 2.0888433e-11, 1.7425211e-17, 9.9999797e-01,\n",
              "       1.9776365e-10, 7.1685086e-08], dtype=float32)"
            ]
          },
          "metadata": {},
          "execution_count": 17
        }
      ],
      "source": [
        "test_digits = test_images[0:10]\n",
        "predictions = model.predict(test_digits)\n",
        "predictions[0]"
      ]
    },
    {
      "cell_type": "code",
      "execution_count": 18,
      "metadata": {
        "id": "vfyDooSnhBRv",
        "outputId": "218e64e4-ebbc-4cab-d456-e331c7ef1a62",
        "colab": {
          "base_uri": "https://localhost:8080/"
        }
      },
      "outputs": [
        {
          "output_type": "execute_result",
          "data": {
            "text/plain": [
              "7"
            ]
          },
          "metadata": {},
          "execution_count": 18
        }
      ],
      "source": [
        "predictions[0].argmax()"
      ]
    },
    {
      "cell_type": "code",
      "execution_count": 19,
      "metadata": {
        "id": "2RoWJA8yhBRv",
        "outputId": "bbeff58d-95f4-4464-c668-7b73c93c2b19",
        "colab": {
          "base_uri": "https://localhost:8080/"
        }
      },
      "outputs": [
        {
          "output_type": "execute_result",
          "data": {
            "text/plain": [
              "0.999998"
            ]
          },
          "metadata": {},
          "execution_count": 19
        }
      ],
      "source": [
        "predictions[0][7]"
      ]
    },
    {
      "cell_type": "code",
      "execution_count": 20,
      "metadata": {
        "id": "QQhFUgRhhBRw",
        "outputId": "1e3a1b5e-5d91-4ab7-cdbf-b07592f85198",
        "colab": {
          "base_uri": "https://localhost:8080/"
        }
      },
      "outputs": [
        {
          "output_type": "execute_result",
          "data": {
            "text/plain": [
              "7"
            ]
          },
          "metadata": {},
          "execution_count": 20
        }
      ],
      "source": [
        "test_labels[0]"
      ]
    },
    {
      "cell_type": "markdown",
      "metadata": {
        "id": "v2ocDBSthBRw"
      },
      "source": [
        "**Evaluating the model on new data**"
      ]
    },
    {
      "cell_type": "code",
      "execution_count": 21,
      "metadata": {
        "id": "Fdiz6xqphBRx",
        "outputId": "8f832140-6073-418b-ac99-90e4a90693b4",
        "colab": {
          "base_uri": "https://localhost:8080/"
        }
      },
      "outputs": [
        {
          "output_type": "stream",
          "name": "stdout",
          "text": [
            "313/313 [==============================] - 1s 3ms/step - loss: 0.0782 - accuracy: 0.9809\n",
            "test_acc: 0.98089998960495\n"
          ]
        }
      ],
      "source": [
        "test_loss, test_acc = model.evaluate(test_images, test_labels)\n",
        "print(f\"test_acc: {test_acc}\")"
      ]
    },
    {
      "cell_type": "markdown",
      "metadata": {
        "id": "l5ZFGSWZhBRx"
      },
      "source": [
        "## Data representations for neural networks"
      ]
    },
    {
      "cell_type": "markdown",
      "metadata": {
        "id": "xSsxnu2VhBRx"
      },
      "source": [
        "### Scalars (rank-0 tensors)"
      ]
    },
    {
      "cell_type": "code",
      "execution_count": 22,
      "metadata": {
        "id": "q3o955VNhBRy",
        "outputId": "1931bd12-cb26-4623-94ff-70259e8b2fcb",
        "colab": {
          "base_uri": "https://localhost:8080/"
        }
      },
      "outputs": [
        {
          "output_type": "execute_result",
          "data": {
            "text/plain": [
              "array(12)"
            ]
          },
          "metadata": {},
          "execution_count": 22
        }
      ],
      "source": [
        "import numpy as np\n",
        "x = np.array(12)\n",
        "x"
      ]
    },
    {
      "cell_type": "code",
      "execution_count": 23,
      "metadata": {
        "id": "vyLxcf0bhBRy",
        "outputId": "46771a6d-2bdf-447f-d691-05e51ffbdc04",
        "colab": {
          "base_uri": "https://localhost:8080/"
        }
      },
      "outputs": [
        {
          "output_type": "execute_result",
          "data": {
            "text/plain": [
              "0"
            ]
          },
          "metadata": {},
          "execution_count": 23
        }
      ],
      "source": [
        "x.ndim"
      ]
    },
    {
      "cell_type": "markdown",
      "metadata": {
        "id": "Lkgx6qFAhBRy"
      },
      "source": [
        "### Vectors (rank-1 tensors)"
      ]
    },
    {
      "cell_type": "code",
      "execution_count": null,
      "metadata": {
        "id": "TRvzCfYthBRz"
      },
      "outputs": [],
      "source": [
        "x = np.array([12, 3, 6, 14, 7])\n",
        "x"
      ]
    },
    {
      "cell_type": "code",
      "execution_count": null,
      "metadata": {
        "id": "ogLv_O9ohBRz"
      },
      "outputs": [],
      "source": [
        "x.ndim"
      ]
    },
    {
      "cell_type": "markdown",
      "metadata": {
        "id": "JQAznCQMhBR0"
      },
      "source": [
        "### Matrices (rank-2 tensors)"
      ]
    },
    {
      "cell_type": "code",
      "execution_count": null,
      "metadata": {
        "id": "camEjkDAhBR0"
      },
      "outputs": [],
      "source": [
        "x = np.array([[5, 78, 2, 34, 0],\n",
        "              [6, 79, 3, 35, 1],\n",
        "              [7, 80, 4, 36, 2]])\n",
        "x.ndim"
      ]
    },
    {
      "cell_type": "markdown",
      "metadata": {
        "id": "aqWG5vZQhBR1"
      },
      "source": [
        "### Rank-3 and higher-rank tensors"
      ]
    },
    {
      "cell_type": "code",
      "execution_count": null,
      "metadata": {
        "id": "-PooqM_ShBR1"
      },
      "outputs": [],
      "source": [
        "x = np.array([[[5, 78, 2, 34, 0],\n",
        "               [6, 79, 3, 35, 1],\n",
        "               [7, 80, 4, 36, 2]],\n",
        "              [[5, 78, 2, 34, 0],\n",
        "               [6, 79, 3, 35, 1],\n",
        "               [7, 80, 4, 36, 2]],\n",
        "              [[5, 78, 2, 34, 0],\n",
        "               [6, 79, 3, 35, 1],\n",
        "               [7, 80, 4, 36, 2]]])\n",
        "x.ndim"
      ]
    },
    {
      "cell_type": "markdown",
      "metadata": {
        "id": "gilgILZNhBR1"
      },
      "source": [
        "### Key attributes"
      ]
    },
    {
      "cell_type": "code",
      "execution_count": 25,
      "metadata": {
        "id": "1GnXjq8lhBR2"
      },
      "outputs": [],
      "source": [
        "from tensorflow.keras.datasets import mnist\n",
        "(train_images, train_labels), (test_images, test_labels) = mnist.load_data()"
      ]
    },
    {
      "cell_type": "code",
      "execution_count": null,
      "metadata": {
        "id": "C2-ohEhehBR2"
      },
      "outputs": [],
      "source": [
        "train_images.ndim"
      ]
    },
    {
      "cell_type": "code",
      "execution_count": null,
      "metadata": {
        "id": "0-FZOq-BhBR2"
      },
      "outputs": [],
      "source": [
        "train_images.shape"
      ]
    },
    {
      "cell_type": "code",
      "execution_count": 26,
      "metadata": {
        "id": "izGakt3phBR3",
        "outputId": "7d09b968-4176-457b-8ba5-72fe83d07e23",
        "colab": {
          "base_uri": "https://localhost:8080/"
        }
      },
      "outputs": [
        {
          "output_type": "execute_result",
          "data": {
            "text/plain": [
              "dtype('uint8')"
            ]
          },
          "metadata": {},
          "execution_count": 26
        }
      ],
      "source": [
        "train_images.dtype"
      ]
    },
    {
      "cell_type": "markdown",
      "metadata": {
        "id": "inpoPB1WhBR3"
      },
      "source": [
        "**Displaying the fourth digit**"
      ]
    },
    {
      "cell_type": "code",
      "execution_count": 27,
      "metadata": {
        "id": "pReuCRRuhBR3",
        "outputId": "b84de112-8d6f-4b29-809b-80bc4655802b",
        "colab": {
          "base_uri": "https://localhost:8080/",
          "height": 265
        }
      },
      "outputs": [
        {
          "output_type": "display_data",
          "data": {
            "text/plain": [
              "<Figure size 432x288 with 1 Axes>"
            ],
            "image/png": "[encoded data removed]"
          },
          "metadata": {
            "needs_background": "light"
          }
        }
      ],
      "source": [
        "import matplotlib.pyplot as plt\n",
        "digit = train_images[4]\n",
        "plt.imshow(digit, cmap=plt.cm.binary)\n",
        "plt.show()"
      ]
    },
    {
      "cell_type": "code",
      "execution_count": 28,
      "metadata": {
        "id": "_EyD9TOShBR7",
        "outputId": "5c36a70b-a5d7-410b-fad2-1c0a69397962",
        "colab": {
          "base_uri": "https://localhost:8080/"
        }
      },
      "outputs": [
        {
          "output_type": "execute_result",
          "data": {
            "text/plain": [
              "9"
            ]
          },
          "metadata": {},
          "execution_count": 28
        }
      ],
      "source": [
        "train_labels[4]"
      ]
    },
    {
      "cell_type": "markdown",
      "metadata": {
        "id": "J0f7vjzyhBR8"
      },
      "source": [
        "### Manipulating tensors in NumPy"
      ]
    },
    {
      "cell_type": "code",
      "execution_count": null,
      "metadata": {
        "id": "EOnQbDenhBR8"
      },
      "outputs": [],
      "source": [
        "my_slice = train_images[10:100]\n",
        "my_slice.shape"
      ]
    },
    {
      "cell_type": "code",
      "execution_count": null,
      "metadata": {
        "id": "SFFWMsnchBR8"
      },
      "outputs": [],
      "source": [
        "my_slice = train_images[10:100, :, :]\n",
        "my_slice.shape"
      ]
    },
    {
      "cell_type": "code",
      "execution_count": null,
      "metadata": {
        "id": "BeSbWKZvhBR8"
      },
      "outputs": [],
      "source": [
        "my_slice = train_images[10:100, 0:28, 0:28]\n",
        "my_slice.shape"
      ]
    },
    {
      "cell_type": "code",
      "execution_count": null,
      "metadata": {
        "id": "TMuTk33khBR9"
      },
      "outputs": [],
      "source": [
        "my_slice = train_images[:, 14:, 14:]"
      ]
    },
    {
      "cell_type": "code",
      "execution_count": null,
      "metadata": {
        "id": "61UX5wurhBR9"
      },
      "outputs": [],
      "source": [
        "my_slice = train_images[:, 7:-7, 7:-7]"
      ]
    },
    {
      "cell_type": "markdown",
      "metadata": {
        "id": "UNCrdRo0hBR9"
      },
      "source": [
        "### The notion of data batches"
      ]
    },
    {
      "cell_type": "code",
      "execution_count": null,
      "metadata": {
        "id": "UXejXAFwhBR-"
      },
      "outputs": [],
      "source": [
        "batch = train_images[:128]"
      ]
    },
    {
      "cell_type": "code",
      "execution_count": null,
      "metadata": {
        "id": "WuSo2sK4hBR-"
      },
      "outputs": [],
      "source": [
        "batch = train_images[128:256]"
      ]
    },
    {
      "cell_type": "code",
      "execution_count": 29,
      "metadata": {
        "id": "sOXhi6v-hBR-"
      },
      "outputs": [],
      "source": [
        "n = 3\n",
        "batch = train_images[128 * n:128 * (n + 1)]"
      ]
    },
    {
      "cell_type": "markdown",
      "metadata": {
        "id": "-Z-LXeqQhBR_"
      },
      "source": [
        "### Real-world examples of data tensors"
      ]
    },
    {
      "cell_type": "markdown",
      "metadata": {
        "id": "IbvgGTylhBSA"
      },
      "source": [
        "### Vector data"
      ]
    },
    {
      "cell_type": "markdown",
      "metadata": {
        "id": "dX-PJdgchBSA"
      },
      "source": [
        "### Timeseries data or sequence data"
      ]
    },
    {
      "cell_type": "markdown",
      "metadata": {
        "id": "1VyibuwUhBSB"
      },
      "source": [
        "### Image data"
      ]
    },
    {
      "cell_type": "markdown",
      "metadata": {
        "id": "tmpnqL7xhBSB"
      },
      "source": [
        "### Video data"
      ]
    },
    {
      "cell_type": "markdown",
      "metadata": {
        "id": "-qQ54ffvhBSC"
      },
      "source": [
        "## The gears of neural networks: tensor operations"
      ]
    },
    {
      "cell_type": "markdown",
      "metadata": {
        "id": "bIaf82pthBSC"
      },
      "source": [
        "### Element-wise operations"
      ]
    },
    {
      "cell_type": "code",
      "execution_count": 30,
      "metadata": {
        "id": "JpFoAOD9hBSD"
      },
      "outputs": [],
      "source": [
        "def naive_relu(x):\n",
        "    assert len(x.shape) == 2\n",
        "    x = x.copy()\n",
        "    for i in range(x.shape[0]):\n",
        "        for j in range(x.shape[1]):\n",
        "            x[i, j] = max(x[i, j], 0)\n",
        "    return x"
      ]
    },
    {
      "cell_type": "code",
      "execution_count": 31,
      "metadata": {
        "id": "4zR7cOXNhBSD"
      },
      "outputs": [],
      "source": [
        "def naive_add(x, y):\n",
        "    assert len(x.shape) == 2\n",
        "    assert x.shape == y.shape\n",
        "    x = x.copy()\n",
        "    for i in range(x.shape[0]):\n",
        "        for j in range(x.shape[1]):\n",
        "            x[i, j] += y[i, j]\n",
        "    return x"
      ]
    },
    {
      "cell_type": "code",
      "execution_count": 53,
      "metadata": {
        "id": "LOVwJzkQhBSD",
        "outputId": "f9689c3a-da5a-4c10-829d-90987a74f274",
        "colab": {
          "base_uri": "https://localhost:8080/"
        }
      },
      "outputs": [
        {
          "output_type": "stream",
          "name": "stdout",
          "text": [
            "Took: 0.01 s\n"
          ]
        }
      ],
      "source": [
        "import time\n",
        "\n",
        "x = np.random.random((20, 100))\n",
        "y = np.random.random((20, 100))\n",
        "\n",
        "t0 = time.time()\n",
        "for _ in range(1000):\n",
        "    z = x + y\n",
        "    z = np.maximum(z, 0.)\n",
        "print(\"Took: {0:.2f} s\".format(time.time() - t0))"
      ]
    },
    {
      "cell_type": "code",
      "execution_count": 35,
      "metadata": {
        "id": "iIo1wOlChBSE",
        "outputId": "4f879f91-74bf-42fc-eecb-701a425b49eb",
        "colab": {
          "base_uri": "https://localhost:8080/"
        }
      },
      "outputs": [
        {
          "output_type": "stream",
          "name": "stdout",
          "text": [
            "Took: 2.42 s\n"
          ]
        }
      ],
      "source": [
        "t0 = time.time()\n",
        "for _ in range(1000):\n",
        "    z = naive_add(x, y)\n",
        "    z = naive_relu(z)\n",
        "print(\"Took: {0:.2f} s\".format(time.time() - t0))"
      ]
    },
    {
      "cell_type": "markdown",
      "metadata": {
        "id": "_FOVyqfDhBSE"
      },
      "source": [
        "### Broadcasting"
      ]
    },
    {
      "cell_type": "code",
      "execution_count": 36,
      "metadata": {
        "id": "bJwywySghBSF"
      },
      "outputs": [],
      "source": [
        "import numpy as np\n",
        "X = np.random.random((32, 10))\n",
        "y = np.random.random((10,))"
      ]
    },
    {
      "cell_type": "code",
      "source": [
        "X+y"
      ],
      "metadata": {
        "id": "PapeKUismMkl",
        "outputId": "db8aa8b1-e888-451e-9282-17363df684a1",
        "colab": {
          "base_uri": "https://localhost:8080/"
        }
      },
      "execution_count": 37,
      "outputs": [
        {
          "output_type": "execute_result",
          "data": {
            "text/plain": [
              "array([[0.78936759, 1.56903583, 1.06269177, 0.85207912, 0.87385964,\n",
              "        0.08193695, 0.33510175, 1.54145702, 0.57255252, 1.72037136],\n",
              "       [1.27160763, 1.5608813 , 1.29389774, 1.75371097, 0.52137657,\n",
              "        0.4763159 , 0.68921134, 1.84751806, 1.09812211, 0.89827652],\n",
              "       [1.12127565, 1.25115255, 0.90678497, 1.77311592, 1.41078082,\n",
              "        0.18085332, 0.30587431, 1.83526944, 0.64340198, 1.47361013],\n",
              "       [0.55354574, 1.05704595, 0.80564489, 1.33037498, 0.85141084,\n",
              "        0.95701941, 0.03677919, 1.13532241, 0.25572783, 1.8384357 ],\n",
              "       [0.48558124, 0.9988723 , 0.91399126, 1.04936017, 0.78260423,\n",
              "        0.29412845, 0.01602419, 0.86544546, 0.74098139, 1.03939399],\n",
              "       [0.66007321, 0.97664318, 0.75933182, 1.28202603, 1.43502922,\n",
              "        0.01845715, 0.91134311, 1.34049198, 0.8149838 , 0.96106924],\n",
              "       [1.16503441, 1.68618678, 0.95777989, 1.65098195, 0.48279901,\n",
              "        0.96660998, 0.15544474, 1.68414989, 0.20463014, 0.95672617],\n",
              "       [0.48439603, 1.1086672 , 0.69187561, 1.46376834, 0.97419162,\n",
              "        0.14487506, 0.84807515, 1.66911853, 0.58071297, 1.30945798],\n",
              "       [0.73650023, 1.27205835, 0.9152897 , 1.48567476, 0.51028192,\n",
              "        0.5833612 , 0.22704488, 1.22321332, 1.10730376, 1.43748294],\n",
              "       [0.67808078, 1.42962476, 0.74118371, 1.16723556, 1.14590434,\n",
              "        0.18057563, 0.31998444, 1.18762401, 0.92186437, 1.57287976],\n",
              "       [0.72591373, 1.01043407, 1.0086735 , 1.21733841, 1.07999236,\n",
              "        0.06396533, 0.36005013, 1.07259047, 1.10059853, 1.7003546 ],\n",
              "       [0.96789369, 1.46956557, 1.57570714, 1.62826309, 0.71587839,\n",
              "        0.43738553, 0.34221739, 1.54730963, 1.1126035 , 1.54727423],\n",
              "       [1.12253049, 1.75224235, 0.92460912, 0.94635405, 1.42580876,\n",
              "        0.82774375, 0.35669146, 0.92033627, 0.77105387, 0.96651879],\n",
              "       [0.43272849, 1.80637618, 1.582801  , 1.55304931, 0.57035664,\n",
              "        0.47826009, 0.96887092, 1.116138  , 0.31663329, 1.35471169],\n",
              "       [0.86555467, 1.35692928, 1.33340605, 0.96999434, 1.32592996,\n",
              "        0.21683104, 0.60357133, 0.99905691, 0.79660363, 0.86807113],\n",
              "       [0.61511935, 1.62831962, 0.59191997, 1.66665054, 1.1457208 ,\n",
              "        0.19746531, 0.50977864, 1.71430719, 0.98991175, 1.53711122],\n",
              "       [1.16431769, 1.19062841, 0.81327439, 0.88851087, 1.22001506,\n",
              "        0.18878182, 0.93049499, 1.00647578, 1.08721679, 1.08817716],\n",
              "       [0.89545172, 1.34228244, 0.82305476, 0.96882408, 0.89367179,\n",
              "        0.91938012, 0.46522911, 1.64320512, 0.6081844 , 1.36402429],\n",
              "       [0.87676597, 1.11669919, 0.9505225 , 1.45327702, 1.36650634,\n",
              "        0.25422856, 0.44329041, 1.48758944, 0.23034943, 1.03047648],\n",
              "       [0.52728725, 0.94670997, 0.72603537, 1.59493909, 1.15544951,\n",
              "        0.49996427, 0.4807018 , 1.44682035, 0.438376  , 1.52321798],\n",
              "       [0.46847567, 0.9311196 , 0.74864845, 1.02029184, 0.60711441,\n",
              "        0.58055866, 0.89902909, 1.8273846 , 0.43646067, 1.05271659],\n",
              "       [0.75028168, 1.85027155, 1.27852641, 1.53451376, 0.47704435,\n",
              "        0.56074682, 0.24551265, 1.43303368, 0.51764672, 0.98833323],\n",
              "       [0.76027106, 1.53322605, 1.26779377, 1.07509364, 1.00339089,\n",
              "        0.74784624, 0.07149184, 0.86600264, 1.16576712, 0.87040095],\n",
              "       [0.83971211, 0.97380959, 1.45697237, 1.23802881, 0.7706235 ,\n",
              "        0.87614582, 0.33601535, 1.40171335, 0.92220554, 1.40885928],\n",
              "       [1.32421377, 1.25642598, 0.66882077, 1.53748789, 0.66343232,\n",
              "        0.75352926, 0.04732926, 1.40330067, 0.20038534, 1.56781649],\n",
              "       [0.37953312, 1.74435392, 1.43028257, 0.82777583, 1.43423693,\n",
              "        0.78101314, 0.78840667, 1.25604634, 0.80722168, 1.04592909],\n",
              "       [1.09118272, 1.67846765, 0.84324755, 1.51756439, 1.38075673,\n",
              "        0.64550223, 0.89647944, 1.15394086, 0.41309729, 1.12402958],\n",
              "       [0.97641133, 1.39352672, 1.33964887, 0.9305226 , 0.77303228,\n",
              "        0.67703893, 0.22542746, 1.68450145, 0.76724861, 1.00932057],\n",
              "       [0.76679441, 1.87573073, 1.39720658, 1.20398157, 1.2828079 ,\n",
              "        0.34373796, 0.45161272, 0.86199486, 0.2219147 , 1.4341399 ],\n",
              "       [0.71614999, 1.13606481, 1.10058236, 1.65418871, 1.29792647,\n",
              "        0.30247783, 0.21426174, 1.67794648, 0.65728153, 1.75260481],\n",
              "       [1.14558906, 1.07000367, 0.66429415, 1.0829156 , 1.050325  ,\n",
              "        0.15857617, 0.07167577, 1.60150417, 0.22228653, 1.06425556],\n",
              "       [0.86497996, 1.38205557, 0.78874894, 1.35054041, 0.55444197,\n",
              "        0.22482841, 0.07312441, 1.33605532, 0.4470197 , 1.71604261]])"
            ]
          },
          "metadata": {},
          "execution_count": 37
        }
      ]
    },
    {
      "cell_type": "code",
      "execution_count": 38,
      "metadata": {
        "id": "MDeuOLDohBSF"
      },
      "outputs": [],
      "source": [
        "y = np.expand_dims(y, axis=0)"
      ]
    },
    {
      "cell_type": "code",
      "execution_count": 39,
      "metadata": {
        "id": "tiCVBNyMhBSF"
      },
      "outputs": [],
      "source": [
        "Y = np.concatenate([y] * 32, axis=0)"
      ]
    },
    {
      "cell_type": "code",
      "execution_count": null,
      "metadata": {
        "id": "PkuoOrXshBSG"
      },
      "outputs": [],
      "source": [
        "def naive_add_matrix_and_vector(x, y):\n",
        "    assert len(x.shape) == 2\n",
        "    assert len(y.shape) == 1\n",
        "    assert x.shape[1] == y.shape[0]\n",
        "    x = x.copy()\n",
        "    for i in range(x.shape[0]):\n",
        "        for j in range(x.shape[1]):\n",
        "            x[i, j] += y[j]\n",
        "    return x"
      ]
    },
    {
      "cell_type": "code",
      "execution_count": 40,
      "metadata": {
        "id": "9tU-3SCZhBSG"
      },
      "outputs": [],
      "source": [
        "import numpy as np\n",
        "x = np.random.random((64, 3, 32, 10))\n",
        "y = np.random.random((32, 10))\n",
        "z = np.maximum(x, y)"
      ]
    },
    {
      "cell_type": "code",
      "source": [
        "z"
      ],
      "metadata": {
        "id": "ad8kZM8umhpe",
        "outputId": "8b6c465d-7e5d-4f62-ae66-7922e7140332",
        "colab": {
          "base_uri": "https://localhost:8080/"
        }
      },
      "execution_count": 41,
      "outputs": [
        {
          "output_type": "execute_result",
          "data": {
            "text/plain": [
              "array([[[[0.98384478, 0.72718512, 0.77071603, ..., 0.21869758,\n",
              "          0.35045732, 0.98907739],\n",
              "         [0.65758992, 0.99068479, 0.76497365, ..., 0.31423438,\n",
              "          0.61701855, 0.48514468],\n",
              "         [0.42269934, 0.27893227, 0.88303029, ..., 0.86725124,\n",
              "          0.99732996, 0.23923832],\n",
              "         ...,\n",
              "         [0.96398806, 0.2915781 , 0.72616328, ..., 0.94555957,\n",
              "          0.8102956 , 0.90897594],\n",
              "         [0.30879881, 0.63847634, 0.65239532, ..., 0.14818622,\n",
              "          0.53810706, 0.91749481],\n",
              "         [0.48582185, 0.69005621, 0.35883211, ..., 0.92355638,\n",
              "          0.95746645, 0.45391071]],\n",
              "\n",
              "        [[0.98384478, 0.61250271, 0.95514179, ..., 0.56792696,\n",
              "          0.55367736, 0.8845579 ],\n",
              "         [0.58531317, 0.99068479, 0.76497365, ..., 0.66180683,\n",
              "          0.62257885, 0.48514468],\n",
              "         [0.73212225, 0.35006435, 0.88303029, ..., 0.37562081,\n",
              "          0.99732996, 0.23923832],\n",
              "         ...,\n",
              "         [0.5580054 , 0.67701613, 0.12779824, ..., 0.94555957,\n",
              "          0.80869224, 0.92392618],\n",
              "         [0.98993659, 0.63847634, 0.61708378, ..., 0.7239637 ,\n",
              "          0.86129497, 0.89936805],\n",
              "         [0.10539355, 0.48126276, 0.80187133, ..., 0.81307119,\n",
              "          0.7978014 , 0.30250329]],\n",
              "\n",
              "        [[0.98384478, 0.61250271, 0.77071603, ..., 0.40347967,\n",
              "          0.30656169, 0.18615928],\n",
              "         [0.74194314, 0.99068479, 0.76497365, ..., 0.22998813,\n",
              "          0.74737   , 0.70084989],\n",
              "         [0.84733618, 0.92812539, 0.88303029, ..., 0.37562081,\n",
              "          0.99732996, 0.23923832],\n",
              "         ...,\n",
              "         [0.5580054 , 0.2915781 , 0.21000074, ..., 0.94555957,\n",
              "          0.94940986, 0.98175253],\n",
              "         [0.30879881, 0.81680682, 0.95715056, ..., 0.77788892,\n",
              "          0.69125244, 0.99846123],\n",
              "         [0.59128986, 0.88076555, 0.43656374, ..., 0.95508118,\n",
              "          0.33436866, 0.56880759]]],\n",
              "\n",
              "\n",
              "       [[[0.98384478, 0.68035388, 0.82383528, ..., 0.8343389 ,\n",
              "          0.05459075, 0.32488807],\n",
              "         [0.85915157, 0.99068479, 0.76497365, ..., 0.64336859,\n",
              "          0.27733595, 0.48514468],\n",
              "         [0.45720334, 0.61392129, 0.88303029, ..., 0.37562081,\n",
              "          0.99732996, 0.86441751],\n",
              "         ...,\n",
              "         [0.66294316, 0.82532241, 0.53565512, ..., 0.94555957,\n",
              "          0.98955758, 0.90897594],\n",
              "         [0.90157433, 0.63847634, 0.05556738, ..., 0.11782566,\n",
              "          0.53810706, 0.89936805],\n",
              "         [0.10539355, 0.30297974, 0.53065068, ..., 0.8582715 ,\n",
              "          0.47049757, 0.62673157]],\n",
              "\n",
              "        [[0.98384478, 0.61250271, 0.77071603, ..., 0.21869758,\n",
              "          0.69520562, 0.18615928],\n",
              "         [0.89535589, 0.99068479, 0.76497365, ..., 0.2462245 ,\n",
              "          0.36280609, 0.98302756],\n",
              "         [0.3175818 , 0.77758076, 0.88303029, ..., 0.37980863,\n",
              "          0.99732996, 0.43498867],\n",
              "         ...,\n",
              "         [0.5580054 , 0.3154804 , 0.27728926, ..., 0.94555957,\n",
              "          0.75984106, 0.90897594],\n",
              "         [0.92832832, 0.63847634, 0.13785383, ..., 0.54726113,\n",
              "          0.8654267 , 0.89936805],\n",
              "         [0.42839028, 0.14638543, 0.17686184, ..., 0.81307119,\n",
              "          0.609956  , 0.7878836 ]],\n",
              "\n",
              "        [[0.98384478, 0.6958481 , 0.77071603, ..., 0.8069896 ,\n",
              "          0.11141699, 0.18615928],\n",
              "         [0.49449811, 0.99068479, 0.76497365, ..., 0.65040151,\n",
              "          0.52078841, 0.96404364],\n",
              "         [0.69211478, 0.11014494, 0.88303029, ..., 0.43948817,\n",
              "          0.99732996, 0.32061872],\n",
              "         ...,\n",
              "         [0.5580054 , 0.2915781 , 0.44332962, ..., 0.94555957,\n",
              "          0.56736226, 0.90897594],\n",
              "         [0.58246956, 0.63847634, 0.22436546, ..., 0.64861761,\n",
              "          0.89777878, 0.89936805],\n",
              "         [0.33537154, 0.19969258, 0.36251234, ..., 0.81307119,\n",
              "          0.08667337, 0.94819229]]],\n",
              "\n",
              "\n",
              "       [[[0.98384478, 0.61250271, 0.77071603, ..., 0.21869758,\n",
              "          0.97823091, 0.18615928],\n",
              "         [0.63320876, 0.99068479, 0.76497365, ..., 0.22998813,\n",
              "          0.74524539, 0.48514468],\n",
              "         [0.13229591, 0.1989341 , 0.88303029, ..., 0.37562081,\n",
              "          0.99732996, 0.23923832],\n",
              "         ...,\n",
              "         [0.81094619, 0.6770603 , 0.81989824, ..., 0.94555957,\n",
              "          0.56736226, 0.90897594],\n",
              "         [0.8565681 , 0.63847634, 0.53233651, ..., 0.53829596,\n",
              "          0.53810706, 0.89936805],\n",
              "         [0.10539355, 0.1623593 , 0.67736843, ..., 0.81307119,\n",
              "          0.93392422, 0.71897387]],\n",
              "\n",
              "        [[0.98384478, 0.6254674 , 0.90353361, ..., 0.28814129,\n",
              "          0.9238746 , 0.73575762],\n",
              "         [0.90408958, 0.99068479, 0.76497365, ..., 0.41174322,\n",
              "          0.52566275, 0.48514468],\n",
              "         [0.31058558, 0.64391388, 0.88303029, ..., 0.46458541,\n",
              "          0.99732996, 0.67179056],\n",
              "         ...,\n",
              "         [0.5580054 , 0.2915781 , 0.38234129, ..., 0.94555957,\n",
              "          0.68136287, 0.90897594],\n",
              "         [0.30879881, 0.63847634, 0.79292715, ..., 0.42294557,\n",
              "          0.87995044, 0.89936805],\n",
              "         [0.38101251, 0.84685647, 0.23693998, ..., 0.81307119,\n",
              "          0.44350601, 0.82282215]],\n",
              "\n",
              "        [[0.98384478, 0.61250271, 0.81541368, ..., 0.75115129,\n",
              "          0.05459075, 0.18615928],\n",
              "         [0.91407635, 0.99068479, 0.76497365, ..., 0.33302756,\n",
              "          0.50993809, 0.83289913],\n",
              "         [0.26970542, 0.89230355, 0.88303029, ..., 0.37562081,\n",
              "          0.99732996, 0.54798884],\n",
              "         ...,\n",
              "         [0.5580054 , 0.44734328, 0.79396649, ..., 0.94555957,\n",
              "          0.67496654, 0.90897594],\n",
              "         [0.93089296, 0.63847634, 0.19542719, ..., 0.68539887,\n",
              "          0.92331594, 0.89936805],\n",
              "         [0.96049278, 0.81388314, 0.17686184, ..., 0.81307119,\n",
              "          0.20849711, 0.58978151]]],\n",
              "\n",
              "\n",
              "       ...,\n",
              "\n",
              "\n",
              "       [[[0.98384478, 0.61250271, 0.77071603, ..., 0.96407548,\n",
              "          0.49856997, 0.96342252],\n",
              "         [0.26765163, 0.99068479, 0.76497365, ..., 0.82355751,\n",
              "          0.96598358, 0.48514468],\n",
              "         [0.52337439, 0.03622903, 0.88303029, ..., 0.87760441,\n",
              "          0.99732996, 0.23923832],\n",
              "         ...,\n",
              "         [0.5580054 , 0.61786333, 0.68739738, ..., 0.98943384,\n",
              "          0.63053179, 0.90897594],\n",
              "         [0.30879881, 0.98134416, 0.87078122, ..., 0.50706086,\n",
              "          0.53810706, 0.89936805],\n",
              "         [0.39125577, 0.4720478 , 0.17686184, ..., 0.81307119,\n",
              "          0.2811428 , 0.30250329]],\n",
              "\n",
              "        [[0.98384478, 0.72405553, 0.77071603, ..., 0.21869758,\n",
              "          0.73666628, 0.69295735],\n",
              "         [0.14012286, 0.99068479, 0.76497365, ..., 0.22998813,\n",
              "          0.73766487, 0.49615039],\n",
              "         [0.13229591, 0.54288022, 0.88303029, ..., 0.37562081,\n",
              "          0.99732996, 0.5258794 ],\n",
              "         ...,\n",
              "         [0.5580054 , 0.35055149, 0.6842623 , ..., 0.94555957,\n",
              "          0.56736226, 0.90897594],\n",
              "         [0.30879881, 0.79050449, 0.76937763, ..., 0.12899792,\n",
              "          0.53810706, 0.89936805],\n",
              "         [0.98711623, 0.19736989, 0.89587802, ..., 0.81307119,\n",
              "          0.08911883, 0.92980625]],\n",
              "\n",
              "        [[0.98384478, 0.61250271, 0.77071603, ..., 0.74756323,\n",
              "          0.41831528, 0.18615928],\n",
              "         [0.55458659, 0.99068479, 0.76497365, ..., 0.92533023,\n",
              "          0.84174965, 0.48514468],\n",
              "         [0.14878278, 0.85560866, 0.88303029, ..., 0.81570511,\n",
              "          0.99732996, 0.66030707],\n",
              "         ...,\n",
              "         [0.79681835, 0.88057061, 0.83159058, ..., 0.94555957,\n",
              "          0.56736226, 0.90897594],\n",
              "         [0.47040994, 0.94309262, 0.39344576, ..., 0.18676135,\n",
              "          0.53810706, 0.89936805],\n",
              "         [0.10539355, 0.53164757, 0.71087697, ..., 0.81307119,\n",
              "          0.27405628, 0.30250329]]],\n",
              "\n",
              "\n",
              "       [[[0.98384478, 0.7734537 , 0.77071603, ..., 0.26335436,\n",
              "          0.78588644, 0.26735568],\n",
              "         [0.37494505, 0.99068479, 0.97218379, ..., 0.65452913,\n",
              "          0.35728475, 0.9415987 ],\n",
              "         [0.74856111, 0.77980944, 0.88303029, ..., 0.37562081,\n",
              "          0.99732996, 0.95155353],\n",
              "         ...,\n",
              "         [0.5580054 , 0.36936145, 0.12779824, ..., 0.96886963,\n",
              "          0.56736226, 0.90897594],\n",
              "         [0.91423453, 0.63847634, 0.05556738, ..., 0.97648959,\n",
              "          0.53810706, 0.92409989],\n",
              "         [0.10539355, 0.15963528, 0.17686184, ..., 0.81307119,\n",
              "          0.90883886, 0.30250329]],\n",
              "\n",
              "        [[0.98384478, 0.61250271, 0.77071603, ..., 0.34864883,\n",
              "          0.81998773, 0.39724175],\n",
              "         [0.57651074, 0.99068479, 0.76497365, ..., 0.42505894,\n",
              "          0.6204096 , 0.77934445],\n",
              "         [0.75024618, 0.54439047, 0.88303029, ..., 0.44798955,\n",
              "          0.99732996, 0.48928195],\n",
              "         ...,\n",
              "         [0.93276439, 0.6752351 , 0.12779824, ..., 0.99246397,\n",
              "          0.56736226, 0.90897594],\n",
              "         [0.63315468, 0.96303375, 0.998039  , ..., 0.66136209,\n",
              "          0.53810706, 0.89936805],\n",
              "         [0.93323007, 0.2758613 , 0.57077529, ..., 0.81307119,\n",
              "          0.4568691 , 0.30250329]],\n",
              "\n",
              "        [[0.98384478, 0.61250271, 0.77071603, ..., 0.21869758,\n",
              "          0.53556739, 0.45175046],\n",
              "         [0.62688689, 0.99068479, 0.76497365, ..., 0.22998813,\n",
              "          0.06468652, 0.63550918],\n",
              "         [0.85006746, 0.5319758 , 0.88303029, ..., 0.45804262,\n",
              "          0.99732996, 0.23923832],\n",
              "         ...,\n",
              "         [0.5580054 , 0.3525537 , 0.62229377, ..., 0.99533972,\n",
              "          0.97985595, 0.90897594],\n",
              "         [0.30879881, 0.63847634, 0.6601566 , ..., 0.22633292,\n",
              "          0.53810706, 0.89936805],\n",
              "         [0.75101269, 0.80584029, 0.77235817, ..., 0.81307119,\n",
              "          0.98531057, 0.97730127]]],\n",
              "\n",
              "\n",
              "       [[[0.98384478, 0.61250271, 0.77071603, ..., 0.26945967,\n",
              "          0.33700059, 0.96416352],\n",
              "         [0.5647983 , 0.99068479, 0.96279082, ..., 0.22998813,\n",
              "          0.42716037, 0.52864734],\n",
              "         [0.13229591, 0.82838238, 0.88303029, ..., 0.50910953,\n",
              "          0.99732996, 0.54724729],\n",
              "         ...,\n",
              "         [0.5580054 , 0.91420511, 0.85105432, ..., 0.94555957,\n",
              "          0.88638675, 0.93811871],\n",
              "         [0.3647149 , 0.63847634, 0.67941584, ..., 0.98132297,\n",
              "          0.53810706, 0.89936805],\n",
              "         [0.33856577, 0.89406433, 0.17686184, ..., 0.81307119,\n",
              "          0.38038945, 0.59176965]],\n",
              "\n",
              "        [[0.98384478, 0.61250271, 0.77071603, ..., 0.75240503,\n",
              "          0.11532251, 0.47180511],\n",
              "         [0.28963395, 0.99068479, 0.86178568, ..., 0.22998813,\n",
              "          0.14857202, 0.48514468],\n",
              "         [0.61585492, 0.85264603, 0.88303029, ..., 0.71371828,\n",
              "          0.99732996, 0.63068076],\n",
              "         ...,\n",
              "         [0.5899879 , 0.68854165, 0.21425916, ..., 0.94555957,\n",
              "          0.56736226, 0.90897594],\n",
              "         [0.73483368, 0.7559699 , 0.46479696, ..., 0.45974677,\n",
              "          0.53810706, 0.89936805],\n",
              "         [0.96434074, 0.70869536, 0.17686184, ..., 0.81307119,\n",
              "          0.16701866, 0.87758217]],\n",
              "\n",
              "        [[0.98384478, 0.95071961, 0.77071603, ..., 0.39144114,\n",
              "          0.48155452, 0.36309246],\n",
              "         [0.1894442 , 0.99068479, 0.76497365, ..., 0.99360704,\n",
              "          0.3458531 , 0.86565305],\n",
              "         [0.63256046, 0.03622903, 0.88303029, ..., 0.94182806,\n",
              "          0.99732996, 0.76082844],\n",
              "         ...,\n",
              "         [0.5580054 , 0.2915781 , 0.12779824, ..., 0.94555957,\n",
              "          0.56736226, 0.90897594],\n",
              "         [0.30879881, 0.63847634, 0.60341807, ..., 0.24257202,\n",
              "          0.54224313, 0.89936805],\n",
              "         [0.19664134, 0.16026181, 0.80352439, ..., 0.95020703,\n",
              "          0.40431455, 0.30250329]]]])"
            ]
          },
          "metadata": {},
          "execution_count": 41
        }
      ]
    },
    {
      "cell_type": "code",
      "source": [
        "import numpy as np\n",
        "x = np.random.random((64, 3, 32, 10))\n",
        "y = np.random.random((32, 10))\n",
        "z = np.maximum(x, y)"
      ],
      "metadata": {
        "id": "13ogqxjCnUHj"
      },
      "execution_count": 52,
      "outputs": []
    },
    {
      "cell_type": "markdown",
      "metadata": {
        "id": "wE0UWBWnhBSG"
      },
      "source": [
        "### Tensor product"
      ]
    },
    {
      "cell_type": "code",
      "execution_count": 42,
      "metadata": {
        "id": "UhZLyssYhBSH"
      },
      "outputs": [],
      "source": [
        "x = np.random.random((32,))\n",
        "y = np.random.random((32,))\n",
        "z = np.dot(x, y)"
      ]
    },
    {
      "cell_type": "code",
      "execution_count": 43,
      "metadata": {
        "id": "8UyiVhpIhBSH"
      },
      "outputs": [],
      "source": [
        "def naive_vector_dot(x, y):\n",
        "    assert len(x.shape) == 1\n",
        "    assert len(y.shape) == 1\n",
        "    assert x.shape[0] == y.shape[0]\n",
        "    z = 0.\n",
        "    for i in range(x.shape[0]):\n",
        "        z += x[i] * y[i]\n",
        "    return z"
      ]
    },
    {
      "cell_type": "code",
      "execution_count": 44,
      "metadata": {
        "id": "40uGuSG_hBSH"
      },
      "outputs": [],
      "source": [
        "def naive_matrix_vector_dot(x, y):\n",
        "    assert len(x.shape) == 2\n",
        "    assert len(y.shape) == 1\n",
        "    assert x.shape[1] == y.shape[0]\n",
        "    z = np.zeros(x.shape[0])\n",
        "    for i in range(x.shape[0]):\n",
        "        for j in range(x.shape[1]):\n",
        "            z[i] += x[i, j] * y[j]\n",
        "    return z"
      ]
    },
    {
      "cell_type": "code",
      "execution_count": 45,
      "metadata": {
        "id": "xNtfydQ7hBSI"
      },
      "outputs": [],
      "source": [
        "def naive_matrix_vector_dot(x, y):\n",
        "    z = np.zeros(x.shape[0])\n",
        "    for i in range(x.shape[0]):\n",
        "        z[i] = naive_vector_dot(x[i, :], y)\n",
        "    return z"
      ]
    },
    {
      "cell_type": "code",
      "execution_count": 46,
      "metadata": {
        "id": "D9D9tWzjhBSI"
      },
      "outputs": [],
      "source": [
        "def naive_matrix_dot(x, y):\n",
        "    assert len(x.shape) == 2\n",
        "    assert len(y.shape) == 2\n",
        "    assert x.shape[1] == y.shape[0]\n",
        "    z = np.zeros((x.shape[0], y.shape[1]))\n",
        "    for i in range(x.shape[0]):\n",
        "        for j in range(y.shape[1]):\n",
        "            row_x = x[i, :]\n",
        "            column_y = y[:, j]\n",
        "            z[i, j] = naive_vector_dot(row_x, column_y)\n",
        "    return z"
      ]
    },
    {
      "cell_type": "markdown",
      "metadata": {
        "id": "pCU79f5dhBSJ"
      },
      "source": [
        "### Tensor reshaping"
      ]
    },
    {
      "cell_type": "code",
      "execution_count": 47,
      "metadata": {
        "id": "UOM67DmdhBSJ"
      },
      "outputs": [],
      "source": [
        "train_images = train_images.reshape((60000, 28 * 28))"
      ]
    },
    {
      "cell_type": "code",
      "execution_count": 48,
      "metadata": {
        "id": "lTUxH-G8hBSK",
        "outputId": "2827b2dc-bfd5-4f6d-a796-c076a2d65c72",
        "colab": {
          "base_uri": "https://localhost:8080/"
        }
      },
      "outputs": [
        {
          "output_type": "execute_result",
          "data": {
            "text/plain": [
              "(3, 2)"
            ]
          },
          "metadata": {},
          "execution_count": 48
        }
      ],
      "source": [
        "x = np.array([[0., 1.],\n",
        "             [2., 3.],\n",
        "             [4., 5.]])\n",
        "x.shape"
      ]
    },
    {
      "cell_type": "code",
      "execution_count": 49,
      "metadata": {
        "id": "roErIHiAhBSK",
        "outputId": "8644d3b9-a65e-4180-c04c-e604fb495201",
        "colab": {
          "base_uri": "https://localhost:8080/"
        }
      },
      "outputs": [
        {
          "output_type": "execute_result",
          "data": {
            "text/plain": [
              "array([[0.],\n",
              "       [1.],\n",
              "       [2.],\n",
              "       [3.],\n",
              "       [4.],\n",
              "       [5.]])"
            ]
          },
          "metadata": {},
          "execution_count": 49
        }
      ],
      "source": [
        "x = x.reshape((6, 1))\n",
        "x"
      ]
    },
    {
      "cell_type": "code",
      "execution_count": 50,
      "metadata": {
        "id": "2GdoSquphBSL",
        "outputId": "768e2bc5-c631-4d62-8c95-5ec7952660bf",
        "colab": {
          "base_uri": "https://localhost:8080/"
        }
      },
      "outputs": [
        {
          "output_type": "execute_result",
          "data": {
            "text/plain": [
              "(20, 300)"
            ]
          },
          "metadata": {},
          "execution_count": 50
        }
      ],
      "source": [
        "x = np.zeros((300, 20))\n",
        "x = np.transpose(x)\n",
        "x.shape"
      ]
    },
    {
      "cell_type": "markdown",
      "metadata": {
        "id": "AZ678ifzhBSL"
      },
      "source": [
        "### Geometric interpretation of tensor operations"
      ]
    },
    {
      "cell_type": "markdown",
      "metadata": {
        "id": "hSVSYTgMhBSL"
      },
      "source": [
        "### A geometric interpretation of deep learning"
      ]
    },
    {
      "cell_type": "markdown",
      "metadata": {
        "id": "_6ZO9J8FhBSM"
      },
      "source": [
        "## The engine of neural networks: gradient-based optimization"
      ]
    },
    {
      "cell_type": "markdown",
      "metadata": {
        "id": "ULC-YF6NhBSM"
      },
      "source": [
        "### What's a derivative?"
      ]
    },
    {
      "cell_type": "markdown",
      "metadata": {
        "id": "dRRvVcTqhBSM"
      },
      "source": [
        "### Derivative of a tensor operation: the gradient"
      ]
    },
    {
      "cell_type": "markdown",
      "metadata": {
        "id": "t0Qm7rK6hBSM"
      },
      "source": [
        "### Stochastic gradient descent"
      ]
    },
    {
      "cell_type": "markdown",
      "metadata": {
        "id": "T81fTjcyhBSN"
      },
      "source": [
        "### Chaining derivatives: The Backpropagation algorithm"
      ]
    },
    {
      "cell_type": "markdown",
      "metadata": {
        "id": "U4VC2XhLhBSN"
      },
      "source": [
        "#### The chain rule"
      ]
    },
    {
      "cell_type": "markdown",
      "metadata": {
        "id": "i9Jhy3WAhBSN"
      },
      "source": [
        "#### Automatic differentiation with computation graphs"
      ]
    },
    {
      "cell_type": "markdown",
      "metadata": {
        "id": "LhxwHqGLhBSO"
      },
      "source": [
        "#### The gradient tape in TensorFlow"
      ]
    },
    {
      "cell_type": "code",
      "execution_count": null,
      "metadata": {
        "id": "vIrMFjZ-hBSO"
      },
      "outputs": [],
      "source": [
        "import tensorflow as tf\n",
        "x = tf.Variable(0.)\n",
        "with tf.GradientTape() as tape:\n",
        "    y = 2 * x + 3\n",
        "grad_of_y_wrt_x = tape.gradient(y, x)"
      ]
    },
    {
      "cell_type": "code",
      "execution_count": null,
      "metadata": {
        "id": "IBkrSDIQhBSO"
      },
      "outputs": [],
      "source": [
        "x = tf.Variable(tf.random.uniform((2, 2)))\n",
        "with tf.GradientTape() as tape:\n",
        "    y = 2 * x + 3\n",
        "grad_of_y_wrt_x = tape.gradient(y, x)"
      ]
    },
    {
      "cell_type": "code",
      "execution_count": null,
      "metadata": {
        "id": "PKyOvJMghBSP"
      },
      "outputs": [],
      "source": [
        "W = tf.Variable(tf.random.uniform((2, 2)))\n",
        "b = tf.Variable(tf.zeros((2,)))\n",
        "x = tf.random.uniform((2, 2))\n",
        "with tf.GradientTape() as tape:\n",
        "    y = tf.matmul(x, W) + b\n",
        "grad_of_y_wrt_W_and_b = tape.gradient(y, [W, b])"
      ]
    },
    {
      "cell_type": "markdown",
      "metadata": {
        "id": "6pRIo7CGhBSP"
      },
      "source": [
        "## Looking back at our first example"
      ]
    },
    {
      "cell_type": "code",
      "execution_count": null,
      "metadata": {
        "id": "HhXnkxjAhBSP"
      },
      "outputs": [],
      "source": [
        "(train_images, train_labels), (test_images, test_labels) = mnist.load_data()\n",
        "train_images = train_images.reshape((60000, 28 * 28))\n",
        "train_images = train_images.astype(\"float32\") / 255\n",
        "test_images = test_images.reshape((10000, 28 * 28))\n",
        "test_images = test_images.astype(\"float32\") / 255"
      ]
    },
    {
      "cell_type": "code",
      "execution_count": null,
      "metadata": {
        "id": "EXC-7WYchBSQ"
      },
      "outputs": [],
      "source": [
        "model = keras.Sequential([\n",
        "    layers.Dense(512, activation=\"relu\"),\n",
        "    layers.Dense(10, activation=\"softmax\")\n",
        "])"
      ]
    },
    {
      "cell_type": "code",
      "execution_count": null,
      "metadata": {
        "id": "ba-BEdc7hBSR"
      },
      "outputs": [],
      "source": [
        "model.compile(optimizer=\"rmsprop\",\n",
        "              loss=\"sparse_categorical_crossentropy\",\n",
        "              metrics=[\"accuracy\"])"
      ]
    },
    {
      "cell_type": "code",
      "execution_count": null,
      "metadata": {
        "id": "IKhcE4o-hBSR"
      },
      "outputs": [],
      "source": [
        "model.fit(train_images, train_labels, epochs=5, batch_size=128)"
      ]
    },
    {
      "cell_type": "markdown",
      "metadata": {
        "id": "HMfkHwAThBSS"
      },
      "source": [
        "### Reimplementing our first example from scratch in TensorFlow"
      ]
    },
    {
      "cell_type": "markdown",
      "metadata": {
        "id": "1xgtjpQ4hBSS"
      },
      "source": [
        "#### A simple Dense class"
      ]
    },
    {
      "cell_type": "code",
      "execution_count": null,
      "metadata": {
        "id": "fXopQd4ZhBSS"
      },
      "outputs": [],
      "source": [
        "import tensorflow as tf\n",
        "\n",
        "class NaiveDense:\n",
        "    def __init__(self, input_size, output_size, activation):\n",
        "        self.activation = activation\n",
        "\n",
        "        w_shape = (input_size, output_size)\n",
        "        w_initial_value = tf.random.uniform(w_shape, minval=0, maxval=1e-1)\n",
        "        self.W = tf.Variable(w_initial_value)\n",
        "\n",
        "        b_shape = (output_size,)\n",
        "        b_initial_value = tf.zeros(b_shape)\n",
        "        self.b = tf.Variable(b_initial_value)\n",
        "\n",
        "    def __call__(self, inputs):\n",
        "        return self.activation(tf.matmul(inputs, self.W) + self.b)\n",
        "\n",
        "    @property\n",
        "    def weights(self):\n",
        "        return [self.W, self.b]"
      ]
    },
    {
      "cell_type": "markdown",
      "metadata": {
        "id": "7TeXr3gihBST"
      },
      "source": [
        "#### A simple Sequential class"
      ]
    },
    {
      "cell_type": "code",
      "execution_count": null,
      "metadata": {
        "id": "3hv1i_q6hBST"
      },
      "outputs": [],
      "source": [
        "class NaiveSequential:\n",
        "    def __init__(self, layers):\n",
        "        self.layers = layers\n",
        "\n",
        "    def __call__(self, inputs):\n",
        "        x = inputs\n",
        "        for layer in self.layers:\n",
        "           x = layer(x)\n",
        "        return x\n",
        "\n",
        "    @property\n",
        "    def weights(self):\n",
        "       weights = []\n",
        "       for layer in self.layers:\n",
        "           weights += layer.weights\n",
        "       return weights"
      ]
    },
    {
      "cell_type": "code",
      "execution_count": null,
      "metadata": {
        "id": "DlsZKHCchBSU"
      },
      "outputs": [],
      "source": [
        "model = NaiveSequential([\n",
        "    NaiveDense(input_size=28 * 28, output_size=512, activation=tf.nn.relu),\n",
        "    NaiveDense(input_size=512, output_size=10, activation=tf.nn.softmax)\n",
        "])\n",
        "assert len(model.weights) == 4"
      ]
    },
    {
      "cell_type": "markdown",
      "metadata": {
        "id": "qEqvFfaPhBSU"
      },
      "source": [
        "#### A batch generator"
      ]
    },
    {
      "cell_type": "code",
      "execution_count": null,
      "metadata": {
        "id": "OJBIZd1VhBSU"
      },
      "outputs": [],
      "source": [
        "import math\n",
        "\n",
        "class BatchGenerator:\n",
        "    def __init__(self, images, labels, batch_size=128):\n",
        "        assert len(images) == len(labels)\n",
        "        self.index = 0\n",
        "        self.images = images\n",
        "        self.labels = labels\n",
        "        self.batch_size = batch_size\n",
        "        self.num_batches = math.ceil(len(images) / batch_size)\n",
        "\n",
        "    def next(self):\n",
        "        images = self.images[self.index : self.index + self.batch_size]\n",
        "        labels = self.labels[self.index : self.index + self.batch_size]\n",
        "        self.index += self.batch_size\n",
        "        return images, labels"
      ]
    },
    {
      "cell_type": "markdown",
      "metadata": {
        "id": "ueI5mK2XhBSV"
      },
      "source": [
        "### Running one training step"
      ]
    },
    {
      "cell_type": "code",
      "execution_count": null,
      "metadata": {
        "id": "dF_BXb2ShBSV"
      },
      "outputs": [],
      "source": [
        "def one_training_step(model, images_batch, labels_batch):\n",
        "    with tf.GradientTape() as tape:\n",
        "        predictions = model(images_batch)\n",
        "        per_sample_losses = tf.keras.losses.sparse_categorical_crossentropy(\n",
        "            labels_batch, predictions)\n",
        "        average_loss = tf.reduce_mean(per_sample_losses)\n",
        "    gradients = tape.gradient(average_loss, model.weights)\n",
        "    update_weights(gradients, model.weights)\n",
        "    return average_loss"
      ]
    },
    {
      "cell_type": "code",
      "execution_count": null,
      "metadata": {
        "id": "LME5035fhBSW"
      },
      "outputs": [],
      "source": [
        "learning_rate = 1e-3\n",
        "\n",
        "def update_weights(gradients, weights):\n",
        "    for g, w in zip(gradients, weights):\n",
        "        w.assign_sub(g * learning_rate)"
      ]
    },
    {
      "cell_type": "code",
      "execution_count": null,
      "metadata": {
        "id": "dm2aR3K6hBSW"
      },
      "outputs": [],
      "source": [
        "from tensorflow.keras import optimizers\n",
        "\n",
        "optimizer = optimizers.SGD(learning_rate=1e-3)\n",
        "\n",
        "def update_weights(gradients, weights):\n",
        "    optimizer.apply_gradients(zip(gradients, weights))"
      ]
    },
    {
      "cell_type": "markdown",
      "metadata": {
        "id": "53V13DQMhBSX"
      },
      "source": [
        "### The full training loop"
      ]
    },
    {
      "cell_type": "code",
      "execution_count": null,
      "metadata": {
        "id": "z2k0KOU5hBSX"
      },
      "outputs": [],
      "source": [
        "def fit(model, images, labels, epochs, batch_size=128):\n",
        "    for epoch_counter in range(epochs):\n",
        "        print(f\"Epoch {epoch_counter}\")\n",
        "        batch_generator = BatchGenerator(images, labels)\n",
        "        for batch_counter in range(batch_generator.num_batches):\n",
        "            images_batch, labels_batch = batch_generator.next()\n",
        "            loss = one_training_step(model, images_batch, labels_batch)\n",
        "            if batch_counter % 100 == 0:\n",
        "                print(f\"loss at batch {batch_counter}: {loss:.2f}\")"
      ]
    },
    {
      "cell_type": "code",
      "execution_count": null,
      "metadata": {
        "id": "iPWSeoLghBSY"
      },
      "outputs": [],
      "source": [
        "from tensorflow.keras.datasets import mnist\n",
        "(train_images, train_labels), (test_images, test_labels) = mnist.load_data()\n",
        "\n",
        "train_images = train_images.reshape((60000, 28 * 28))\n",
        "train_images = train_images.astype(\"float32\") / 255\n",
        "test_images = test_images.reshape((10000, 28 * 28))\n",
        "test_images = test_images.astype(\"float32\") / 255\n",
        "\n",
        "fit(model, train_images, train_labels, epochs=10, batch_size=128)"
      ]
    },
    {
      "cell_type": "markdown",
      "metadata": {
        "id": "dcnbg1Y0hBSY"
      },
      "source": [
        "### Evaluating the model"
      ]
    },
    {
      "cell_type": "code",
      "execution_count": null,
      "metadata": {
        "id": "HgxUHBu6hBSY"
      },
      "outputs": [],
      "source": [
        "predictions = model(test_images)\n",
        "predictions = predictions.numpy()\n",
        "predicted_labels = np.argmax(predictions, axis=1)\n",
        "matches = predicted_labels == test_labels\n",
        "print(f\"accuracy: {matches.mean():.2f}\")"
      ]
    },
    {
      "cell_type": "markdown",
      "metadata": {
        "id": "U8L4EEE2hBSZ"
      },
      "source": [
        "## Summary"
      ]
    }
  ],
  "metadata": {
    "colab": {
      "collapsed_sections": [],
      "name": "chapter02_mathematical-building-blocks.i",
      "provenance": [],
      "toc_visible": true,
      "include_colab_link": true
    },
    "kernelspec": {
      "display_name": "Python 3",
      "language": "python",
      "name": "python3"
    },
    "language_info": {
      "codemirror_mode": {
        "name": "ipython",
        "version": 3
      },
      "file_extension": ".py",
      "mimetype": "text/x-python",
      "name": "python",
      "nbconvert_exporter": "python",
      "pygments_lexer": "ipython3",
      "version": "3.7.0"
    },
    "accelerator": "GPU"
  },
  "nbformat": 4,
  "nbformat_minor": 0
}